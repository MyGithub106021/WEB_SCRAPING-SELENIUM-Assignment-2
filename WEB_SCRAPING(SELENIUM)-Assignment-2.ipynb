{
 "cells": [
  {
   "cell_type": "code",
   "execution_count": 1,
   "metadata": {},
   "outputs": [
    {
     "name": "stdout",
     "output_type": "stream",
     "text": [
      "Requirement already satisfied: selenium in c:\\users\\ifath fatima\\anaconda3\\lib\\site-packages (3.141.0)\n",
      "Requirement already satisfied: urllib3 in c:\\users\\ifath fatima\\anaconda3\\lib\\site-packages (from selenium) (1.25.11)\n"
     ]
    }
   ],
   "source": [
    "!pip install selenium"
   ]
  },
  {
   "cell_type": "code",
   "execution_count": 490,
   "metadata": {},
   "outputs": [],
   "source": [
    "import selenium\n",
    "import pandas as pd\n",
    "from selenium import webdriver"
   ]
  },
  {
   "cell_type": "code",
   "execution_count": 587,
   "metadata": {},
   "outputs": [],
   "source": [
    "driver = webdriver.Chrome(\"chromedriver\")"
   ]
  },
  {
   "cell_type": "code",
   "execution_count": 588,
   "metadata": {},
   "outputs": [],
   "source": [
    "url='https://www.naukri.com/'\n",
    "driver.get(url)"
   ]
  },
  {
   "cell_type": "code",
   "execution_count": 589,
   "metadata": {},
   "outputs": [
    {
     "data": {
      "text/plain": [
       "<selenium.webdriver.remote.webelement.WebElement (session=\"9c62d5acb5868e903b2cc7f6aeb05c24\", element=\"f08da14f-2be9-4c53-8662-00afef7930c8\")>"
      ]
     },
     "execution_count": 589,
     "metadata": {},
     "output_type": "execute_result"
    }
   ],
   "source": [
    "search_job=driver.find_element_by_xpath('//input[@class=\"sugInp\"]')\n",
    "search_job"
   ]
  },
  {
   "cell_type": "code",
   "execution_count": 590,
   "metadata": {},
   "outputs": [],
   "source": [
    "search_job.send_keys(\"Data Analyst\")"
   ]
  },
  {
   "cell_type": "code",
   "execution_count": 591,
   "metadata": {},
   "outputs": [
    {
     "data": {
      "text/plain": [
       "<selenium.webdriver.remote.webelement.WebElement (session=\"9c62d5acb5868e903b2cc7f6aeb05c24\", element=\"1e744b21-20d4-4dbb-8fe2-94f73216e100\")>"
      ]
     },
     "execution_count": 591,
     "metadata": {},
     "output_type": "execute_result"
    }
   ],
   "source": [
    "search_loc=driver.find_element_by_xpath('//input[@name=\"location\"]')\n",
    "search_loc"
   ]
  },
  {
   "cell_type": "code",
   "execution_count": 592,
   "metadata": {},
   "outputs": [],
   "source": [
    "search_loc.send_keys(\"Banglore\")"
   ]
  },
  {
   "cell_type": "code",
   "execution_count": 593,
   "metadata": {},
   "outputs": [
    {
     "data": {
      "text/plain": [
       "<selenium.webdriver.remote.webelement.WebElement (session=\"9c62d5acb5868e903b2cc7f6aeb05c24\", element=\"2e354a69-7305-41ca-bd60-68533a3e6e53\")>"
      ]
     },
     "execution_count": 593,
     "metadata": {},
     "output_type": "execute_result"
    }
   ],
   "source": [
    "search_btn=driver.find_element_by_xpath('//button[@class=\"btn\"]')\n",
    "search_btn"
   ]
  },
  {
   "cell_type": "code",
   "execution_count": 594,
   "metadata": {},
   "outputs": [],
   "source": [
    "search_btn.click()"
   ]
  },
  {
   "cell_type": "code",
   "execution_count": 503,
   "metadata": {},
   "outputs": [
    {
     "data": {
      "text/plain": [
       "[]"
      ]
     },
     "execution_count": 503,
     "metadata": {},
     "output_type": "execute_result"
    }
   ],
   "source": [
    "titles_tags=driver.find_elements_by_xpath('//a[@class=\"title fw500 ellipsis\"]')\n",
    "titles_tags"
   ]
  },
  {
   "cell_type": "code",
   "execution_count": 12,
   "metadata": {},
   "outputs": [
    {
     "data": {
      "text/plain": [
       "[]"
      ]
     },
     "execution_count": 12,
     "metadata": {},
     "output_type": "execute_result"
    }
   ],
   "source": [
    "job_titles=[]\n",
    "for i in titles_tags:\n",
    "    job_titles.append(i.text)\n",
    "job_titles"
   ]
  },
  {
   "cell_type": "code",
   "execution_count": 13,
   "metadata": {},
   "outputs": [
    {
     "data": {
      "text/plain": [
       "[]"
      ]
     },
     "execution_count": 13,
     "metadata": {},
     "output_type": "execute_result"
    }
   ],
   "source": [
    "companies_tags=driver.find_elements_by_xpath(\"//a[@class='subTitle ellipsis fleft']\")\n",
    "companies_tags"
   ]
  },
  {
   "cell_type": "code",
   "execution_count": 14,
   "metadata": {},
   "outputs": [
    {
     "data": {
      "text/plain": [
       "[]"
      ]
     },
     "execution_count": 14,
     "metadata": {},
     "output_type": "execute_result"
    }
   ],
   "source": [
    "company_names=[]\n",
    "for i in companies_tags:\n",
    "    company_names.append(i.text)\n",
    "company_names"
   ]
  },
  {
   "cell_type": "code",
   "execution_count": 15,
   "metadata": {},
   "outputs": [
    {
     "data": {
      "text/plain": [
       "[]"
      ]
     },
     "execution_count": 15,
     "metadata": {},
     "output_type": "execute_result"
    }
   ],
   "source": [
    "location_tags=driver.find_elements_by_xpath('//li[@class=\"fleft grey-text br2 placeHolderLi location\"]')\n",
    "location_tags\n"
   ]
  },
  {
   "cell_type": "code",
   "execution_count": 16,
   "metadata": {},
   "outputs": [
    {
     "data": {
      "text/plain": [
       "[]"
      ]
     },
     "execution_count": 16,
     "metadata": {},
     "output_type": "execute_result"
    }
   ],
   "source": [
    "location_names=[]\n",
    "for i in location_tags:\n",
    "    location_names.append(i.text)\n",
    "location_names"
   ]
  },
  {
   "cell_type": "code",
   "execution_count": 17,
   "metadata": {},
   "outputs": [
    {
     "data": {
      "text/plain": [
       "[]"
      ]
     },
     "execution_count": 17,
     "metadata": {},
     "output_type": "execute_result"
    }
   ],
   "source": [
    "experience_tags=driver.find_elements_by_xpath('//li[@class=\"fleft grey-text br2 placeHolderLi experience\"]')\n",
    "experience_tags"
   ]
  },
  {
   "cell_type": "code",
   "execution_count": 18,
   "metadata": {},
   "outputs": [
    {
     "data": {
      "text/plain": [
       "[]"
      ]
     },
     "execution_count": 18,
     "metadata": {},
     "output_type": "execute_result"
    }
   ],
   "source": [
    "experience_job=[]\n",
    "for i in experience_tags:\n",
    "    experience_job.append(i.text)\n",
    "experience_job"
   ]
  },
  {
   "cell_type": "code",
   "execution_count": 19,
   "metadata": {},
   "outputs": [
    {
     "name": "stdout",
     "output_type": "stream",
     "text": [
      "0 0 0 0\n"
     ]
    }
   ],
   "source": [
    "print(len(job_titles),len(company_names),len(experience_job),len(location_names))"
   ]
  },
  {
   "cell_type": "code",
   "execution_count": 20,
   "metadata": {},
   "outputs": [
    {
     "data": {
      "text/html": [
       "<div>\n",
       "<style scoped>\n",
       "    .dataframe tbody tr th:only-of-type {\n",
       "        vertical-align: middle;\n",
       "    }\n",
       "\n",
       "    .dataframe tbody tr th {\n",
       "        vertical-align: top;\n",
       "    }\n",
       "\n",
       "    .dataframe thead th {\n",
       "        text-align: right;\n",
       "    }\n",
       "</style>\n",
       "<table border=\"1\" class=\"dataframe\">\n",
       "  <thead>\n",
       "    <tr style=\"text-align: right;\">\n",
       "      <th></th>\n",
       "      <th>Titles</th>\n",
       "      <th>Company</th>\n",
       "      <th>Experience</th>\n",
       "      <th>Location</th>\n",
       "    </tr>\n",
       "  </thead>\n",
       "  <tbody>\n",
       "  </tbody>\n",
       "</table>\n",
       "</div>"
      ],
      "text/plain": [
       "Empty DataFrame\n",
       "Columns: [Titles, Company, Experience, Location]\n",
       "Index: []"
      ]
     },
     "execution_count": 20,
     "metadata": {},
     "output_type": "execute_result"
    }
   ],
   "source": [
    "job=pd.DataFrame({})\n",
    "job['Titles']=job_titles[:10]\n",
    "job['Company']=company_names[:10]\n",
    "job['Experience']=experience_job[:10]\n",
    "job['Location']=location_names[:10]\n",
    "job"
   ]
  },
  {
   "cell_type": "code",
   "execution_count": null,
   "metadata": {},
   "outputs": [],
   "source": []
  },
  {
   "cell_type": "markdown",
   "metadata": {},
   "source": [
    "2:Write a python program to scrape data for “Data Scientist” Job position in \n",
    "“Bangalore” location. You have to scrape the job-title, job-location,\n",
    "company_name, full job-description. You have to scrape first 10 jobs data.\n",
    "This task will be done in following steps:\n",
    "1. first get the webpage https://www.naukri.com/\n",
    "2. Enter “Data Scientist” in “Skill,Designations,Companies” field and enter \n",
    "“Bangalore” in “enter the location” field.\n",
    "3. Then click the search button.\n",
    "4. Then scrape the data for the first 10 jobs results you get.\n",
    "5. Finally create a dataframe of the scraped data.\n",
    "Note- 1. All of the above steps have to be done in code. No step is to be done"
   ]
  },
  {
   "cell_type": "code",
   "execution_count": 508,
   "metadata": {},
   "outputs": [],
   "source": [
    "driver = webdriver.Chrome(\"chromedriver\")"
   ]
  },
  {
   "cell_type": "code",
   "execution_count": 509,
   "metadata": {},
   "outputs": [],
   "source": [
    "url='https://www.naukri.com/'\n",
    "driver.get(url)"
   ]
  },
  {
   "cell_type": "code",
   "execution_count": 510,
   "metadata": {},
   "outputs": [
    {
     "data": {
      "text/plain": [
       "<selenium.webdriver.remote.webelement.WebElement (session=\"dcd39cecd33b698913a6edd1ee74e7e1\", element=\"445c24d5-4cd9-49bb-812e-41d2ab215807\")>"
      ]
     },
     "execution_count": 510,
     "metadata": {},
     "output_type": "execute_result"
    }
   ],
   "source": [
    "search_job1=driver.find_element_by_xpath('//input[@class=\"sugInp\"]')\n",
    "search_job1"
   ]
  },
  {
   "cell_type": "code",
   "execution_count": 511,
   "metadata": {},
   "outputs": [],
   "source": [
    "search_job1.send_keys(\"Data Scientist\")"
   ]
  },
  {
   "cell_type": "code",
   "execution_count": 512,
   "metadata": {},
   "outputs": [
    {
     "data": {
      "text/plain": [
       "<selenium.webdriver.remote.webelement.WebElement (session=\"dcd39cecd33b698913a6edd1ee74e7e1\", element=\"ea2ba828-72c3-416f-8546-7c9ab7f20409\")>"
      ]
     },
     "execution_count": 512,
     "metadata": {},
     "output_type": "execute_result"
    }
   ],
   "source": [
    "search_loc=driver.find_element_by_xpath('//input[@name=\"location\"]')\n",
    "search_loc"
   ]
  },
  {
   "cell_type": "code",
   "execution_count": 513,
   "metadata": {},
   "outputs": [],
   "source": [
    "search_loc.send_keys(\"Banglore\")"
   ]
  },
  {
   "cell_type": "code",
   "execution_count": 514,
   "metadata": {},
   "outputs": [
    {
     "data": {
      "text/plain": [
       "<selenium.webdriver.remote.webelement.WebElement (session=\"dcd39cecd33b698913a6edd1ee74e7e1\", element=\"61479e89-8872-4137-b543-4a515439744d\")>"
      ]
     },
     "execution_count": 514,
     "metadata": {},
     "output_type": "execute_result"
    }
   ],
   "source": [
    "search_btn=driver.find_element_by_xpath('//button[@class=\"btn\"]')\n",
    "search_btn"
   ]
  },
  {
   "cell_type": "code",
   "execution_count": 515,
   "metadata": {},
   "outputs": [],
   "source": [
    "search_btn.click()"
   ]
  },
  {
   "cell_type": "code",
   "execution_count": 28,
   "metadata": {},
   "outputs": [
    {
     "data": {
      "text/plain": [
       "[]"
      ]
     },
     "execution_count": 28,
     "metadata": {},
     "output_type": "execute_result"
    }
   ],
   "source": [
    "title_name=driver.find_elements_by_xpath('//a[@class=\"title fw500 ellipsis\"]')\n",
    "title_name"
   ]
  },
  {
   "cell_type": "code",
   "execution_count": 29,
   "metadata": {},
   "outputs": [
    {
     "data": {
      "text/plain": [
       "[]"
      ]
     },
     "execution_count": 29,
     "metadata": {},
     "output_type": "execute_result"
    }
   ],
   "source": [
    "job_title=[]\n",
    "for i in title_name:\n",
    "    job_title.append(i.text)\n",
    "job_title"
   ]
  },
  {
   "cell_type": "code",
   "execution_count": 30,
   "metadata": {},
   "outputs": [
    {
     "data": {
      "text/plain": [
       "[]"
      ]
     },
     "execution_count": 30,
     "metadata": {},
     "output_type": "execute_result"
    }
   ],
   "source": [
    "exp_tag=driver.find_elements_by_xpath('//li[@class=\"fleft grey-text br2 placeHolderLi experience\"]')\n",
    "exp_tag"
   ]
  },
  {
   "cell_type": "code",
   "execution_count": 31,
   "metadata": {},
   "outputs": [
    {
     "data": {
      "text/plain": [
       "[]"
      ]
     },
     "execution_count": 31,
     "metadata": {},
     "output_type": "execute_result"
    }
   ],
   "source": [
    "experience_job=[]\n",
    "for i in exp_tag:\n",
    "    experience_job.append(i.text)\n",
    "experience_job"
   ]
  },
  {
   "cell_type": "code",
   "execution_count": 32,
   "metadata": {},
   "outputs": [
    {
     "data": {
      "text/plain": [
       "[]"
      ]
     },
     "execution_count": 32,
     "metadata": {},
     "output_type": "execute_result"
    }
   ],
   "source": [
    "job_description=driver.find_elements_by_xpath('//div[@class=\"job-description fs12 grey-text\"]')\n",
    "job_description\n"
   ]
  },
  {
   "cell_type": "code",
   "execution_count": 33,
   "metadata": {},
   "outputs": [
    {
     "data": {
      "text/plain": [
       "[]"
      ]
     },
     "execution_count": 33,
     "metadata": {},
     "output_type": "execute_result"
    }
   ],
   "source": [
    "job_desc=[]\n",
    "for i in job_description:\n",
    "    job_desc.append(i.text)\n",
    "job_desc"
   ]
  },
  {
   "cell_type": "code",
   "execution_count": 34,
   "metadata": {},
   "outputs": [
    {
     "data": {
      "text/plain": [
       "[]"
      ]
     },
     "execution_count": 34,
     "metadata": {},
     "output_type": "execute_result"
    }
   ],
   "source": [
    "location_tags=driver.find_elements_by_xpath('//li[@class=\"fleft grey-text br2 placeHolderLi location\"]')\n",
    "location_tags"
   ]
  },
  {
   "cell_type": "code",
   "execution_count": 35,
   "metadata": {},
   "outputs": [
    {
     "data": {
      "text/plain": [
       "[]"
      ]
     },
     "execution_count": 35,
     "metadata": {},
     "output_type": "execute_result"
    }
   ],
   "source": [
    "location=[]\n",
    "for i in location_tags:\n",
    "    location.append(i.text)\n",
    "location"
   ]
  },
  {
   "cell_type": "code",
   "execution_count": 36,
   "metadata": {},
   "outputs": [
    {
     "data": {
      "text/plain": [
       "[]"
      ]
     },
     "execution_count": 36,
     "metadata": {},
     "output_type": "execute_result"
    }
   ],
   "source": [
    "company_tags=driver.find_elements_by_xpath('//a[@class=\"subTitle ellipsis fleft\"]')\n",
    "company_tags"
   ]
  },
  {
   "cell_type": "code",
   "execution_count": 37,
   "metadata": {},
   "outputs": [
    {
     "data": {
      "text/plain": [
       "[]"
      ]
     },
     "execution_count": 37,
     "metadata": {},
     "output_type": "execute_result"
    }
   ],
   "source": [
    "companies=[]\n",
    "for i in company_tags:\n",
    "    companies.append(i.text)\n",
    "companies"
   ]
  },
  {
   "cell_type": "code",
   "execution_count": 38,
   "metadata": {},
   "outputs": [
    {
     "name": "stdout",
     "output_type": "stream",
     "text": [
      "0 0 0 0 0\n"
     ]
    }
   ],
   "source": [
    "print(len(job_title),len(companies),len(location),len(experience_job),len(job_desc))"
   ]
  },
  {
   "cell_type": "code",
   "execution_count": 39,
   "metadata": {},
   "outputs": [
    {
     "data": {
      "text/html": [
       "<div>\n",
       "<style scoped>\n",
       "    .dataframe tbody tr th:only-of-type {\n",
       "        vertical-align: middle;\n",
       "    }\n",
       "\n",
       "    .dataframe tbody tr th {\n",
       "        vertical-align: top;\n",
       "    }\n",
       "\n",
       "    .dataframe thead th {\n",
       "        text-align: right;\n",
       "    }\n",
       "</style>\n",
       "<table border=\"1\" class=\"dataframe\">\n",
       "  <thead>\n",
       "    <tr style=\"text-align: right;\">\n",
       "      <th></th>\n",
       "      <th>Title</th>\n",
       "      <th>Company</th>\n",
       "      <th>Location</th>\n",
       "      <th>Experience_Required</th>\n",
       "      <th>Job_Description</th>\n",
       "    </tr>\n",
       "  </thead>\n",
       "  <tbody>\n",
       "  </tbody>\n",
       "</table>\n",
       "</div>"
      ],
      "text/plain": [
       "Empty DataFrame\n",
       "Columns: [Title, Company, Location, Experience_Required, Job_Description]\n",
       "Index: []"
      ]
     },
     "execution_count": 39,
     "metadata": {},
     "output_type": "execute_result"
    }
   ],
   "source": [
    "Job1=pd.DataFrame({})\n",
    "Job1['Title']=job_title[:10]\n",
    "Job1['Company']=companies[:10]\n",
    "Job1['Location']=location[:10]\n",
    "Job1['Experience_Required']=experience_job[:10]\n",
    "Job1['Job_Description']=job_desc[:10]\n",
    "Job1"
   ]
  },
  {
   "cell_type": "code",
   "execution_count": null,
   "metadata": {},
   "outputs": [],
   "source": []
  },
  {
   "cell_type": "markdown",
   "metadata": {},
   "source": [
    "2.Please note that you have to scrape full job description. For that you may have to \n",
    "open each job separately as shown below"
   ]
  },
  {
   "cell_type": "code",
   "execution_count": 40,
   "metadata": {},
   "outputs": [],
   "source": [
    "import pandas as pd\n",
    "import selenium\n",
    "from selenium import webdriver\n",
    "import time\n",
    "from selenium.common.exceptions import NoSuchElementException"
   ]
  },
  {
   "cell_type": "code",
   "execution_count": 41,
   "metadata": {},
   "outputs": [],
   "source": [
    "driver=webdriver.Chrome(\"chromedriver\")\n",
    "driver.get(\"https://www.naukri.com/\")"
   ]
  },
  {
   "cell_type": "code",
   "execution_count": 42,
   "metadata": {},
   "outputs": [
    {
     "data": {
      "text/plain": [
       "<selenium.webdriver.remote.webelement.WebElement (session=\"78423919bfd7f0a0b077abd4db961399\", element=\"96ccc920-c539-4a08-9501-8d6ae561aa55\")>"
      ]
     },
     "execution_count": 42,
     "metadata": {},
     "output_type": "execute_result"
    }
   ],
   "source": [
    "search_job2=driver.find_element_by_xpath('//input[@class=\"sugInp\"]')\n",
    "search_job2"
   ]
  },
  {
   "cell_type": "code",
   "execution_count": 43,
   "metadata": {},
   "outputs": [],
   "source": [
    "search_job2.send_keys(\"Data Scientist\")"
   ]
  },
  {
   "cell_type": "code",
   "execution_count": 44,
   "metadata": {},
   "outputs": [
    {
     "data": {
      "text/plain": [
       "<selenium.webdriver.remote.webelement.WebElement (session=\"78423919bfd7f0a0b077abd4db961399\", element=\"12b67220-22e5-448a-9743-fe876ff7cdd6\")>"
      ]
     },
     "execution_count": 44,
     "metadata": {},
     "output_type": "execute_result"
    }
   ],
   "source": [
    "search_loc2=driver.find_element_by_xpath('//input[@name=\"location\"]')\n",
    "search_loc2"
   ]
  },
  {
   "cell_type": "code",
   "execution_count": 45,
   "metadata": {},
   "outputs": [],
   "source": [
    "search_loc2.send_keys(\"Banglore\")"
   ]
  },
  {
   "cell_type": "code",
   "execution_count": 46,
   "metadata": {},
   "outputs": [
    {
     "data": {
      "text/plain": [
       "<selenium.webdriver.remote.webelement.WebElement (session=\"78423919bfd7f0a0b077abd4db961399\", element=\"caffd61f-562c-470a-8697-cadf0e99f72b\")>"
      ]
     },
     "execution_count": 46,
     "metadata": {},
     "output_type": "execute_result"
    }
   ],
   "source": [
    "search_bttn=driver.find_element_by_xpath('//button[@class=\"btn\"]')\n",
    "search_bttn"
   ]
  },
  {
   "cell_type": "code",
   "execution_count": 47,
   "metadata": {},
   "outputs": [],
   "source": [
    "search_bttn.click()"
   ]
  },
  {
   "cell_type": "code",
   "execution_count": 48,
   "metadata": {},
   "outputs": [],
   "source": [
    "urls=[]\n",
    "for i in driver.find_elements_by_xpath('//a[@class=\"title fw500 ellipsis\"]'):\n",
    "    urls.append(i.get_attribute(\"href\"))"
   ]
  },
  {
   "cell_type": "code",
   "execution_count": 49,
   "metadata": {},
   "outputs": [
    {
     "data": {
      "text/plain": [
       "0"
      ]
     },
     "execution_count": 49,
     "metadata": {},
     "output_type": "execute_result"
    }
   ],
   "source": [
    "len(urls)"
   ]
  },
  {
   "cell_type": "code",
   "execution_count": 50,
   "metadata": {},
   "outputs": [
    {
     "data": {
      "text/plain": [
       "[]"
      ]
     },
     "execution_count": 50,
     "metadata": {},
     "output_type": "execute_result"
    }
   ],
   "source": [
    "urls"
   ]
  },
  {
   "cell_type": "code",
   "execution_count": 51,
   "metadata": {},
   "outputs": [],
   "source": [
    "#defining variables\n",
    "job_title=[]\n",
    "job_description=[]"
   ]
  },
  {
   "cell_type": "code",
   "execution_count": 52,
   "metadata": {},
   "outputs": [],
   "source": [
    "for i in urls[:10]:\n",
    "    driver.get(i)\n",
    "    time.sleep(3)\n",
    "    \n",
    "    try:\n",
    "        job=driver.find_element_by_xpath('//h1[@itemprop=\"headline\"]')\n",
    "        \n",
    "        job_title.append(job.text.replace(\"/n\",\"new line\"))\n",
    "    except:\n",
    "        job_title.append('--')\n",
    "    \n",
    "    try:\n",
    "        job_desc=driver.find_element_by_xpath('//section[@class=\"getJobDescription JD av_textblock_section\"]')\n",
    "        job_description.append(job_desc.text)\n",
    "    except:\n",
    "        job_description.append('--')\n"
   ]
  },
  {
   "cell_type": "code",
   "execution_count": 53,
   "metadata": {},
   "outputs": [
    {
     "name": "stdout",
     "output_type": "stream",
     "text": [
      "0\n",
      "0\n"
     ]
    }
   ],
   "source": [
    "print(len(job_title))\n",
    "print(len(job_description))"
   ]
  },
  {
   "cell_type": "code",
   "execution_count": 54,
   "metadata": {},
   "outputs": [
    {
     "data": {
      "text/plain": [
       "[]"
      ]
     },
     "execution_count": 54,
     "metadata": {},
     "output_type": "execute_result"
    }
   ],
   "source": [
    "job_title"
   ]
  },
  {
   "cell_type": "code",
   "execution_count": 55,
   "metadata": {},
   "outputs": [
    {
     "data": {
      "text/plain": [
       "[]"
      ]
     },
     "execution_count": 55,
     "metadata": {},
     "output_type": "execute_result"
    }
   ],
   "source": [
    "job_description"
   ]
  },
  {
   "cell_type": "code",
   "execution_count": null,
   "metadata": {},
   "outputs": [],
   "source": []
  },
  {
   "cell_type": "markdown",
   "metadata": {},
   "source": [
    "3: In this question you have to scrape data using the filters available on the \n",
    "webpageYou have to use the location and salary filter.\n",
    "You have to scrape data for “Data Scientist” designation for first 10 job results.\n",
    "You have to scrape the job-title, job-location, company_name,\n",
    "experience_required.\n",
    "The location filter to be used is “Delhi/NCR”\n",
    "The salary filter to be used is “3-6” lakhs"
   ]
  },
  {
   "cell_type": "code",
   "execution_count": 56,
   "metadata": {},
   "outputs": [],
   "source": [
    "url='https://www.naukri.com/'\n",
    "driver.get(url)"
   ]
  },
  {
   "cell_type": "code",
   "execution_count": 57,
   "metadata": {},
   "outputs": [
    {
     "data": {
      "text/plain": [
       "<selenium.webdriver.remote.webelement.WebElement (session=\"78423919bfd7f0a0b077abd4db961399\", element=\"5a4bad31-68d2-417b-bef4-2a0772a3504d\")>"
      ]
     },
     "execution_count": 57,
     "metadata": {},
     "output_type": "execute_result"
    }
   ],
   "source": [
    "search_job3=driver.find_element_by_xpath('//input[@class=\"sugInp\"]')\n",
    "search_job3"
   ]
  },
  {
   "cell_type": "code",
   "execution_count": 58,
   "metadata": {},
   "outputs": [],
   "source": [
    "search_job3.send_keys(\"Data Scientist\")"
   ]
  },
  {
   "cell_type": "code",
   "execution_count": 59,
   "metadata": {},
   "outputs": [
    {
     "data": {
      "text/plain": [
       "<selenium.webdriver.remote.webelement.WebElement (session=\"78423919bfd7f0a0b077abd4db961399\", element=\"49551780-3aec-426f-8fc4-3e97af78ae23\")>"
      ]
     },
     "execution_count": 59,
     "metadata": {},
     "output_type": "execute_result"
    }
   ],
   "source": [
    "search_Btn=driver.find_element_by_xpath('//button[@class=\"btn\"]')\n",
    "search_Btn"
   ]
  },
  {
   "cell_type": "code",
   "execution_count": 60,
   "metadata": {},
   "outputs": [],
   "source": [
    "search_Btn.click()"
   ]
  },
  {
   "cell_type": "code",
   "execution_count": 61,
   "metadata": {},
   "outputs": [
    {
     "data": {
      "text/plain": [
       "[]"
      ]
     },
     "execution_count": 61,
     "metadata": {},
     "output_type": "execute_result"
    }
   ],
   "source": [
    "title_tags=driver.find_elements_by_xpath('//a[@class=\"title fw500 ellipsis\"]')\n",
    "title_tags"
   ]
  },
  {
   "cell_type": "code",
   "execution_count": 62,
   "metadata": {},
   "outputs": [
    {
     "data": {
      "text/plain": [
       "[]"
      ]
     },
     "execution_count": 62,
     "metadata": {},
     "output_type": "execute_result"
    }
   ],
   "source": [
    "titles=[]\n",
    "for i in title_tags:\n",
    "    titles.append(i.text)\n",
    "titles"
   ]
  },
  {
   "cell_type": "code",
   "execution_count": 63,
   "metadata": {},
   "outputs": [
    {
     "data": {
      "text/plain": [
       "[]"
      ]
     },
     "execution_count": 63,
     "metadata": {},
     "output_type": "execute_result"
    }
   ],
   "source": [
    "location_tag=driver.find_elements_by_xpath('//li[@class=\"fleft grey-text br2 placeHolderLi location\"]')\n",
    "location_tag"
   ]
  },
  {
   "cell_type": "code",
   "execution_count": 64,
   "metadata": {},
   "outputs": [
    {
     "data": {
      "text/plain": [
       "[]"
      ]
     },
     "execution_count": 64,
     "metadata": {},
     "output_type": "execute_result"
    }
   ],
   "source": [
    "location=[]\n",
    "for i in location_tag:\n",
    "    location.append(i.text)\n",
    "location"
   ]
  },
  {
   "cell_type": "code",
   "execution_count": 65,
   "metadata": {},
   "outputs": [
    {
     "data": {
      "text/plain": [
       "[]"
      ]
     },
     "execution_count": 65,
     "metadata": {},
     "output_type": "execute_result"
    }
   ],
   "source": [
    "company_tag=driver.find_elements_by_xpath('//a[@class=\"subTitle ellipsis fleft\"]')\n",
    "company_tag"
   ]
  },
  {
   "cell_type": "code",
   "execution_count": 66,
   "metadata": {},
   "outputs": [
    {
     "data": {
      "text/plain": [
       "[]"
      ]
     },
     "execution_count": 66,
     "metadata": {},
     "output_type": "execute_result"
    }
   ],
   "source": [
    "company=[]\n",
    "for i in company_tag:\n",
    "    company.append(i.text)\n",
    "company"
   ]
  },
  {
   "cell_type": "code",
   "execution_count": 67,
   "metadata": {},
   "outputs": [
    {
     "data": {
      "text/plain": [
       "[]"
      ]
     },
     "execution_count": 67,
     "metadata": {},
     "output_type": "execute_result"
    }
   ],
   "source": [
    "Exp_tag=driver.find_elements_by_xpath('//li[@class=\"fleft grey-text br2 placeHolderLi experience\"]')\n",
    "Exp_tag"
   ]
  },
  {
   "cell_type": "code",
   "execution_count": 68,
   "metadata": {},
   "outputs": [
    {
     "data": {
      "text/plain": [
       "[]"
      ]
     },
     "execution_count": 68,
     "metadata": {},
     "output_type": "execute_result"
    }
   ],
   "source": [
    "experience=[]\n",
    "for i in Exp_tag:\n",
    "    experience.append(i.text)\n",
    "experience"
   ]
  },
  {
   "cell_type": "code",
   "execution_count": 69,
   "metadata": {},
   "outputs": [
    {
     "name": "stdout",
     "output_type": "stream",
     "text": [
      "0 0 0 0\n"
     ]
    }
   ],
   "source": [
    "print(len(titles),len(location),len(company),len(experience))"
   ]
  },
  {
   "cell_type": "code",
   "execution_count": 70,
   "metadata": {},
   "outputs": [
    {
     "data": {
      "text/html": [
       "<div>\n",
       "<style scoped>\n",
       "    .dataframe tbody tr th:only-of-type {\n",
       "        vertical-align: middle;\n",
       "    }\n",
       "\n",
       "    .dataframe tbody tr th {\n",
       "        vertical-align: top;\n",
       "    }\n",
       "\n",
       "    .dataframe thead th {\n",
       "        text-align: right;\n",
       "    }\n",
       "</style>\n",
       "<table border=\"1\" class=\"dataframe\">\n",
       "  <thead>\n",
       "    <tr style=\"text-align: right;\">\n",
       "      <th></th>\n",
       "      <th>TITLE</th>\n",
       "      <th>COMPANY</th>\n",
       "      <th>LOCATION</th>\n",
       "      <th>EXP_REQ</th>\n",
       "    </tr>\n",
       "  </thead>\n",
       "  <tbody>\n",
       "  </tbody>\n",
       "</table>\n",
       "</div>"
      ],
      "text/plain": [
       "Empty DataFrame\n",
       "Columns: [TITLE, COMPANY, LOCATION, EXP_REQ]\n",
       "Index: []"
      ]
     },
     "execution_count": 70,
     "metadata": {},
     "output_type": "execute_result"
    }
   ],
   "source": [
    "Delhi_job=pd.DataFrame({})\n",
    "Delhi_job['TITLE']=titles[:10]\n",
    "Delhi_job['COMPANY']=location[:10]\n",
    "Delhi_job['LOCATION']=company[:10]\n",
    "Delhi_job['EXP_REQ']=experience[:10]\n",
    "Delhi_job\n"
   ]
  },
  {
   "cell_type": "code",
   "execution_count": null,
   "metadata": {},
   "outputs": [],
   "source": []
  },
  {
   "cell_type": "markdown",
   "metadata": {},
   "source": [
    "Q4: Write a python program to scrape data for first 10 job results for Data scientist \n",
    "Designation in Noida location. You have to scrape company_name, No. of days \n",
    "ago when job was posted, Rating of the company.\n",
    "This task will be done in following steps:\n",
    "1. first get the webpage https://www.glassdoor.co.in/index.htm\n",
    "2. Enter “Data Scientist” in “Job Title,Keyword,Company” field and enter “Noida” \n",
    "in “location” field.3. Then click the search button. You will land up in the below page:\n",
    "4. Then scrape the data for the first 10 jobs results you get in the above shown \n",
    "page.5. Finally create a dataframe of the scraped data.\n",
    "Note- All of the above steps have to be done in code. No step is to be done \n",
    "manually.\n"
   ]
  },
  {
   "cell_type": "code",
   "execution_count": 516,
   "metadata": {},
   "outputs": [],
   "source": [
    "driver=webdriver.Chrome(\"chromedriver\")\n",
    "driver.get(\"https://www.glassdoor.co.in/member/home/index.htm\")"
   ]
  },
  {
   "cell_type": "code",
   "execution_count": 517,
   "metadata": {},
   "outputs": [
    {
     "data": {
      "text/plain": [
       "<selenium.webdriver.remote.webelement.WebElement (session=\"c86df7293dd68afdf5393e749f20d81e\", element=\"70fedc3e-7698-4901-b3a8-bd536292c1a3\")>"
      ]
     },
     "execution_count": 517,
     "metadata": {},
     "output_type": "execute_result"
    }
   ],
   "source": [
    "search_job4=driver.find_element_by_xpath('//input[@id=\"scKeyword\"]')\n",
    "search_job4"
   ]
  },
  {
   "cell_type": "code",
   "execution_count": 518,
   "metadata": {},
   "outputs": [],
   "source": [
    "search_job4.send_keys('Data Scientist')"
   ]
  },
  {
   "cell_type": "code",
   "execution_count": 519,
   "metadata": {},
   "outputs": [
    {
     "data": {
      "text/plain": [
       "<selenium.webdriver.remote.webelement.WebElement (session=\"c86df7293dd68afdf5393e749f20d81e\", element=\"81a861f6-cc2a-4440-8a56-695653a21dcb\")>"
      ]
     },
     "execution_count": 519,
     "metadata": {},
     "output_type": "execute_result"
    }
   ],
   "source": [
    "search_loc4=driver.find_element_by_xpath('//input[@id=\"scLocation\"]')\n",
    "search_loc4"
   ]
  },
  {
   "cell_type": "code",
   "execution_count": 520,
   "metadata": {},
   "outputs": [],
   "source": [
    "search_loc4.send_keys(\"Noida\")"
   ]
  },
  {
   "cell_type": "code",
   "execution_count": 521,
   "metadata": {},
   "outputs": [
    {
     "data": {
      "text/plain": [
       "<selenium.webdriver.remote.webelement.WebElement (session=\"c86df7293dd68afdf5393e749f20d81e\", element=\"e6b93a42-d0a8-4fc8-ad5d-35dd245c7b09\")>"
      ]
     },
     "execution_count": 521,
     "metadata": {},
     "output_type": "execute_result"
    }
   ],
   "source": [
    "arrow_btn=driver.find_element_by_id('prefix__icon-arrow-1')\n",
    "arrow_btn"
   ]
  },
  {
   "cell_type": "code",
   "execution_count": 522,
   "metadata": {},
   "outputs": [],
   "source": [
    "arrow_btn.click()"
   ]
  },
  {
   "cell_type": "code",
   "execution_count": 524,
   "metadata": {},
   "outputs": [
    {
     "data": {
      "text/plain": [
       "[<selenium.webdriver.remote.webelement.WebElement (session=\"c86df7293dd68afdf5393e749f20d81e\", element=\"cff79ab6-e7ef-408a-ab37-af9a77c10dc0\")>,\n",
       " <selenium.webdriver.remote.webelement.WebElement (session=\"c86df7293dd68afdf5393e749f20d81e\", element=\"97ce6f29-3f7e-4df5-901f-b8b65c91b63b\")>,\n",
       " <selenium.webdriver.remote.webelement.WebElement (session=\"c86df7293dd68afdf5393e749f20d81e\", element=\"2706903f-800f-4770-8ba1-066e1f762916\")>,\n",
       " <selenium.webdriver.remote.webelement.WebElement (session=\"c86df7293dd68afdf5393e749f20d81e\", element=\"ac9cfe58-04d9-4034-a273-bb967e0c9270\")>,\n",
       " <selenium.webdriver.remote.webelement.WebElement (session=\"c86df7293dd68afdf5393e749f20d81e\", element=\"52f05a05-bc47-4940-871d-a292813059ff\")>,\n",
       " <selenium.webdriver.remote.webelement.WebElement (session=\"c86df7293dd68afdf5393e749f20d81e\", element=\"dcd82fb0-c71b-4e87-a3e2-d49b3df0cc0f\")>,\n",
       " <selenium.webdriver.remote.webelement.WebElement (session=\"c86df7293dd68afdf5393e749f20d81e\", element=\"badb2d74-3b32-452b-9d76-78491bbe66af\")>,\n",
       " <selenium.webdriver.remote.webelement.WebElement (session=\"c86df7293dd68afdf5393e749f20d81e\", element=\"b68d398d-0117-4c22-9460-dd904f30d374\")>,\n",
       " <selenium.webdriver.remote.webelement.WebElement (session=\"c86df7293dd68afdf5393e749f20d81e\", element=\"289c7fde-0103-452d-9582-85cb13998c62\")>,\n",
       " <selenium.webdriver.remote.webelement.WebElement (session=\"c86df7293dd68afdf5393e749f20d81e\", element=\"09122622-e5f2-46d0-a0d3-feb5ccbe12eb\")>,\n",
       " <selenium.webdriver.remote.webelement.WebElement (session=\"c86df7293dd68afdf5393e749f20d81e\", element=\"c2333597-a7d2-4317-a389-a1867802efac\")>,\n",
       " <selenium.webdriver.remote.webelement.WebElement (session=\"c86df7293dd68afdf5393e749f20d81e\", element=\"4eef1221-99fe-4e8b-9a3b-57b53e23e1a1\")>,\n",
       " <selenium.webdriver.remote.webelement.WebElement (session=\"c86df7293dd68afdf5393e749f20d81e\", element=\"d91f1869-0bf0-4800-a1b1-f5c595a17a44\")>,\n",
       " <selenium.webdriver.remote.webelement.WebElement (session=\"c86df7293dd68afdf5393e749f20d81e\", element=\"22cf210f-8850-4830-a447-7e91c6077dbd\")>,\n",
       " <selenium.webdriver.remote.webelement.WebElement (session=\"c86df7293dd68afdf5393e749f20d81e\", element=\"8ac74618-5a14-40ca-883a-161f8eac7aa5\")>,\n",
       " <selenium.webdriver.remote.webelement.WebElement (session=\"c86df7293dd68afdf5393e749f20d81e\", element=\"bd960b0d-08e7-49b3-82e3-3893454fa45c\")>,\n",
       " <selenium.webdriver.remote.webelement.WebElement (session=\"c86df7293dd68afdf5393e749f20d81e\", element=\"75917b3e-6c2e-4815-8501-897177254b34\")>,\n",
       " <selenium.webdriver.remote.webelement.WebElement (session=\"c86df7293dd68afdf5393e749f20d81e\", element=\"f95d2b6d-d357-41f8-96a6-1b2e0875177f\")>,\n",
       " <selenium.webdriver.remote.webelement.WebElement (session=\"c86df7293dd68afdf5393e749f20d81e\", element=\"d0f3b24e-eac6-445d-a996-1f0e7e43e292\")>,\n",
       " <selenium.webdriver.remote.webelement.WebElement (session=\"c86df7293dd68afdf5393e749f20d81e\", element=\"91c3abdf-ac59-46a8-86a8-196d38bdf81d\")>,\n",
       " <selenium.webdriver.remote.webelement.WebElement (session=\"c86df7293dd68afdf5393e749f20d81e\", element=\"d007c1ab-657a-44ef-bfd5-9f63440260e5\")>,\n",
       " <selenium.webdriver.remote.webelement.WebElement (session=\"c86df7293dd68afdf5393e749f20d81e\", element=\"63c7844f-dc2f-481d-b0e8-c24c67a1e3f3\")>,\n",
       " <selenium.webdriver.remote.webelement.WebElement (session=\"c86df7293dd68afdf5393e749f20d81e\", element=\"2c2d2ed9-0dfa-461f-8274-a9d9deb3835c\")>,\n",
       " <selenium.webdriver.remote.webelement.WebElement (session=\"c86df7293dd68afdf5393e749f20d81e\", element=\"c64f72d0-49e9-40ac-8e84-311f573bf79b\")>,\n",
       " <selenium.webdriver.remote.webelement.WebElement (session=\"c86df7293dd68afdf5393e749f20d81e\", element=\"ad13dfba-31ea-4655-8abe-c317639e5891\")>,\n",
       " <selenium.webdriver.remote.webelement.WebElement (session=\"c86df7293dd68afdf5393e749f20d81e\", element=\"04770a73-a8a3-453f-a2d1-96efc549b7d9\")>,\n",
       " <selenium.webdriver.remote.webelement.WebElement (session=\"c86df7293dd68afdf5393e749f20d81e\", element=\"d52bb71a-b286-4d0f-8bd3-d390e62ba9a7\")>,\n",
       " <selenium.webdriver.remote.webelement.WebElement (session=\"c86df7293dd68afdf5393e749f20d81e\", element=\"44f287e5-f6e4-48b4-8c9e-7974b341ec51\")>,\n",
       " <selenium.webdriver.remote.webelement.WebElement (session=\"c86df7293dd68afdf5393e749f20d81e\", element=\"9424ec65-5539-43fc-a482-62b840f154af\")>,\n",
       " <selenium.webdriver.remote.webelement.WebElement (session=\"c86df7293dd68afdf5393e749f20d81e\", element=\"f0405a9b-df3e-43e8-8e5a-52a90e943380\")>]"
      ]
     },
     "execution_count": 524,
     "metadata": {},
     "output_type": "execute_result"
    }
   ],
   "source": [
    "company_names=driver.find_elements_by_xpath('//a[@class=\" job-search-key-l2wjgv e1n63ojh0 jobLink\"]')\n",
    "company_names"
   ]
  },
  {
   "cell_type": "code",
   "execution_count": 525,
   "metadata": {},
   "outputs": [
    {
     "data": {
      "text/plain": [
       "['Liberin Technologies Private Limited',\n",
       " 'Noisy Lion',\n",
       " 'Grail Insights',\n",
       " 'AlgoScale Technologies Private Limited',\n",
       " 'Salasar New Age Technologies',\n",
       " 'Grail Insights',\n",
       " 'Techlive',\n",
       " 'Newgen Software',\n",
       " 'IBM',\n",
       " 'Genpact',\n",
       " 'Salasar New Age Technologies',\n",
       " 'Lenskart',\n",
       " 'Ericsson',\n",
       " 'Crowe',\n",
       " 'SearchUrCollege',\n",
       " 'Biz2Credit Inc',\n",
       " 'ING',\n",
       " 'Airtel India',\n",
       " 'CSTEP',\n",
       " 'NEC Opportunities',\n",
       " 'Ishatva Management Solutions',\n",
       " 'limeroad.com',\n",
       " 'Monotype',\n",
       " 'Adobe',\n",
       " 'WishFin',\n",
       " 'Adobe',\n",
       " 'Emerging India Group',\n",
       " 'Crypto Mize',\n",
       " 'xtLytics',\n",
       " 'Saishaa Services']"
      ]
     },
     "execution_count": 525,
     "metadata": {},
     "output_type": "execute_result"
    }
   ],
   "source": [
    "companies=[]\n",
    "for i in company_names:\n",
    "    companies.append(i.text)\n",
    "companies"
   ]
  },
  {
   "cell_type": "code",
   "execution_count": 526,
   "metadata": {},
   "outputs": [
    {
     "data": {
      "text/plain": [
       "[<selenium.webdriver.remote.webelement.WebElement (session=\"c86df7293dd68afdf5393e749f20d81e\", element=\"a2ebe912-d765-4aa9-a5df-6b7f6763ac58\")>,\n",
       " <selenium.webdriver.remote.webelement.WebElement (session=\"c86df7293dd68afdf5393e749f20d81e\", element=\"acc53471-7332-4d87-bd3d-c0077ec0abac\")>,\n",
       " <selenium.webdriver.remote.webelement.WebElement (session=\"c86df7293dd68afdf5393e749f20d81e\", element=\"438730d6-0f2b-4f28-9d0f-6ba84d14a6ac\")>,\n",
       " <selenium.webdriver.remote.webelement.WebElement (session=\"c86df7293dd68afdf5393e749f20d81e\", element=\"ff75bbc7-ddbd-44d0-8a5e-f76fc7d4886d\")>,\n",
       " <selenium.webdriver.remote.webelement.WebElement (session=\"c86df7293dd68afdf5393e749f20d81e\", element=\"a81f5d7a-d6e6-4c61-9f47-acb5ed89cb21\")>,\n",
       " <selenium.webdriver.remote.webelement.WebElement (session=\"c86df7293dd68afdf5393e749f20d81e\", element=\"3782f931-f20c-424b-98b4-7e3b510ed74d\")>,\n",
       " <selenium.webdriver.remote.webelement.WebElement (session=\"c86df7293dd68afdf5393e749f20d81e\", element=\"2c33af10-fc3f-4049-b752-9749d9033c5c\")>,\n",
       " <selenium.webdriver.remote.webelement.WebElement (session=\"c86df7293dd68afdf5393e749f20d81e\", element=\"d8c876ad-caca-4e8e-b339-b457d13ec0f3\")>,\n",
       " <selenium.webdriver.remote.webelement.WebElement (session=\"c86df7293dd68afdf5393e749f20d81e\", element=\"8c0339cf-7665-4f40-8667-eb183d1ae885\")>,\n",
       " <selenium.webdriver.remote.webelement.WebElement (session=\"c86df7293dd68afdf5393e749f20d81e\", element=\"b54eb6ca-2a1f-4d46-b4af-cfb91157610f\")>,\n",
       " <selenium.webdriver.remote.webelement.WebElement (session=\"c86df7293dd68afdf5393e749f20d81e\", element=\"da7c4b0d-2820-4f5f-9660-2a0fe9cbe5c9\")>,\n",
       " <selenium.webdriver.remote.webelement.WebElement (session=\"c86df7293dd68afdf5393e749f20d81e\", element=\"dced3827-047b-42e9-92c5-9132b1976691\")>,\n",
       " <selenium.webdriver.remote.webelement.WebElement (session=\"c86df7293dd68afdf5393e749f20d81e\", element=\"8390101b-a893-44b5-84bc-207502e4119a\")>,\n",
       " <selenium.webdriver.remote.webelement.WebElement (session=\"c86df7293dd68afdf5393e749f20d81e\", element=\"22c21bca-97f2-4a68-adfb-a2e51c3d65b0\")>,\n",
       " <selenium.webdriver.remote.webelement.WebElement (session=\"c86df7293dd68afdf5393e749f20d81e\", element=\"1a6b3d9e-be85-4e1d-9a96-1fe55851f42e\")>,\n",
       " <selenium.webdriver.remote.webelement.WebElement (session=\"c86df7293dd68afdf5393e749f20d81e\", element=\"ed33e0ca-7f1d-452b-8e7a-e05366ab2883\")>,\n",
       " <selenium.webdriver.remote.webelement.WebElement (session=\"c86df7293dd68afdf5393e749f20d81e\", element=\"1dfa6c1e-d4b7-4c1e-956c-e5a23f533d0c\")>,\n",
       " <selenium.webdriver.remote.webelement.WebElement (session=\"c86df7293dd68afdf5393e749f20d81e\", element=\"fe0c3c94-cc98-41d9-a3b0-90eb9d02d070\")>,\n",
       " <selenium.webdriver.remote.webelement.WebElement (session=\"c86df7293dd68afdf5393e749f20d81e\", element=\"749183a8-0e22-4d68-97ff-a9d428985218\")>,\n",
       " <selenium.webdriver.remote.webelement.WebElement (session=\"c86df7293dd68afdf5393e749f20d81e\", element=\"d86b4a9f-ec3c-4f59-818e-6b08e6407010\")>,\n",
       " <selenium.webdriver.remote.webelement.WebElement (session=\"c86df7293dd68afdf5393e749f20d81e\", element=\"6990dae9-be44-481e-a1e5-9b6eb4c9a918\")>,\n",
       " <selenium.webdriver.remote.webelement.WebElement (session=\"c86df7293dd68afdf5393e749f20d81e\", element=\"efc8e70b-9e37-40d9-928f-b569aac3e8ad\")>,\n",
       " <selenium.webdriver.remote.webelement.WebElement (session=\"c86df7293dd68afdf5393e749f20d81e\", element=\"a74fcfcc-f9d7-411d-8f89-dd5eda35d378\")>,\n",
       " <selenium.webdriver.remote.webelement.WebElement (session=\"c86df7293dd68afdf5393e749f20d81e\", element=\"d5fcf560-2cd5-4fb8-b4f0-9c87b482cdde\")>,\n",
       " <selenium.webdriver.remote.webelement.WebElement (session=\"c86df7293dd68afdf5393e749f20d81e\", element=\"712f586b-d17d-458a-8fe2-b5007c060c9a\")>,\n",
       " <selenium.webdriver.remote.webelement.WebElement (session=\"c86df7293dd68afdf5393e749f20d81e\", element=\"06d8b52a-f7e9-42d9-826b-b0edfd7e69e0\")>,\n",
       " <selenium.webdriver.remote.webelement.WebElement (session=\"c86df7293dd68afdf5393e749f20d81e\", element=\"b1695404-4d21-4348-80fc-93f9910455b0\")>,\n",
       " <selenium.webdriver.remote.webelement.WebElement (session=\"c86df7293dd68afdf5393e749f20d81e\", element=\"a6e40b72-955a-4057-915a-06bbb9be608f\")>,\n",
       " <selenium.webdriver.remote.webelement.WebElement (session=\"c86df7293dd68afdf5393e749f20d81e\", element=\"6f0079d5-b850-446d-92c5-47f028da2699\")>,\n",
       " <selenium.webdriver.remote.webelement.WebElement (session=\"c86df7293dd68afdf5393e749f20d81e\", element=\"66acce7f-932b-48d9-8aea-006b10b3932d\")>]"
      ]
     },
     "execution_count": 526,
     "metadata": {},
     "output_type": "execute_result"
    }
   ],
   "source": [
    "job_DS=driver.find_elements_by_xpath('//a[@class=\"jobLink job-search-key-1rd3saf eigr9kq1\"]')\n",
    "job_DS"
   ]
  },
  {
   "cell_type": "code",
   "execution_count": 527,
   "metadata": {},
   "outputs": [
    {
     "data": {
      "text/plain": [
       "['Associate Data Scientist',\n",
       " 'Data Analytics part time job/internship at Noida',\n",
       " 'Management Trainee – Data Science',\n",
       " 'Data Scientist',\n",
       " 'Data Scientist Intern',\n",
       " 'Analyst – Data Science',\n",
       " 'Data Scientist',\n",
       " 'Data Scientist',\n",
       " 'Data Scientist: Artificial Intelligence',\n",
       " 'Business Analyst - Data Scientist',\n",
       " 'Data Scientist',\n",
       " 'Data Scientist',\n",
       " 'Data Scientist',\n",
       " 'Data Scientist',\n",
       " 'Data Scientist',\n",
       " 'Data Scientist',\n",
       " 'Data Scientist',\n",
       " 'Data Scientist',\n",
       " 'Data Scientist-AI and Digital Lab',\n",
       " 'Data Scientist - Spark Engg / Dot data',\n",
       " 'Data Scientist',\n",
       " 'Data Scientist',\n",
       " 'Lead Data Scientist',\n",
       " 'Research Scientist - Reinforcement Learning, Causal Machine learning, Personalization',\n",
       " 'Data Scientist',\n",
       " 'Research Scientist - Computer Vision',\n",
       " 'Assistant Manager/Deputy Manager/Manager - Sales - Data Analytics Training Solutions',\n",
       " 'Data Scientist',\n",
       " 'Jr. Data Scientist',\n",
       " 'Data Scientist']"
      ]
     },
     "execution_count": 527,
     "metadata": {},
     "output_type": "execute_result"
    }
   ],
   "source": [
    "job_search=[]\n",
    "for i in job_DS:\n",
    "    job_search.append(i.text)\n",
    "job_search"
   ]
  },
  {
   "cell_type": "code",
   "execution_count": 528,
   "metadata": {},
   "outputs": [
    {
     "data": {
      "text/plain": [
       "[<selenium.webdriver.remote.webelement.WebElement (session=\"c86df7293dd68afdf5393e749f20d81e\", element=\"0f96fc09-957a-434e-bea5-a66734d71b56\")>,\n",
       " <selenium.webdriver.remote.webelement.WebElement (session=\"c86df7293dd68afdf5393e749f20d81e\", element=\"ecbaad47-d984-46c6-a0f6-9418837d137e\")>,\n",
       " <selenium.webdriver.remote.webelement.WebElement (session=\"c86df7293dd68afdf5393e749f20d81e\", element=\"037944e8-93f7-4323-9dd5-5a32ac1fb435\")>,\n",
       " <selenium.webdriver.remote.webelement.WebElement (session=\"c86df7293dd68afdf5393e749f20d81e\", element=\"dd267851-3724-484e-87ba-ca5df56f50ba\")>,\n",
       " <selenium.webdriver.remote.webelement.WebElement (session=\"c86df7293dd68afdf5393e749f20d81e\", element=\"fa51bd26-6fc9-4a9a-833c-6a70013bb377\")>,\n",
       " <selenium.webdriver.remote.webelement.WebElement (session=\"c86df7293dd68afdf5393e749f20d81e\", element=\"8e421cbf-3fc0-4744-b2f2-c652aba30718\")>,\n",
       " <selenium.webdriver.remote.webelement.WebElement (session=\"c86df7293dd68afdf5393e749f20d81e\", element=\"3a2deaea-2437-4008-b090-6ab5532b0d88\")>,\n",
       " <selenium.webdriver.remote.webelement.WebElement (session=\"c86df7293dd68afdf5393e749f20d81e\", element=\"c0a01d95-4395-4eb5-8851-48df5f733ddc\")>,\n",
       " <selenium.webdriver.remote.webelement.WebElement (session=\"c86df7293dd68afdf5393e749f20d81e\", element=\"784dcc18-f9d8-45a4-bb7c-caccc95e3dd5\")>,\n",
       " <selenium.webdriver.remote.webelement.WebElement (session=\"c86df7293dd68afdf5393e749f20d81e\", element=\"3dad1eec-8911-414a-bf9a-b201a23d8e99\")>,\n",
       " <selenium.webdriver.remote.webelement.WebElement (session=\"c86df7293dd68afdf5393e749f20d81e\", element=\"7adf6f82-309a-4a4f-a7e6-e896994ee62f\")>,\n",
       " <selenium.webdriver.remote.webelement.WebElement (session=\"c86df7293dd68afdf5393e749f20d81e\", element=\"946ebac0-b6e3-4e31-b6de-59c484eaac62\")>,\n",
       " <selenium.webdriver.remote.webelement.WebElement (session=\"c86df7293dd68afdf5393e749f20d81e\", element=\"ef49e7a0-80c8-47da-9f45-f4d49b6cf61d\")>,\n",
       " <selenium.webdriver.remote.webelement.WebElement (session=\"c86df7293dd68afdf5393e749f20d81e\", element=\"d6114536-a38f-4719-9eea-6bf8bdd4aec5\")>,\n",
       " <selenium.webdriver.remote.webelement.WebElement (session=\"c86df7293dd68afdf5393e749f20d81e\", element=\"bd6141e1-de93-43f4-b77a-06f4662f4791\")>,\n",
       " <selenium.webdriver.remote.webelement.WebElement (session=\"c86df7293dd68afdf5393e749f20d81e\", element=\"457b177c-3ded-4e5f-a44b-9145a9659683\")>,\n",
       " <selenium.webdriver.remote.webelement.WebElement (session=\"c86df7293dd68afdf5393e749f20d81e\", element=\"af7a215d-d94d-4aa4-b4b3-b84bcc1cc804\")>,\n",
       " <selenium.webdriver.remote.webelement.WebElement (session=\"c86df7293dd68afdf5393e749f20d81e\", element=\"c8fe2e65-3ee2-4ea2-a5fd-ec396ddb4685\")>,\n",
       " <selenium.webdriver.remote.webelement.WebElement (session=\"c86df7293dd68afdf5393e749f20d81e\", element=\"1e61d55f-3169-4e42-a6ec-81add78d3d9b\")>,\n",
       " <selenium.webdriver.remote.webelement.WebElement (session=\"c86df7293dd68afdf5393e749f20d81e\", element=\"c81df064-6537-43fb-8eff-1b22bd71ff28\")>,\n",
       " <selenium.webdriver.remote.webelement.WebElement (session=\"c86df7293dd68afdf5393e749f20d81e\", element=\"bd901ae7-e6fa-46f2-ab0c-78c80ad00ba1\")>,\n",
       " <selenium.webdriver.remote.webelement.WebElement (session=\"c86df7293dd68afdf5393e749f20d81e\", element=\"e673e4d7-33c0-4a14-ab2c-048ffe689306\")>,\n",
       " <selenium.webdriver.remote.webelement.WebElement (session=\"c86df7293dd68afdf5393e749f20d81e\", element=\"d260589b-0360-4f14-81a5-e2f21f3d5c22\")>,\n",
       " <selenium.webdriver.remote.webelement.WebElement (session=\"c86df7293dd68afdf5393e749f20d81e\", element=\"d4c90a7d-c20c-49b3-a1bc-a682d01d6982\")>,\n",
       " <selenium.webdriver.remote.webelement.WebElement (session=\"c86df7293dd68afdf5393e749f20d81e\", element=\"4be62fc3-072a-4ab0-8b82-11fa0b8ea512\")>,\n",
       " <selenium.webdriver.remote.webelement.WebElement (session=\"c86df7293dd68afdf5393e749f20d81e\", element=\"bfe49806-b7be-47c2-813f-3975c75e2bad\")>,\n",
       " <selenium.webdriver.remote.webelement.WebElement (session=\"c86df7293dd68afdf5393e749f20d81e\", element=\"29747bc2-540f-4c4a-b502-a353825a8ece\")>,\n",
       " <selenium.webdriver.remote.webelement.WebElement (session=\"c86df7293dd68afdf5393e749f20d81e\", element=\"07610b33-c974-429c-a6df-02aec1faacc7\")>,\n",
       " <selenium.webdriver.remote.webelement.WebElement (session=\"c86df7293dd68afdf5393e749f20d81e\", element=\"b9eb881c-3a9e-4876-97b3-6f6a57752c82\")>,\n",
       " <selenium.webdriver.remote.webelement.WebElement (session=\"c86df7293dd68afdf5393e749f20d81e\", element=\"651a59e6-0d82-41b9-8f30-6a287177df8b\")>]"
      ]
     },
     "execution_count": 528,
     "metadata": {},
     "output_type": "execute_result"
    }
   ],
   "source": [
    "number_of_days=driver.find_elements_by_xpath('//div[@class=\"d-flex align-items-end pl-std css-17n8uzw\"]')\n",
    "number_of_days"
   ]
  },
  {
   "cell_type": "code",
   "execution_count": 529,
   "metadata": {},
   "outputs": [
    {
     "data": {
      "text/plain": [
       "['30d+',\n",
       " '1d',\n",
       " '2d',\n",
       " '16d',\n",
       " '30d+',\n",
       " '2d',\n",
       " '30d+',\n",
       " '30d+',\n",
       " '21d',\n",
       " '4d',\n",
       " '30d+',\n",
       " '4d',\n",
       " '9d',\n",
       " '30d+',\n",
       " '30d+',\n",
       " '30d+',\n",
       " '7d',\n",
       " '21d',\n",
       " '30d+',\n",
       " '23d',\n",
       " '11d',\n",
       " '16d',\n",
       " '1d',\n",
       " '7d',\n",
       " '30d+',\n",
       " '30d+',\n",
       " '30d+',\n",
       " '24d',\n",
       " '30d+',\n",
       " '18d']"
      ]
     },
     "execution_count": 529,
     "metadata": {},
     "output_type": "execute_result"
    }
   ],
   "source": [
    "job_posted=[]\n",
    "for i in number_of_days:\n",
    "    job_posted.append(i.text)\n",
    "job_posted"
   ]
  },
  {
   "cell_type": "code",
   "execution_count": 530,
   "metadata": {},
   "outputs": [
    {
     "data": {
      "text/plain": [
       "[<selenium.webdriver.remote.webelement.WebElement (session=\"c86df7293dd68afdf5393e749f20d81e\", element=\"c6daeb48-a33f-4c25-be81-1298628e6ecc\")>,\n",
       " <selenium.webdriver.remote.webelement.WebElement (session=\"c86df7293dd68afdf5393e749f20d81e\", element=\"2edc0a96-1ceb-4804-be42-26a6bc72e8bc\")>,\n",
       " <selenium.webdriver.remote.webelement.WebElement (session=\"c86df7293dd68afdf5393e749f20d81e\", element=\"dfdf2d70-7445-4bc6-a542-169ee318e863\")>,\n",
       " <selenium.webdriver.remote.webelement.WebElement (session=\"c86df7293dd68afdf5393e749f20d81e\", element=\"057ed689-d9d7-4aba-9923-ceda7045d6cc\")>,\n",
       " <selenium.webdriver.remote.webelement.WebElement (session=\"c86df7293dd68afdf5393e749f20d81e\", element=\"af0ac49a-7ff4-46c1-900b-1ea47f39b12f\")>,\n",
       " <selenium.webdriver.remote.webelement.WebElement (session=\"c86df7293dd68afdf5393e749f20d81e\", element=\"2c75f0b6-c8c1-46e5-97b7-0fe134ad1c8c\")>,\n",
       " <selenium.webdriver.remote.webelement.WebElement (session=\"c86df7293dd68afdf5393e749f20d81e\", element=\"1126aa64-986c-457c-a60e-b948d742458a\")>,\n",
       " <selenium.webdriver.remote.webelement.WebElement (session=\"c86df7293dd68afdf5393e749f20d81e\", element=\"fd328e21-c363-4835-a1d2-283f1e21cd9b\")>,\n",
       " <selenium.webdriver.remote.webelement.WebElement (session=\"c86df7293dd68afdf5393e749f20d81e\", element=\"d32e6f17-ceac-4100-84f1-dd4ea729adcf\")>,\n",
       " <selenium.webdriver.remote.webelement.WebElement (session=\"c86df7293dd68afdf5393e749f20d81e\", element=\"d2656513-9bab-4bf7-9718-c45b9fe758cb\")>,\n",
       " <selenium.webdriver.remote.webelement.WebElement (session=\"c86df7293dd68afdf5393e749f20d81e\", element=\"90a4e8a0-9a15-4ce7-bdac-93bbc462aed7\")>,\n",
       " <selenium.webdriver.remote.webelement.WebElement (session=\"c86df7293dd68afdf5393e749f20d81e\", element=\"905b8c9d-c637-4121-be8d-4e9fa6b90295\")>,\n",
       " <selenium.webdriver.remote.webelement.WebElement (session=\"c86df7293dd68afdf5393e749f20d81e\", element=\"4a15744e-da19-44f0-bea4-14e7fcdef98c\")>,\n",
       " <selenium.webdriver.remote.webelement.WebElement (session=\"c86df7293dd68afdf5393e749f20d81e\", element=\"9f74aac4-7bcb-4bb2-a683-894f5279c1e4\")>,\n",
       " <selenium.webdriver.remote.webelement.WebElement (session=\"c86df7293dd68afdf5393e749f20d81e\", element=\"6b033aef-a241-415a-b632-1d060b24f293\")>,\n",
       " <selenium.webdriver.remote.webelement.WebElement (session=\"c86df7293dd68afdf5393e749f20d81e\", element=\"6cf87bd3-a70b-43ad-9ea5-a54776a9c334\")>,\n",
       " <selenium.webdriver.remote.webelement.WebElement (session=\"c86df7293dd68afdf5393e749f20d81e\", element=\"692f41e4-1f96-4982-a20b-b3d9735a2f68\")>,\n",
       " <selenium.webdriver.remote.webelement.WebElement (session=\"c86df7293dd68afdf5393e749f20d81e\", element=\"e8a692e9-fb18-455f-8f05-3809498e18bc\")>,\n",
       " <selenium.webdriver.remote.webelement.WebElement (session=\"c86df7293dd68afdf5393e749f20d81e\", element=\"29eb60f9-0e6b-4cf9-95d9-67d88f4f6a10\")>,\n",
       " <selenium.webdriver.remote.webelement.WebElement (session=\"c86df7293dd68afdf5393e749f20d81e\", element=\"23e0b2aa-8a13-4b0d-b627-3ad310c5df61\")>,\n",
       " <selenium.webdriver.remote.webelement.WebElement (session=\"c86df7293dd68afdf5393e749f20d81e\", element=\"ae5d7052-4c45-46dc-96cb-a4b8b6b6dfb9\")>,\n",
       " <selenium.webdriver.remote.webelement.WebElement (session=\"c86df7293dd68afdf5393e749f20d81e\", element=\"d175d144-d294-4c77-8c2d-e6c7caaa30db\")>,\n",
       " <selenium.webdriver.remote.webelement.WebElement (session=\"c86df7293dd68afdf5393e749f20d81e\", element=\"ae641e52-ff2d-49a9-8999-130453ef2bf6\")>,\n",
       " <selenium.webdriver.remote.webelement.WebElement (session=\"c86df7293dd68afdf5393e749f20d81e\", element=\"35beb341-ef1e-4f45-963b-2dd572b5e4d0\")>,\n",
       " <selenium.webdriver.remote.webelement.WebElement (session=\"c86df7293dd68afdf5393e749f20d81e\", element=\"2416cd9a-051b-45b0-9575-d34d9a5058fb\")>,\n",
       " <selenium.webdriver.remote.webelement.WebElement (session=\"c86df7293dd68afdf5393e749f20d81e\", element=\"85e3c6bf-13e3-4451-8dce-b9299f352ac3\")>,\n",
       " <selenium.webdriver.remote.webelement.WebElement (session=\"c86df7293dd68afdf5393e749f20d81e\", element=\"e4560a3c-cf89-4017-9780-326adaf25c1f\")>,\n",
       " <selenium.webdriver.remote.webelement.WebElement (session=\"c86df7293dd68afdf5393e749f20d81e\", element=\"fd37e8c9-ac98-4419-bdd7-47d6f1b96d0a\")>,\n",
       " <selenium.webdriver.remote.webelement.WebElement (session=\"c86df7293dd68afdf5393e749f20d81e\", element=\"db1849ef-bb3f-458c-b5ff-86ca32402f96\")>,\n",
       " <selenium.webdriver.remote.webelement.WebElement (session=\"c86df7293dd68afdf5393e749f20d81e\", element=\"08a2709e-a272-4035-8fa2-1a192cc53474\")>]"
      ]
     },
     "execution_count": 530,
     "metadata": {},
     "output_type": "execute_result"
    }
   ],
   "source": [
    "rating_tags=driver.find_elements_by_xpath('//div[@class=\"d-flex flex-column job-search-key-1pzmdmc e1rrn5ka1\"]')\n",
    "rating_tags"
   ]
  },
  {
   "cell_type": "code",
   "execution_count": 531,
   "metadata": {},
   "outputs": [],
   "source": [
    "ratings=[]"
   ]
  },
  {
   "cell_type": "code",
   "execution_count": null,
   "metadata": {},
   "outputs": [],
   "source": []
  },
  {
   "cell_type": "code",
   "execution_count": 532,
   "metadata": {},
   "outputs": [
    {
     "data": {
      "text/plain": [
       "['',\n",
       " '3.9',\n",
       " '3.5',\n",
       " '',\n",
       " '',\n",
       " '3.5',\n",
       " '',\n",
       " '3.3',\n",
       " '3.9',\n",
       " '3.8',\n",
       " '',\n",
       " '3.6',\n",
       " '4.1',\n",
       " '3.8',\n",
       " '',\n",
       " '4.2',\n",
       " '4.0',\n",
       " '3.8',\n",
       " '3.2',\n",
       " '',\n",
       " '',\n",
       " '',\n",
       " '3.9',\n",
       " '4.4',\n",
       " '3.8',\n",
       " '4.4',\n",
       " '2.4',\n",
       " '5.0',\n",
       " '3.0',\n",
       " '']"
      ]
     },
     "execution_count": 532,
     "metadata": {},
     "output_type": "execute_result"
    }
   ],
   "source": [
    "for i in rating_tags:\n",
    "    ratings.append(i.text)\n",
    "ratings\n",
    "\n",
    "    "
   ]
  },
  {
   "cell_type": "code",
   "execution_count": 533,
   "metadata": {},
   "outputs": [
    {
     "name": "stdout",
     "output_type": "stream",
     "text": [
      "30 30 30 30\n"
     ]
    }
   ],
   "source": [
    "print(len(job_search),len(companies),len(job_posted),len(ratings))\n",
    "    "
   ]
  },
  {
   "cell_type": "code",
   "execution_count": 534,
   "metadata": {},
   "outputs": [
    {
     "data": {
      "text/html": [
       "<div>\n",
       "<style scoped>\n",
       "    .dataframe tbody tr th:only-of-type {\n",
       "        vertical-align: middle;\n",
       "    }\n",
       "\n",
       "    .dataframe tbody tr th {\n",
       "        vertical-align: top;\n",
       "    }\n",
       "\n",
       "    .dataframe thead th {\n",
       "        text-align: right;\n",
       "    }\n",
       "</style>\n",
       "<table border=\"1\" class=\"dataframe\">\n",
       "  <thead>\n",
       "    <tr style=\"text-align: right;\">\n",
       "      <th></th>\n",
       "      <th>TITLE</th>\n",
       "      <th>COMPANY</th>\n",
       "      <th>JOB_POSTED</th>\n",
       "      <th>RATINGS</th>\n",
       "    </tr>\n",
       "  </thead>\n",
       "  <tbody>\n",
       "    <tr>\n",
       "      <th>0</th>\n",
       "      <td>Associate Data Scientist</td>\n",
       "      <td>Liberin Technologies Private Limited</td>\n",
       "      <td>30d+</td>\n",
       "      <td></td>\n",
       "    </tr>\n",
       "    <tr>\n",
       "      <th>1</th>\n",
       "      <td>Data Analytics part time job/internship at Noida</td>\n",
       "      <td>Noisy Lion</td>\n",
       "      <td>1d</td>\n",
       "      <td>3.9</td>\n",
       "    </tr>\n",
       "    <tr>\n",
       "      <th>2</th>\n",
       "      <td>Management Trainee – Data Science</td>\n",
       "      <td>Grail Insights</td>\n",
       "      <td>2d</td>\n",
       "      <td>3.5</td>\n",
       "    </tr>\n",
       "    <tr>\n",
       "      <th>3</th>\n",
       "      <td>Data Scientist</td>\n",
       "      <td>AlgoScale Technologies Private Limited</td>\n",
       "      <td>16d</td>\n",
       "      <td></td>\n",
       "    </tr>\n",
       "    <tr>\n",
       "      <th>4</th>\n",
       "      <td>Data Scientist Intern</td>\n",
       "      <td>Salasar New Age Technologies</td>\n",
       "      <td>30d+</td>\n",
       "      <td></td>\n",
       "    </tr>\n",
       "    <tr>\n",
       "      <th>5</th>\n",
       "      <td>Analyst – Data Science</td>\n",
       "      <td>Grail Insights</td>\n",
       "      <td>2d</td>\n",
       "      <td>3.5</td>\n",
       "    </tr>\n",
       "    <tr>\n",
       "      <th>6</th>\n",
       "      <td>Data Scientist</td>\n",
       "      <td>Techlive</td>\n",
       "      <td>30d+</td>\n",
       "      <td></td>\n",
       "    </tr>\n",
       "    <tr>\n",
       "      <th>7</th>\n",
       "      <td>Data Scientist</td>\n",
       "      <td>Newgen Software</td>\n",
       "      <td>30d+</td>\n",
       "      <td>3.3</td>\n",
       "    </tr>\n",
       "    <tr>\n",
       "      <th>8</th>\n",
       "      <td>Data Scientist: Artificial Intelligence</td>\n",
       "      <td>IBM</td>\n",
       "      <td>21d</td>\n",
       "      <td>3.9</td>\n",
       "    </tr>\n",
       "    <tr>\n",
       "      <th>9</th>\n",
       "      <td>Business Analyst - Data Scientist</td>\n",
       "      <td>Genpact</td>\n",
       "      <td>4d</td>\n",
       "      <td>3.8</td>\n",
       "    </tr>\n",
       "    <tr>\n",
       "      <th>10</th>\n",
       "      <td>Data Scientist</td>\n",
       "      <td>Salasar New Age Technologies</td>\n",
       "      <td>30d+</td>\n",
       "      <td></td>\n",
       "    </tr>\n",
       "    <tr>\n",
       "      <th>11</th>\n",
       "      <td>Data Scientist</td>\n",
       "      <td>Lenskart</td>\n",
       "      <td>4d</td>\n",
       "      <td>3.6</td>\n",
       "    </tr>\n",
       "    <tr>\n",
       "      <th>12</th>\n",
       "      <td>Data Scientist</td>\n",
       "      <td>Ericsson</td>\n",
       "      <td>9d</td>\n",
       "      <td>4.1</td>\n",
       "    </tr>\n",
       "    <tr>\n",
       "      <th>13</th>\n",
       "      <td>Data Scientist</td>\n",
       "      <td>Crowe</td>\n",
       "      <td>30d+</td>\n",
       "      <td>3.8</td>\n",
       "    </tr>\n",
       "    <tr>\n",
       "      <th>14</th>\n",
       "      <td>Data Scientist</td>\n",
       "      <td>SearchUrCollege</td>\n",
       "      <td>30d+</td>\n",
       "      <td></td>\n",
       "    </tr>\n",
       "    <tr>\n",
       "      <th>15</th>\n",
       "      <td>Data Scientist</td>\n",
       "      <td>Biz2Credit Inc</td>\n",
       "      <td>30d+</td>\n",
       "      <td>4.2</td>\n",
       "    </tr>\n",
       "    <tr>\n",
       "      <th>16</th>\n",
       "      <td>Data Scientist</td>\n",
       "      <td>ING</td>\n",
       "      <td>7d</td>\n",
       "      <td>4.0</td>\n",
       "    </tr>\n",
       "    <tr>\n",
       "      <th>17</th>\n",
       "      <td>Data Scientist</td>\n",
       "      <td>Airtel India</td>\n",
       "      <td>21d</td>\n",
       "      <td>3.8</td>\n",
       "    </tr>\n",
       "    <tr>\n",
       "      <th>18</th>\n",
       "      <td>Data Scientist-AI and Digital Lab</td>\n",
       "      <td>CSTEP</td>\n",
       "      <td>30d+</td>\n",
       "      <td>3.2</td>\n",
       "    </tr>\n",
       "    <tr>\n",
       "      <th>19</th>\n",
       "      <td>Data Scientist - Spark Engg / Dot data</td>\n",
       "      <td>NEC Opportunities</td>\n",
       "      <td>23d</td>\n",
       "      <td></td>\n",
       "    </tr>\n",
       "    <tr>\n",
       "      <th>20</th>\n",
       "      <td>Data Scientist</td>\n",
       "      <td>Ishatva Management Solutions</td>\n",
       "      <td>11d</td>\n",
       "      <td></td>\n",
       "    </tr>\n",
       "    <tr>\n",
       "      <th>21</th>\n",
       "      <td>Data Scientist</td>\n",
       "      <td>limeroad.com</td>\n",
       "      <td>16d</td>\n",
       "      <td></td>\n",
       "    </tr>\n",
       "    <tr>\n",
       "      <th>22</th>\n",
       "      <td>Lead Data Scientist</td>\n",
       "      <td>Monotype</td>\n",
       "      <td>1d</td>\n",
       "      <td>3.9</td>\n",
       "    </tr>\n",
       "    <tr>\n",
       "      <th>23</th>\n",
       "      <td>Research Scientist - Reinforcement Learning, C...</td>\n",
       "      <td>Adobe</td>\n",
       "      <td>7d</td>\n",
       "      <td>4.4</td>\n",
       "    </tr>\n",
       "    <tr>\n",
       "      <th>24</th>\n",
       "      <td>Data Scientist</td>\n",
       "      <td>WishFin</td>\n",
       "      <td>30d+</td>\n",
       "      <td>3.8</td>\n",
       "    </tr>\n",
       "    <tr>\n",
       "      <th>25</th>\n",
       "      <td>Research Scientist - Computer Vision</td>\n",
       "      <td>Adobe</td>\n",
       "      <td>30d+</td>\n",
       "      <td>4.4</td>\n",
       "    </tr>\n",
       "    <tr>\n",
       "      <th>26</th>\n",
       "      <td>Assistant Manager/Deputy Manager/Manager - Sal...</td>\n",
       "      <td>Emerging India Group</td>\n",
       "      <td>30d+</td>\n",
       "      <td>2.4</td>\n",
       "    </tr>\n",
       "    <tr>\n",
       "      <th>27</th>\n",
       "      <td>Data Scientist</td>\n",
       "      <td>Crypto Mize</td>\n",
       "      <td>24d</td>\n",
       "      <td>5.0</td>\n",
       "    </tr>\n",
       "    <tr>\n",
       "      <th>28</th>\n",
       "      <td>Jr. Data Scientist</td>\n",
       "      <td>xtLytics</td>\n",
       "      <td>30d+</td>\n",
       "      <td>3.0</td>\n",
       "    </tr>\n",
       "    <tr>\n",
       "      <th>29</th>\n",
       "      <td>Data Scientist</td>\n",
       "      <td>Saishaa Services</td>\n",
       "      <td>18d</td>\n",
       "      <td></td>\n",
       "    </tr>\n",
       "  </tbody>\n",
       "</table>\n",
       "</div>"
      ],
      "text/plain": [
       "                                                TITLE  \\\n",
       "0                            Associate Data Scientist   \n",
       "1    Data Analytics part time job/internship at Noida   \n",
       "2                   Management Trainee – Data Science   \n",
       "3                                      Data Scientist   \n",
       "4                               Data Scientist Intern   \n",
       "5                              Analyst – Data Science   \n",
       "6                                      Data Scientist   \n",
       "7                                      Data Scientist   \n",
       "8             Data Scientist: Artificial Intelligence   \n",
       "9                   Business Analyst - Data Scientist   \n",
       "10                                     Data Scientist   \n",
       "11                                     Data Scientist   \n",
       "12                                     Data Scientist   \n",
       "13                                     Data Scientist   \n",
       "14                                     Data Scientist   \n",
       "15                                     Data Scientist   \n",
       "16                                     Data Scientist   \n",
       "17                                     Data Scientist   \n",
       "18                  Data Scientist-AI and Digital Lab   \n",
       "19             Data Scientist - Spark Engg / Dot data   \n",
       "20                                     Data Scientist   \n",
       "21                                     Data Scientist   \n",
       "22                                Lead Data Scientist   \n",
       "23  Research Scientist - Reinforcement Learning, C...   \n",
       "24                                     Data Scientist   \n",
       "25               Research Scientist - Computer Vision   \n",
       "26  Assistant Manager/Deputy Manager/Manager - Sal...   \n",
       "27                                     Data Scientist   \n",
       "28                                 Jr. Data Scientist   \n",
       "29                                     Data Scientist   \n",
       "\n",
       "                                   COMPANY JOB_POSTED RATINGS  \n",
       "0     Liberin Technologies Private Limited       30d+          \n",
       "1                               Noisy Lion         1d     3.9  \n",
       "2                           Grail Insights         2d     3.5  \n",
       "3   AlgoScale Technologies Private Limited        16d          \n",
       "4             Salasar New Age Technologies       30d+          \n",
       "5                           Grail Insights         2d     3.5  \n",
       "6                                 Techlive       30d+          \n",
       "7                          Newgen Software       30d+     3.3  \n",
       "8                                      IBM        21d     3.9  \n",
       "9                                  Genpact         4d     3.8  \n",
       "10            Salasar New Age Technologies       30d+          \n",
       "11                                Lenskart         4d     3.6  \n",
       "12                                Ericsson         9d     4.1  \n",
       "13                                   Crowe       30d+     3.8  \n",
       "14                         SearchUrCollege       30d+          \n",
       "15                          Biz2Credit Inc       30d+     4.2  \n",
       "16                                     ING         7d     4.0  \n",
       "17                            Airtel India        21d     3.8  \n",
       "18                                   CSTEP       30d+     3.2  \n",
       "19                       NEC Opportunities        23d          \n",
       "20            Ishatva Management Solutions        11d          \n",
       "21                            limeroad.com        16d          \n",
       "22                                Monotype         1d     3.9  \n",
       "23                                   Adobe         7d     4.4  \n",
       "24                                 WishFin       30d+     3.8  \n",
       "25                                   Adobe       30d+     4.4  \n",
       "26                    Emerging India Group       30d+     2.4  \n",
       "27                             Crypto Mize        24d     5.0  \n",
       "28                                xtLytics       30d+     3.0  \n",
       "29                        Saishaa Services        18d          "
      ]
     },
     "execution_count": 534,
     "metadata": {},
     "output_type": "execute_result"
    }
   ],
   "source": [
    "job4=pd.DataFrame({})\n",
    "job4['TITLE']=job_search\n",
    "job4['COMPANY']=companies\n",
    "job4['JOB_POSTED']=job_posted\n",
    "job4['RATINGS']=ratings\n",
    "job4\n"
   ]
  },
  {
   "cell_type": "code",
   "execution_count": null,
   "metadata": {},
   "outputs": [],
   "source": []
  },
  {
   "cell_type": "markdown",
   "metadata": {},
   "source": [
    "Q5: Write a python program to scrape the salary data for Data Scientist designation \n",
    "in Noida location.\n",
    "You have to scrape Company name, Number of salaries, Average salary, Min\n",
    "salary, Max Salary.\n",
    "The above task will be, done as shown in the below steps:\n",
    "1. first get the webpage https://www.glassdoor.co.in/Salaries/index.htm\n",
    "2. Enter “Data Scientist” in Job title field and “Noida” in location field.\n",
    "3. Click the search button.\n"
   ]
  },
  {
   "cell_type": "code",
   "execution_count": 559,
   "metadata": {},
   "outputs": [],
   "source": [
    "driver=webdriver.Chrome(\"chromedriver\")\n",
    "driver.get(\"https://www.glassdoor.co.in/salaries/index.htm\")"
   ]
  },
  {
   "cell_type": "code",
   "execution_count": null,
   "metadata": {},
   "outputs": [],
   "source": []
  },
  {
   "cell_type": "code",
   "execution_count": null,
   "metadata": {},
   "outputs": [],
   "source": []
  },
  {
   "cell_type": "code",
   "execution_count": 560,
   "metadata": {},
   "outputs": [
    {
     "data": {
      "text/plain": [
       "<selenium.webdriver.remote.webelement.WebElement (session=\"468a013b55e4b80b08712134a253dbc1\", element=\"908fd4ab-0e00-42e7-91cc-b467b0fef3ec\")>"
      ]
     },
     "execution_count": 560,
     "metadata": {},
     "output_type": "execute_result"
    }
   ],
   "source": [
    "search_job5=driver.find_element_by_xpath('//input[@id=\"KeywordSearch\"]')\n",
    "search_job5"
   ]
  },
  {
   "cell_type": "code",
   "execution_count": 561,
   "metadata": {},
   "outputs": [],
   "source": [
    "search_job5.send_keys('Data Scientist')"
   ]
  },
  {
   "cell_type": "code",
   "execution_count": 562,
   "metadata": {},
   "outputs": [
    {
     "data": {
      "text/plain": [
       "<selenium.webdriver.remote.webelement.WebElement (session=\"468a013b55e4b80b08712134a253dbc1\", element=\"dbf22b5c-e02f-4ea5-bab6-1d61649252b5\")>"
      ]
     },
     "execution_count": 562,
     "metadata": {},
     "output_type": "execute_result"
    }
   ],
   "source": [
    "search_loc5=driver.find_element_by_xpath('//input[@id=\"LocationSearch\"]')\n",
    "search_loc5"
   ]
  },
  {
   "cell_type": "code",
   "execution_count": 563,
   "metadata": {},
   "outputs": [],
   "source": [
    "search_loc5.send_keys('Noida')"
   ]
  },
  {
   "cell_type": "code",
   "execution_count": 564,
   "metadata": {},
   "outputs": [
    {
     "data": {
      "text/plain": [
       "<selenium.webdriver.remote.webelement.WebElement (session=\"468a013b55e4b80b08712134a253dbc1\", element=\"f4a30b7a-7be4-4fce-99d3-b677c6c279b0\")>"
      ]
     },
     "execution_count": 564,
     "metadata": {},
     "output_type": "execute_result"
    }
   ],
   "source": [
    "btn=driver.find_element_by_xpath('//button[@id=\"HeroSearchButton\"]')\n",
    "btn"
   ]
  },
  {
   "cell_type": "code",
   "execution_count": 565,
   "metadata": {},
   "outputs": [],
   "source": [
    "btn.click()"
   ]
  },
  {
   "cell_type": "code",
   "execution_count": 567,
   "metadata": {},
   "outputs": [
    {
     "data": {
      "text/plain": [
       "[<selenium.webdriver.remote.webelement.WebElement (session=\"468a013b55e4b80b08712134a253dbc1\", element=\"bb1780e3-cbd4-4ff2-841f-703fbd43fb5d\")>,\n",
       " <selenium.webdriver.remote.webelement.WebElement (session=\"468a013b55e4b80b08712134a253dbc1\", element=\"2abf7c2b-4f05-4dbc-880f-b76426e79c95\")>,\n",
       " <selenium.webdriver.remote.webelement.WebElement (session=\"468a013b55e4b80b08712134a253dbc1\", element=\"d218a0e7-82bd-4235-876f-0d4499c175ec\")>,\n",
       " <selenium.webdriver.remote.webelement.WebElement (session=\"468a013b55e4b80b08712134a253dbc1\", element=\"72527834-75f4-48fb-b7ba-94b2d4148fe9\")>,\n",
       " <selenium.webdriver.remote.webelement.WebElement (session=\"468a013b55e4b80b08712134a253dbc1\", element=\"15f12694-b917-42c5-8801-b110f904a38e\")>,\n",
       " <selenium.webdriver.remote.webelement.WebElement (session=\"468a013b55e4b80b08712134a253dbc1\", element=\"7dbae783-ce81-4045-89b2-0f6974aef621\")>,\n",
       " <selenium.webdriver.remote.webelement.WebElement (session=\"468a013b55e4b80b08712134a253dbc1\", element=\"50252a7f-6d77-4da0-adee-567d7b220c36\")>,\n",
       " <selenium.webdriver.remote.webelement.WebElement (session=\"468a013b55e4b80b08712134a253dbc1\", element=\"904d1f65-a1e9-436a-b02f-f503e6163e7a\")>,\n",
       " <selenium.webdriver.remote.webelement.WebElement (session=\"468a013b55e4b80b08712134a253dbc1\", element=\"b15fecfd-d43b-496f-803e-934d9f042ac8\")>,\n",
       " <selenium.webdriver.remote.webelement.WebElement (session=\"468a013b55e4b80b08712134a253dbc1\", element=\"360455c4-2b00-43d4-adc6-4de64a159fc1\")>,\n",
       " <selenium.webdriver.remote.webelement.WebElement (session=\"468a013b55e4b80b08712134a253dbc1\", element=\"8a7bc700-5a63-4bec-9b1e-45eb00d03373\")>,\n",
       " <selenium.webdriver.remote.webelement.WebElement (session=\"468a013b55e4b80b08712134a253dbc1\", element=\"f109f832-1323-4b1d-9cd6-743f57b8ec6f\")>,\n",
       " <selenium.webdriver.remote.webelement.WebElement (session=\"468a013b55e4b80b08712134a253dbc1\", element=\"ea15e6af-7391-4071-9141-b10463b3954d\")>,\n",
       " <selenium.webdriver.remote.webelement.WebElement (session=\"468a013b55e4b80b08712134a253dbc1\", element=\"7651cd21-96a3-4c01-a345-defb985f66c1\")>,\n",
       " <selenium.webdriver.remote.webelement.WebElement (session=\"468a013b55e4b80b08712134a253dbc1\", element=\"492bf25c-68bf-41e6-b1e4-c98e9f1d5fe9\")>,\n",
       " <selenium.webdriver.remote.webelement.WebElement (session=\"468a013b55e4b80b08712134a253dbc1\", element=\"2f6210e8-bf74-4e01-83a4-c3f3f8a3b44d\")>,\n",
       " <selenium.webdriver.remote.webelement.WebElement (session=\"468a013b55e4b80b08712134a253dbc1\", element=\"484ba7a6-f416-44f4-affb-56af29dced05\")>,\n",
       " <selenium.webdriver.remote.webelement.WebElement (session=\"468a013b55e4b80b08712134a253dbc1\", element=\"009e4690-2d68-4bd3-92e7-432d190168f3\")>,\n",
       " <selenium.webdriver.remote.webelement.WebElement (session=\"468a013b55e4b80b08712134a253dbc1\", element=\"6cd1fb47-ac24-4d85-9dc1-68e03b145035\")>,\n",
       " <selenium.webdriver.remote.webelement.WebElement (session=\"468a013b55e4b80b08712134a253dbc1\", element=\"f4fc1170-18d2-49bc-b454-d2defc969aaf\")>]"
      ]
     },
     "execution_count": 567,
     "metadata": {},
     "output_type": "execute_result"
    }
   ],
   "source": [
    "company_name=driver.find_elements_by_xpath('//a[@class=\"css-f3vw95 e1aj7ssy3\"]')\n",
    "company_name"
   ]
  },
  {
   "cell_type": "code",
   "execution_count": 568,
   "metadata": {},
   "outputs": [
    {
     "data": {
      "text/plain": [
       "['Tata Consultancy Services',\n",
       " 'IBM',\n",
       " 'Accenture',\n",
       " 'Delhivery',\n",
       " 'Ericsson-Worldwide',\n",
       " 'UnitedHealth Group',\n",
       " 'Optum',\n",
       " 'Optum Global Solutions',\n",
       " 'Valiance Solutions',\n",
       " 'EXL Service',\n",
       " 'Cognizant Technology Solutions',\n",
       " 'ZS Associates',\n",
       " 'Nagarro',\n",
       " 'Innovaccer',\n",
       " 'OYO',\n",
       " 'dunnhumby',\n",
       " 'Amazon',\n",
       " 'CARS24.com',\n",
       " 'Vidooly Media Tech',\n",
       " 'ParallelDots']"
      ]
     },
     "execution_count": 568,
     "metadata": {},
     "output_type": "execute_result"
    }
   ],
   "source": [
    "company=[]\n",
    "for i in company_name:\n",
    "    company.append(i.text)\n",
    "company"
   ]
  },
  {
   "cell_type": "code",
   "execution_count": 569,
   "metadata": {},
   "outputs": [
    {
     "data": {
      "text/plain": [
       "[<selenium.webdriver.remote.webelement.WebElement (session=\"468a013b55e4b80b08712134a253dbc1\", element=\"e9e3a99c-baf2-4d3c-8abd-f8140278a01c\")>,\n",
       " <selenium.webdriver.remote.webelement.WebElement (session=\"468a013b55e4b80b08712134a253dbc1\", element=\"58e9c34c-6e21-4892-bc41-4d305840f70b\")>,\n",
       " <selenium.webdriver.remote.webelement.WebElement (session=\"468a013b55e4b80b08712134a253dbc1\", element=\"2659edb3-aa9a-44c1-b9f3-c6315a5ce11e\")>,\n",
       " <selenium.webdriver.remote.webelement.WebElement (session=\"468a013b55e4b80b08712134a253dbc1\", element=\"7899f433-a529-491b-9834-30a7dc9ef08a\")>,\n",
       " <selenium.webdriver.remote.webelement.WebElement (session=\"468a013b55e4b80b08712134a253dbc1\", element=\"626aba61-3969-4209-a59d-67df2e921c1a\")>,\n",
       " <selenium.webdriver.remote.webelement.WebElement (session=\"468a013b55e4b80b08712134a253dbc1\", element=\"24cc7c55-a8c4-4b39-afb1-a8ade73b2821\")>,\n",
       " <selenium.webdriver.remote.webelement.WebElement (session=\"468a013b55e4b80b08712134a253dbc1\", element=\"ead4876d-ee0d-49b5-92f5-69daa2da3a34\")>,\n",
       " <selenium.webdriver.remote.webelement.WebElement (session=\"468a013b55e4b80b08712134a253dbc1\", element=\"69975a4e-545b-42d7-a453-60d447765364\")>,\n",
       " <selenium.webdriver.remote.webelement.WebElement (session=\"468a013b55e4b80b08712134a253dbc1\", element=\"c3d981cd-3fa1-4760-ab90-bf6c6a4b31ff\")>,\n",
       " <selenium.webdriver.remote.webelement.WebElement (session=\"468a013b55e4b80b08712134a253dbc1\", element=\"9e1f106a-a226-416b-bb0e-206b26e575c5\")>,\n",
       " <selenium.webdriver.remote.webelement.WebElement (session=\"468a013b55e4b80b08712134a253dbc1\", element=\"6a374615-f826-4c07-953d-a7a1b10a8157\")>,\n",
       " <selenium.webdriver.remote.webelement.WebElement (session=\"468a013b55e4b80b08712134a253dbc1\", element=\"a77f4185-e452-455d-82c5-f402d99528e9\")>,\n",
       " <selenium.webdriver.remote.webelement.WebElement (session=\"468a013b55e4b80b08712134a253dbc1\", element=\"bafabeb0-c68e-498c-83a5-af28e2d663d2\")>,\n",
       " <selenium.webdriver.remote.webelement.WebElement (session=\"468a013b55e4b80b08712134a253dbc1\", element=\"ae23476c-0ea0-4634-80a0-978d912abba5\")>,\n",
       " <selenium.webdriver.remote.webelement.WebElement (session=\"468a013b55e4b80b08712134a253dbc1\", element=\"9266790d-3db3-4d6b-8cb3-ec11a9a65cca\")>,\n",
       " <selenium.webdriver.remote.webelement.WebElement (session=\"468a013b55e4b80b08712134a253dbc1\", element=\"0ea7dcac-b1a8-48f7-8011-f2e658fdd05f\")>,\n",
       " <selenium.webdriver.remote.webelement.WebElement (session=\"468a013b55e4b80b08712134a253dbc1\", element=\"c6cadb73-73a6-4e82-9cdf-d1cae559aead\")>,\n",
       " <selenium.webdriver.remote.webelement.WebElement (session=\"468a013b55e4b80b08712134a253dbc1\", element=\"b2563199-d46e-4432-97ad-438995fc3972\")>,\n",
       " <selenium.webdriver.remote.webelement.WebElement (session=\"468a013b55e4b80b08712134a253dbc1\", element=\"a6e1ee4e-2123-4e2e-924b-b3d6ca9f91ce\")>,\n",
       " <selenium.webdriver.remote.webelement.WebElement (session=\"468a013b55e4b80b08712134a253dbc1\", element=\"db123635-32ec-45c9-9e7c-a1418394af16\")>]"
      ]
     },
     "execution_count": 569,
     "metadata": {},
     "output_type": "execute_result"
    }
   ],
   "source": [
    "titles=driver.find_elements_by_xpath('//div[@class=\"col-12 col-lg px-xsm\"]')\n",
    "titles"
   ]
  },
  {
   "cell_type": "code",
   "execution_count": 570,
   "metadata": {},
   "outputs": [
    {
     "data": {
      "text/plain": [
       "['Data Scientist',\n",
       " 'Data Scientist',\n",
       " 'Data Scientist',\n",
       " 'Data Scientist',\n",
       " 'Data Scientist',\n",
       " 'Data Scientist',\n",
       " 'Data Scientist',\n",
       " 'Data Scientist',\n",
       " 'Data Scientist',\n",
       " 'Data Scientist',\n",
       " 'Data Scientist',\n",
       " 'Data Scientist',\n",
       " 'Data Scientist',\n",
       " 'Data Scientist',\n",
       " 'Data Scientist',\n",
       " 'Data Scientist',\n",
       " 'Data Scientist',\n",
       " 'Data Scientist',\n",
       " 'Data Scientist - Monthly',\n",
       " 'Data Scientist']"
      ]
     },
     "execution_count": 570,
     "metadata": {},
     "output_type": "execute_result"
    }
   ],
   "source": [
    "title=[]\n",
    "for i in titles:\n",
    "    title.append(i.text)\n",
    "title\n"
   ]
  },
  {
   "cell_type": "code",
   "execution_count": 571,
   "metadata": {},
   "outputs": [
    {
     "data": {
      "text/plain": [
       "[<selenium.webdriver.remote.webelement.WebElement (session=\"468a013b55e4b80b08712134a253dbc1\", element=\"0ffe7394-a243-4287-bd8d-b59337f44844\")>,\n",
       " <selenium.webdriver.remote.webelement.WebElement (session=\"468a013b55e4b80b08712134a253dbc1\", element=\"137e7bc8-0bdd-4730-a23c-e2a2b57eefa6\")>,\n",
       " <selenium.webdriver.remote.webelement.WebElement (session=\"468a013b55e4b80b08712134a253dbc1\", element=\"5000808d-cec3-4599-8164-14af6b37f366\")>,\n",
       " <selenium.webdriver.remote.webelement.WebElement (session=\"468a013b55e4b80b08712134a253dbc1\", element=\"423b50f6-a040-4d8a-a218-075c7a05d384\")>,\n",
       " <selenium.webdriver.remote.webelement.WebElement (session=\"468a013b55e4b80b08712134a253dbc1\", element=\"357c19ed-dea0-45b4-b0c9-56d1696aabe9\")>,\n",
       " <selenium.webdriver.remote.webelement.WebElement (session=\"468a013b55e4b80b08712134a253dbc1\", element=\"a2c99f36-b4da-41b0-9782-c29e3416cb4a\")>,\n",
       " <selenium.webdriver.remote.webelement.WebElement (session=\"468a013b55e4b80b08712134a253dbc1\", element=\"987ff118-b136-44e1-8db0-19ddc0dad1ac\")>,\n",
       " <selenium.webdriver.remote.webelement.WebElement (session=\"468a013b55e4b80b08712134a253dbc1\", element=\"aa2b1372-263d-4d8c-bccf-c630c40102ec\")>,\n",
       " <selenium.webdriver.remote.webelement.WebElement (session=\"468a013b55e4b80b08712134a253dbc1\", element=\"f9515699-11ee-4cc6-afbf-2fc946306de0\")>,\n",
       " <selenium.webdriver.remote.webelement.WebElement (session=\"468a013b55e4b80b08712134a253dbc1\", element=\"95e6a4e2-0d41-4f74-8495-2a01b3e53550\")>,\n",
       " <selenium.webdriver.remote.webelement.WebElement (session=\"468a013b55e4b80b08712134a253dbc1\", element=\"b8897723-cf27-4523-a59c-2185d5da3170\")>,\n",
       " <selenium.webdriver.remote.webelement.WebElement (session=\"468a013b55e4b80b08712134a253dbc1\", element=\"e1a385e7-6feb-4f60-a9cf-fcc1d91fa7aa\")>,\n",
       " <selenium.webdriver.remote.webelement.WebElement (session=\"468a013b55e4b80b08712134a253dbc1\", element=\"8dd6fc63-558b-44ec-a3ce-bad1f62239b8\")>,\n",
       " <selenium.webdriver.remote.webelement.WebElement (session=\"468a013b55e4b80b08712134a253dbc1\", element=\"b70ffe16-b26f-457b-9d8e-ff56a7011ffe\")>,\n",
       " <selenium.webdriver.remote.webelement.WebElement (session=\"468a013b55e4b80b08712134a253dbc1\", element=\"7fca234b-1dc0-4c2a-af5c-bc10632aa8e2\")>,\n",
       " <selenium.webdriver.remote.webelement.WebElement (session=\"468a013b55e4b80b08712134a253dbc1\", element=\"e9a5a338-bf0e-40b0-8d62-660827f186cd\")>,\n",
       " <selenium.webdriver.remote.webelement.WebElement (session=\"468a013b55e4b80b08712134a253dbc1\", element=\"2db8c5cd-20d9-440e-8964-b04b5218f8c4\")>,\n",
       " <selenium.webdriver.remote.webelement.WebElement (session=\"468a013b55e4b80b08712134a253dbc1\", element=\"c1ff22ff-0431-4cc1-b5be-8f6b23c4d228\")>,\n",
       " <selenium.webdriver.remote.webelement.WebElement (session=\"468a013b55e4b80b08712134a253dbc1\", element=\"f9eb49f0-0db4-4046-a519-6bddf76213d2\")>,\n",
       " <selenium.webdriver.remote.webelement.WebElement (session=\"468a013b55e4b80b08712134a253dbc1\", element=\"9c99fca0-a030-4f63-8789-cf2d78d3b331\")>]"
      ]
     },
     "execution_count": 571,
     "metadata": {},
     "output_type": "execute_result"
    }
   ],
   "source": [
    "avg_sal=driver.find_elements_by_xpath('//div[@class=\"col-12 col-lg-4 px-lg-0 d-flex align-items-baseline\"]')\n",
    "avg_sal"
   ]
  },
  {
   "cell_type": "code",
   "execution_count": 572,
   "metadata": {},
   "outputs": [
    {
     "data": {
      "text/plain": [
       "['₹6,28,021 /yr',\n",
       " '₹9,08,246 /yr',\n",
       " '₹11,93,390 /yr',\n",
       " '₹12,49,716 /yr',\n",
       " '₹7,58,335 /yr',\n",
       " '₹12,80,000 /yr',\n",
       " '₹13,55,086 /yr',\n",
       " '₹14,55,430 /yr',\n",
       " '₹8,86,064 /yr',\n",
       " '₹11,10,000 /yr',\n",
       " '₹9,62,227 /yr',\n",
       " '₹11,71,868 /yr',\n",
       " '₹11,01,815 /yr',\n",
       " '₹12,40,275 /yr',\n",
       " '₹14,51,902 /yr',\n",
       " '₹11,30,374 /yr',\n",
       " '₹20,63,782 /yr',\n",
       " '₹10,80,727 /yr',\n",
       " '₹35,040 /mo',\n",
       " '₹8,48,220 /yr']"
      ]
     },
     "execution_count": 572,
     "metadata": {},
     "output_type": "execute_result"
    }
   ],
   "source": [
    "average_salary=[]\n",
    "for i in avg_sal:\n",
    "    average_salary.append(i.text.replace(\"\\n\",\"\"))\n",
    "average_salary"
   ]
  },
  {
   "cell_type": "code",
   "execution_count": 573,
   "metadata": {},
   "outputs": [
    {
     "data": {
      "text/plain": [
       "[<selenium.webdriver.remote.webelement.WebElement (session=\"468a013b55e4b80b08712134a253dbc1\", element=\"751fe266-08bd-4a14-824c-f531cda04107\")>,\n",
       " <selenium.webdriver.remote.webelement.WebElement (session=\"468a013b55e4b80b08712134a253dbc1\", element=\"15848e45-0bd5-45d2-9286-1d0a8ce4ded9\")>,\n",
       " <selenium.webdriver.remote.webelement.WebElement (session=\"468a013b55e4b80b08712134a253dbc1\", element=\"c2c1f656-5127-4bab-a33e-4d6f91b1ba1f\")>,\n",
       " <selenium.webdriver.remote.webelement.WebElement (session=\"468a013b55e4b80b08712134a253dbc1\", element=\"af9596b1-7831-44b7-b437-2acce5236073\")>,\n",
       " <selenium.webdriver.remote.webelement.WebElement (session=\"468a013b55e4b80b08712134a253dbc1\", element=\"337cba79-ca58-46aa-ae61-70f77c49830b\")>,\n",
       " <selenium.webdriver.remote.webelement.WebElement (session=\"468a013b55e4b80b08712134a253dbc1\", element=\"262d0e62-1d88-449e-aee1-f07a5315220d\")>,\n",
       " <selenium.webdriver.remote.webelement.WebElement (session=\"468a013b55e4b80b08712134a253dbc1\", element=\"63c328e0-56e0-43b0-a9ee-2c1544266649\")>,\n",
       " <selenium.webdriver.remote.webelement.WebElement (session=\"468a013b55e4b80b08712134a253dbc1\", element=\"5295bc59-b410-442f-9873-1d372ce158ab\")>,\n",
       " <selenium.webdriver.remote.webelement.WebElement (session=\"468a013b55e4b80b08712134a253dbc1\", element=\"37b5f7d5-9ba9-43e5-8e9a-576876e0311c\")>,\n",
       " <selenium.webdriver.remote.webelement.WebElement (session=\"468a013b55e4b80b08712134a253dbc1\", element=\"ee0f08a8-e596-4e28-85e0-e25fc92163ae\")>,\n",
       " <selenium.webdriver.remote.webelement.WebElement (session=\"468a013b55e4b80b08712134a253dbc1\", element=\"629329b2-9073-4376-bf04-75bf856f569f\")>,\n",
       " <selenium.webdriver.remote.webelement.WebElement (session=\"468a013b55e4b80b08712134a253dbc1\", element=\"d27d7b05-25c3-46ef-b171-bd096005431c\")>,\n",
       " <selenium.webdriver.remote.webelement.WebElement (session=\"468a013b55e4b80b08712134a253dbc1\", element=\"aff9b225-bc08-4c9d-8021-d27fb82a9637\")>,\n",
       " <selenium.webdriver.remote.webelement.WebElement (session=\"468a013b55e4b80b08712134a253dbc1\", element=\"5cd504a4-c0e1-4acb-bb0b-28709886d9fb\")>,\n",
       " <selenium.webdriver.remote.webelement.WebElement (session=\"468a013b55e4b80b08712134a253dbc1\", element=\"b22e8284-71a2-4ea4-8123-ebf8e2050dbb\")>,\n",
       " <selenium.webdriver.remote.webelement.WebElement (session=\"468a013b55e4b80b08712134a253dbc1\", element=\"5a42957b-2cb3-4cc8-b774-55eca00ec4b0\")>,\n",
       " <selenium.webdriver.remote.webelement.WebElement (session=\"468a013b55e4b80b08712134a253dbc1\", element=\"859fa4e3-ec6c-409f-96f5-e6d8ef72a561\")>,\n",
       " <selenium.webdriver.remote.webelement.WebElement (session=\"468a013b55e4b80b08712134a253dbc1\", element=\"9275b3df-92d1-4a27-acb0-333159126e26\")>,\n",
       " <selenium.webdriver.remote.webelement.WebElement (session=\"468a013b55e4b80b08712134a253dbc1\", element=\"5d984805-433a-4493-8144-3b1b741079b4\")>,\n",
       " <selenium.webdriver.remote.webelement.WebElement (session=\"468a013b55e4b80b08712134a253dbc1\", element=\"2df5bf63-7aec-4df2-8417-b28a3ea674f2\")>]"
      ]
     },
     "execution_count": 573,
     "metadata": {},
     "output_type": "execute_result"
    }
   ],
   "source": [
    "range_min_max_Sal=driver.find_elements_by_xpath('//span[@class=\"d-block d-lg-none m-0 css-1b6bxoo\"]')\n",
    "range_min_max_Sal"
   ]
  },
  {
   "cell_type": "code",
   "execution_count": 574,
   "metadata": {},
   "outputs": [
    {
     "data": {
      "text/plain": [
       "[' ₹4L - ₹13L',\n",
       " ' ₹1L - ₹28L',\n",
       " ' ₹6L - ₹23L',\n",
       " ' ₹5L - ₹1Cr',\n",
       " ' ₹4L - ₹17L',\n",
       " ' ₹8L - ₹16L',\n",
       " ' ₹8L - ₹20L',\n",
       " ' ₹10L - ₹18L',\n",
       " ' ₹5L - ₹15L',\n",
       " ' ₹6L - ₹16L',\n",
       " ' ₹4L - ₹13L',\n",
       " ' ₹2L - ₹19L',\n",
       " ' ₹4L - ₹21L',\n",
       " ' ₹6L - ₹17L',\n",
       " ' ₹10L - ₹21L',\n",
       " ' ₹8L - ₹21L',\n",
       " ' ₹10L - ₹30L',\n",
       " ' ₹9L - ₹15L',\n",
       " ' ₹12T - ₹64T',\n",
       " ' ₹5L - ₹73L']"
      ]
     },
     "execution_count": 574,
     "metadata": {},
     "output_type": "execute_result"
    }
   ],
   "source": [
    "Range_min_max_sal=[]\n",
    "for i in range_min_max_Sal:\n",
    "    Range_min_max_sal.append(i.text.replace(\"Range:\",\"\"))\n",
    "Range_min_max_sal"
   ]
  },
  {
   "cell_type": "code",
   "execution_count": 575,
   "metadata": {},
   "outputs": [
    {
     "data": {
      "text/plain": [
       "[<selenium.webdriver.remote.webelement.WebElement (session=\"468a013b55e4b80b08712134a253dbc1\", element=\"e91898b0-305d-4843-a952-41b0a44653d6\")>,\n",
       " <selenium.webdriver.remote.webelement.WebElement (session=\"468a013b55e4b80b08712134a253dbc1\", element=\"fbfbdbd9-865b-4b17-a342-cba539f17ea0\")>,\n",
       " <selenium.webdriver.remote.webelement.WebElement (session=\"468a013b55e4b80b08712134a253dbc1\", element=\"bc56503a-5f83-4a3b-9051-49f8d8262a88\")>,\n",
       " <selenium.webdriver.remote.webelement.WebElement (session=\"468a013b55e4b80b08712134a253dbc1\", element=\"cd2f0bfd-8966-4e06-9aed-b46ba700036e\")>,\n",
       " <selenium.webdriver.remote.webelement.WebElement (session=\"468a013b55e4b80b08712134a253dbc1\", element=\"426b518d-ab43-4971-8044-2e66f55b1130\")>,\n",
       " <selenium.webdriver.remote.webelement.WebElement (session=\"468a013b55e4b80b08712134a253dbc1\", element=\"33ae70bd-a08a-4144-8d26-76fa4d5d9ba7\")>,\n",
       " <selenium.webdriver.remote.webelement.WebElement (session=\"468a013b55e4b80b08712134a253dbc1\", element=\"be5b0d4c-896e-4f83-9231-6e38572e3426\")>,\n",
       " <selenium.webdriver.remote.webelement.WebElement (session=\"468a013b55e4b80b08712134a253dbc1\", element=\"8776b225-4c4e-43cb-85c0-b653a3575587\")>,\n",
       " <selenium.webdriver.remote.webelement.WebElement (session=\"468a013b55e4b80b08712134a253dbc1\", element=\"5d431b1a-330f-413e-b810-f17bcab4a866\")>,\n",
       " <selenium.webdriver.remote.webelement.WebElement (session=\"468a013b55e4b80b08712134a253dbc1\", element=\"7a34a437-3f82-4ac0-a711-92cbd34f7df3\")>,\n",
       " <selenium.webdriver.remote.webelement.WebElement (session=\"468a013b55e4b80b08712134a253dbc1\", element=\"fc03fa54-288b-4ac4-9a3e-1d6e3bd6212c\")>,\n",
       " <selenium.webdriver.remote.webelement.WebElement (session=\"468a013b55e4b80b08712134a253dbc1\", element=\"881f6b9b-3864-4f2b-9d6f-82e58d6cdbbe\")>,\n",
       " <selenium.webdriver.remote.webelement.WebElement (session=\"468a013b55e4b80b08712134a253dbc1\", element=\"8d338b32-df91-470e-8ea2-2b8b4e7af54f\")>,\n",
       " <selenium.webdriver.remote.webelement.WebElement (session=\"468a013b55e4b80b08712134a253dbc1\", element=\"374235e2-7061-47b9-b9f0-c1fc88344ec3\")>,\n",
       " <selenium.webdriver.remote.webelement.WebElement (session=\"468a013b55e4b80b08712134a253dbc1\", element=\"3a3d0884-cc79-4600-94a8-a80953da0642\")>,\n",
       " <selenium.webdriver.remote.webelement.WebElement (session=\"468a013b55e4b80b08712134a253dbc1\", element=\"a840d138-1ca0-4246-b5fa-f03809d7f155\")>,\n",
       " <selenium.webdriver.remote.webelement.WebElement (session=\"468a013b55e4b80b08712134a253dbc1\", element=\"0fb74fb5-4483-4445-8d3a-3da9cc80b990\")>,\n",
       " <selenium.webdriver.remote.webelement.WebElement (session=\"468a013b55e4b80b08712134a253dbc1\", element=\"d0f42a07-897e-414b-9de7-40a13ace835e\")>,\n",
       " <selenium.webdriver.remote.webelement.WebElement (session=\"468a013b55e4b80b08712134a253dbc1\", element=\"6fb4d266-107f-4bc8-935a-0ada477d3305\")>,\n",
       " <selenium.webdriver.remote.webelement.WebElement (session=\"468a013b55e4b80b08712134a253dbc1\", element=\"bf3529b3-d9b3-4b81-a9b2-334ed87aeec7\")>]"
      ]
     },
     "execution_count": 575,
     "metadata": {},
     "output_type": "execute_result"
    }
   ],
   "source": [
    "numbr_sal=driver.find_elements_by_xpath('//div[@class=\"col-12 col-lg-auto\"]')\n",
    "numbr_sal"
   ]
  },
  {
   "cell_type": "code",
   "execution_count": 576,
   "metadata": {},
   "outputs": [
    {
     "data": {
      "text/plain": [
       "['22 salaries',\n",
       " '20 salaries',\n",
       " '15 salaries',\n",
       " '15 salaries',\n",
       " '14 salaries',\n",
       " '14 salaries',\n",
       " '10 salaries',\n",
       " '10 salaries',\n",
       " '10 salaries',\n",
       " '9 salaries',\n",
       " '8 salaries',\n",
       " '8 salaries',\n",
       " '8 salaries',\n",
       " '8 salaries',\n",
       " '7 salaries',\n",
       " '7 salaries',\n",
       " '6 salaries',\n",
       " '6 salaries',\n",
       " '6 salaries',\n",
       " '6 salaries']"
      ]
     },
     "execution_count": 576,
     "metadata": {},
     "output_type": "execute_result"
    }
   ],
   "source": [
    "NumberofSalaries=[]\n",
    "for i in numbr_sal:\n",
    "    NumberofSalaries.append(i.text)\n",
    "NumberofSalaries"
   ]
  },
  {
   "cell_type": "code",
   "execution_count": 577,
   "metadata": {},
   "outputs": [
    {
     "name": "stdout",
     "output_type": "stream",
     "text": [
      "20 20 20 20 20\n"
     ]
    }
   ],
   "source": [
    "print(len(company),len(title),len(average_salary),len(Range_min_max_sal),len(NumberofSalaries))"
   ]
  },
  {
   "cell_type": "code",
   "execution_count": 578,
   "metadata": {},
   "outputs": [
    {
     "data": {
      "text/html": [
       "<div>\n",
       "<style scoped>\n",
       "    .dataframe tbody tr th:only-of-type {\n",
       "        vertical-align: middle;\n",
       "    }\n",
       "\n",
       "    .dataframe tbody tr th {\n",
       "        vertical-align: top;\n",
       "    }\n",
       "\n",
       "    .dataframe thead th {\n",
       "        text-align: right;\n",
       "    }\n",
       "</style>\n",
       "<table border=\"1\" class=\"dataframe\">\n",
       "  <thead>\n",
       "    <tr style=\"text-align: right;\">\n",
       "      <th></th>\n",
       "      <th>Company</th>\n",
       "      <th>Title</th>\n",
       "      <th>Average_salary</th>\n",
       "      <th>Range_min-max_salary</th>\n",
       "      <th>Number of Salaries</th>\n",
       "    </tr>\n",
       "  </thead>\n",
       "  <tbody>\n",
       "    <tr>\n",
       "      <th>0</th>\n",
       "      <td>Tata Consultancy Services</td>\n",
       "      <td>Data Scientist</td>\n",
       "      <td>₹6,28,021 /yr</td>\n",
       "      <td>₹4L - ₹13L</td>\n",
       "      <td>22 salaries</td>\n",
       "    </tr>\n",
       "    <tr>\n",
       "      <th>1</th>\n",
       "      <td>IBM</td>\n",
       "      <td>Data Scientist</td>\n",
       "      <td>₹9,08,246 /yr</td>\n",
       "      <td>₹1L - ₹28L</td>\n",
       "      <td>20 salaries</td>\n",
       "    </tr>\n",
       "    <tr>\n",
       "      <th>2</th>\n",
       "      <td>Accenture</td>\n",
       "      <td>Data Scientist</td>\n",
       "      <td>₹11,93,390 /yr</td>\n",
       "      <td>₹6L - ₹23L</td>\n",
       "      <td>15 salaries</td>\n",
       "    </tr>\n",
       "    <tr>\n",
       "      <th>3</th>\n",
       "      <td>Delhivery</td>\n",
       "      <td>Data Scientist</td>\n",
       "      <td>₹12,49,716 /yr</td>\n",
       "      <td>₹5L - ₹1Cr</td>\n",
       "      <td>15 salaries</td>\n",
       "    </tr>\n",
       "    <tr>\n",
       "      <th>4</th>\n",
       "      <td>Ericsson-Worldwide</td>\n",
       "      <td>Data Scientist</td>\n",
       "      <td>₹7,58,335 /yr</td>\n",
       "      <td>₹4L - ₹17L</td>\n",
       "      <td>14 salaries</td>\n",
       "    </tr>\n",
       "    <tr>\n",
       "      <th>5</th>\n",
       "      <td>UnitedHealth Group</td>\n",
       "      <td>Data Scientist</td>\n",
       "      <td>₹12,80,000 /yr</td>\n",
       "      <td>₹8L - ₹16L</td>\n",
       "      <td>14 salaries</td>\n",
       "    </tr>\n",
       "    <tr>\n",
       "      <th>6</th>\n",
       "      <td>Optum</td>\n",
       "      <td>Data Scientist</td>\n",
       "      <td>₹13,55,086 /yr</td>\n",
       "      <td>₹8L - ₹20L</td>\n",
       "      <td>10 salaries</td>\n",
       "    </tr>\n",
       "    <tr>\n",
       "      <th>7</th>\n",
       "      <td>Optum Global Solutions</td>\n",
       "      <td>Data Scientist</td>\n",
       "      <td>₹14,55,430 /yr</td>\n",
       "      <td>₹10L - ₹18L</td>\n",
       "      <td>10 salaries</td>\n",
       "    </tr>\n",
       "    <tr>\n",
       "      <th>8</th>\n",
       "      <td>Valiance Solutions</td>\n",
       "      <td>Data Scientist</td>\n",
       "      <td>₹8,86,064 /yr</td>\n",
       "      <td>₹5L - ₹15L</td>\n",
       "      <td>10 salaries</td>\n",
       "    </tr>\n",
       "    <tr>\n",
       "      <th>9</th>\n",
       "      <td>EXL Service</td>\n",
       "      <td>Data Scientist</td>\n",
       "      <td>₹11,10,000 /yr</td>\n",
       "      <td>₹6L - ₹16L</td>\n",
       "      <td>9 salaries</td>\n",
       "    </tr>\n",
       "  </tbody>\n",
       "</table>\n",
       "</div>"
      ],
      "text/plain": [
       "                     Company           Title  Average_salary  \\\n",
       "0  Tata Consultancy Services  Data Scientist   ₹6,28,021 /yr   \n",
       "1                        IBM  Data Scientist   ₹9,08,246 /yr   \n",
       "2                  Accenture  Data Scientist  ₹11,93,390 /yr   \n",
       "3                  Delhivery  Data Scientist  ₹12,49,716 /yr   \n",
       "4         Ericsson-Worldwide  Data Scientist   ₹7,58,335 /yr   \n",
       "5         UnitedHealth Group  Data Scientist  ₹12,80,000 /yr   \n",
       "6                      Optum  Data Scientist  ₹13,55,086 /yr   \n",
       "7     Optum Global Solutions  Data Scientist  ₹14,55,430 /yr   \n",
       "8         Valiance Solutions  Data Scientist   ₹8,86,064 /yr   \n",
       "9                EXL Service  Data Scientist  ₹11,10,000 /yr   \n",
       "\n",
       "  Range_min-max_salary Number of Salaries  \n",
       "0           ₹4L - ₹13L        22 salaries  \n",
       "1           ₹1L - ₹28L        20 salaries  \n",
       "2           ₹6L - ₹23L        15 salaries  \n",
       "3           ₹5L - ₹1Cr        15 salaries  \n",
       "4           ₹4L - ₹17L        14 salaries  \n",
       "5           ₹8L - ₹16L        14 salaries  \n",
       "6           ₹8L - ₹20L        10 salaries  \n",
       "7          ₹10L - ₹18L        10 salaries  \n",
       "8           ₹5L - ₹15L        10 salaries  \n",
       "9           ₹6L - ₹16L         9 salaries  "
      ]
     },
     "execution_count": 578,
     "metadata": {},
     "output_type": "execute_result"
    }
   ],
   "source": [
    "job_5=pd.DataFrame({})\n",
    "job_5['Company']=company[:10]\n",
    "job_5['Title']=title[:10]\n",
    "job_5['Average_salary']=average_salary[:10]\n",
    "job_5['Range_min-max_salary']=Range_min_max_sal[:10]\n",
    "job_5['Number of Salaries']=NumberofSalaries[:10]\n",
    "job_5"
   ]
  },
  {
   "cell_type": "code",
   "execution_count": null,
   "metadata": {},
   "outputs": [],
   "source": []
  },
  {
   "cell_type": "markdown",
   "metadata": {},
   "source": [
    "Q6 : Scrape data of first 100 sunglasses listings on flipkart.com. You have to \n",
    "scrape four attributes:\n",
    "1. Brand\n",
    "2. Product Description\n",
    "3. Price\n",
    "4. Discount %\n"
   ]
  },
  {
   "cell_type": "code",
   "execution_count": 579,
   "metadata": {},
   "outputs": [],
   "source": [
    "driver=webdriver.Chrome(\"chromedriver\")\n",
    "driver.get(\"https://www.flipkart.com/\")\n"
   ]
  },
  {
   "cell_type": "code",
   "execution_count": 580,
   "metadata": {},
   "outputs": [
    {
     "data": {
      "text/plain": [
       "<selenium.webdriver.remote.webelement.WebElement (session=\"f4b7e5badb2a5b5f08a591d5ba973e26\", element=\"0f00e6e3-b8b9-4d55-b45b-50cea3def8ca\")>"
      ]
     },
     "execution_count": 580,
     "metadata": {},
     "output_type": "execute_result"
    }
   ],
   "source": [
    "search_job6=driver.find_element_by_xpath('//input[@title=\"Search for products, brands and more\"]')\n",
    "search_job6"
   ]
  },
  {
   "cell_type": "code",
   "execution_count": 581,
   "metadata": {},
   "outputs": [],
   "source": [
    "search_job6.send_keys('sunglasses')"
   ]
  },
  {
   "cell_type": "code",
   "execution_count": 582,
   "metadata": {},
   "outputs": [],
   "source": [
    "search_btn=driver.find_element_by_xpath('//button[@class=\"L0Z3Pu\"]')"
   ]
  },
  {
   "cell_type": "code",
   "execution_count": 583,
   "metadata": {},
   "outputs": [],
   "source": [
    "search_btn.click()"
   ]
  },
  {
   "cell_type": "code",
   "execution_count": 211,
   "metadata": {},
   "outputs": [
    {
     "name": "stdout",
     "output_type": "stream",
     "text": [
      "[['OAKLEY'], ['Fastrack'], ['WROGN'], ['AISLIN'], ['agera'], ['POLICE'], ['Fastrack'], ['Villain'], ['GANSTA'], ['ROADWAY'], ['PETER JONES'], ['AISLIN'], ['ROYAL SON'], ['NuVew'], ['ROYAL SON'], ['AISLIN'], ['MGKNYAH'], ['ROYAL SON'], ['GANSTA'], ['NuVew'], ['DEIXELS'], ['NuVew'], ['AISLIN'], ['AISLIN'], ['AISLIN'], ['G-HAWK'], ['Fastrack'], ['AISLIN'], ['Ray-Ban'], ['NuVew'], ['ROYAL SON'], ['AISLIN'], ['AISLIN'], ['ROYAL SON'], ['AISLIN'], ['NuVew'], ['Real Madrid'], ['Fastrack'], ['Fastrack'], ['AISLIN'], ['AISLIN'], ['Real Madrid'], ['ROYAL SON'], ['Villain'], ['chawla fashion'], ['NuVew'], ['WROGN'], ['AISLIN'], ['ROYAL SON'], ['SHAAH COLLECTIONS'], ['GANSTA'], ['AISLIN'], ['I Flash'], ['HAMIW COLLECTION'], ['PIRASO'], ['AISLIN'], ['Fastrack'], ['ROYAL SON'], ['ROYAL SON'], ['AISLIN'], ['DAHAAZIL'], ['ROYAL SON'], ['GANSTA'], ['AISLIN'], ['PHENOMENAL'], ['hipe'], ['Poland'], ['AISLIN'], ['Fastrack'], ['AISLIN'], ['ROYAL SON'], ['NuVew'], ['WROGN'], ['DEIXELS'], ['AISLIN'], ['AISLIN'], ['SRPM'], ['AISLIN'], ['Fastrack'], ['ROZZETTA CRAFT'], ['ROZZETTA CRAFT'], ['Fastrack'], ['I Flash'], ['elegante'], ['ROYAL SON'], ['Kytsch'], ['WROGN'], ['Villain'], ['hipe'], ['Fastrack'], ['DAHAAZIL'], ['AISLIN'], ['like future'], ['AISLIN'], ['ROYAL SON'], ['AISLIN'], ['ROYAL SON'], ['ROYAL SON'], ['GANSTA'], ['AISLIN'], ['United Colors of Benetton'], ['ROYAL SON'], ['ROYAL SON'], ['AISLIN'], ['NuVew'], ['Azmani'], ['AISLIN'], ['AISLIN'], ['AISLIN'], ['Singco India'], ['like future'], ['NuVew'], ['ROYAL SON'], ['United Colors of Benetton'], ['Singco India'], ['AISLIN'], ['LIZA ANGEL'], ['Zuperia'], ['Fastrack'], ['AISLIN']]\n",
      "[['₹7,360'], ['₹884'], ['₹1,175'], ['₹525'], ['₹230'], ['₹3,499'], ['₹879'], ['₹599'], ['₹221'], ['₹426'], ['₹749'], ['₹525'], ['₹499'], ['₹258'], ['₹499'], ['₹469'], ['₹122'], ['₹749'], ['₹248'], ['₹395'], ['₹210'], ['₹364'], ['₹735'], ['₹658'], ['₹469'], ['₹349'], ['₹680'], ['₹525'], ['₹3,843'], ['₹355'], ['₹664'], ['₹829'], ['₹525'], ['₹699'], ['₹472'], ['₹364'], ['₹846'], ['₹627'], ['₹689'], ['₹525'], ['₹472'], ['₹846'], ['₹759'], ['₹599'], ['₹189'], ['₹353'], ['₹1,269'], ['₹525'], ['₹664'], ['₹192'], ['₹248'], ['₹469'], ['₹189'], ['₹199'], ['₹331'], ['₹516'], ['₹2,239'], ['₹699'], ['₹664'], ['₹525'], ['₹121'], ['₹599'], ['₹209'], ['₹525'], ['₹399'], ['₹299'], ['₹162'], ['₹525'], ['₹689'], ['₹1,206'], ['₹699'], ['₹364'], ['₹859'], ['₹210'], ['₹525'], ['₹658'], ['₹329'], ['₹525'], ['₹836'], ['₹404'], ['₹449'], ['₹1,730'], ['₹170'], ['₹449'], ['₹499'], ['₹204'], ['₹826'], ['₹599'], ['₹269'], ['₹1,916'], ['₹198'], ['₹525'], ['₹188'], ['₹1,185'], ['₹664'], ['₹516'], ['₹699'], ['₹664'], ['₹284'], ['₹525'], ['₹1,402'], ['₹699'], ['₹379'], ['₹469'], ['₹227'], ['₹99'], ['₹924'], ['₹658'], ['₹448'], ['₹239'], ['₹331'], ['₹395'], ['₹599'], ['₹1,317'], ['₹245'], ['₹525'], ['₹251'], ['₹221'], ['₹888'], ['₹525']]\n",
      "[['Clubmaster Sunglass'], ['UV Protection Wayfarer Sunglasses (Free Size)'], ['Polarized, UV Protection Aviator Sunglasses (55)'], ['UV Protection, Gradient Round, Cat-eye Sunglasses (60)'], ['Mirrored Aviator Sunglasses (55)'], ['Gradient Aviator Sunglasses (58)'], ['UV Protection Retro Square Sunglasses (Free Size)'], ['Others Wayfarer Sunglasses (Free Size)'], ['UV Protection Rectangular Sunglasses (60)'], ['UV Protection Retro Square, Sports Sunglasses (Free Siz'], ['Mirrored Aviator Sunglasses (58)'], ['UV Protection, Gradient Round, Cat-eye Sunglasses (60)'], ['Gradient, UV Protection Aviator, Retro Square Sunglasse'], ['UV Protection, Mirrored, Gradient Over-sized, Retro Squ'], ['UV Protection Rectangular Sunglasses (55)'], ['UV Protection, Gradient Wayfarer, Clubmaster Sunglasses'], ['UV Protection Aviator Sunglasses (Free Size)'], ['Polarized, UV Protection, Mirrored Aviator Sunglasses ('], ['UV Protection, Riding Glasses Aviator Sunglasses (57)'], ['UV Protection, Night Vision, Riding Glasses, Polarized '], ['UV Protection Rectangular Sunglasses (Free Size)'], ['UV Protection, Mirrored Wayfarer, Shield Sunglasses (57'], ['Riding Glasses, UV Protection, Mirrored Sports Sunglass'], ['UV Protection, Gradient Wayfarer Sunglasses (57)'], ['UV Protection, Mirrored Shield, Wayfarer Sunglasses (61'], ['UV Protection Rectangular Sunglasses (Free Size)'], ['UV Protection Wayfarer Sunglasses (55)'], ['UV Protection, Gradient Butterfly, Retro Square Sunglas'], ['Mirrored Aviator Sunglasses (63)'], ['UV Protection Sports Sunglasses (73)'], ['UV Protection Round Sunglasses (54)'], ['Toughened Glass Lens, UV Protection Aviator Sunglasses '], ['UV Protection, Gradient Wayfarer, Clubmaster Sunglasses'], ['Gradient, UV Protection Over-sized Sunglasses (60)'], ['UV Protection Wayfarer, Rectangular Sunglasses (58)'], ['UV Protection, Mirrored Wayfarer, Shield Sunglasses (60'], ['UV Protection Wayfarer Sunglasses (Free Size)'], ['UV Protection Aviator Sunglasses (Free Size)'], ['UV Protection Wrap-around Sunglasses (Free Size)'], ['UV Protection, Gradient Oval Sunglasses (58)'], ['UV Protection Wayfarer, Rectangular Sunglasses (58)'], ['UV Protection Wayfarer Sunglasses (Free Size)'], ['Polarized, UV Protection Wrap-around Sunglasses (60)'], ['Others Wayfarer Sunglasses (Free Size)'], ['UV Protection Round Sunglasses (Free Size)'], ['UV Protection, Gradient, Night Vision, Mirrored Aviator'], ['Polarized Aviator Sunglasses (44)'], ['UV Protection, Gradient Round, Cat-eye Sunglasses (60)'], ['Polarized Round Sunglasses (49)'], ['Mirrored Round Sunglasses (53)'], ['UV Protection, Gradient, Mirrored Round Sunglasses (53)'], ['UV Protection, Gradient Wayfarer, Clubmaster Sunglasses'], ['UV Protection, Polarized, Gradient, Riding Glasses, Nig'], ['UV Protection Wayfarer, Sports, Shield, Rectangular, Re'], ['UV Protection Aviator Sunglasses (50)'], ['UV Protection, Gradient Butterfly, Retro Square Sunglas'], ['UV Protection Aviator Sunglasses (25)'], ['Polarized, Mirrored Round Sunglasses (49)'], ['Polarized Wrap-around Sunglasses (66)'], ['UV Protection, Gradient Round, Cat-eye Sunglasses (60)'], ['Gradient Round Sunglasses (55)'], ['UV Protection Retro Square Sunglasses (88)'], ['UV Protection, Riding Glasses Wayfarer Sunglasses (53)'], ['UV Protection, Gradient Oval Sunglasses (58)'], ['UV Protection Retro Square Sunglasses (55)'], ['UV Protection, Riding Glasses, Gradient, Mirrored, Nigh'], ['UV Protection Wayfarer Sunglasses (Free Size)'], ['UV Protection, Gradient Butterfly, Retro Square Sunglas'], ['UV Protection Wrap-around Sunglasses (Free Size)'], ['Toughened Glass Lens, UV Protection Wayfarer, Retro Squ'], ['UV Protection Retro Square Sunglasses (54)'], ['UV Protection, Mirrored Wayfarer, Shield Sunglasses (60'], ['Polarized Over-sized Sunglasses (56)'], ['UV Protection Rectangular Sunglasses (Free Size)'], ['UV Protection, Gradient Cat-eye Sunglasses (58)'], ['UV Protection, Gradient Wayfarer Sunglasses (57)'], ['UV Protection Round Sunglasses (53)'], ['UV Protection, Gradient Butterfly, Wayfarer Sunglasses '], ['UV Protection, Mirrored Wayfarer Sunglasses (61)'], ['UV Protection, Gradient Retro Square Sunglasses (Free S'], ['UV Protection, Gradient Round Sunglasses (Free Size)'], ['UV Protection Aviator Sunglasses (Free Size)'], ['Gradient, UV Protection, Riding Glasses, Night Vision, '], ['UV Protection Oval Sunglasses (Free Size)'], ['UV Protection Rectangular Sunglasses (Free Size)'], ['UV Protection, Polarized Wayfarer, Aviator Sunglasses ('], ['UV Protection Wayfarer Sunglasses (55)'], ['Others Wayfarer Sunglasses (Free Size)'], ['Polarized, Gradient, UV Protection Retro Square Sunglas'], ['Gradient Round Sunglasses (Free Size)'], ['UV Protection, Night Vision, Riding Glasses Round Sungl'], ['UV Protection, Gradient Round, Cat-eye Sunglasses (60)'], ['UV Protection, Polarized, Gradient, Mirrored Retro Squa'], ['Toughened Glass Lens, UV Protection Aviator Sunglasses '], ['UV Protection Over-sized Sunglasses (53)'], ['UV Protection, Gradient Butterfly, Retro Square Sunglas'], ['UV Protection Over-sized Sunglasses (60)'], ['UV Protection, Gradient Butterfly Sunglasses (55)'], ['UV Protection Aviator Sunglasses (57)'], ['UV Protection, Gradient Round, Cat-eye Sunglasses (60)'], ['Mirrored, UV Protection Round Sunglasses (50)'], ['UV Protection Round, Oval, Cat-eye Sunglasses (56)'], ['Mirrored Aviator Sunglasses (58)'], ['UV Protection, Gradient Wayfarer, Clubmaster Sunglasses'], ['UV Protection, Riding Glasses Shield Sunglasses (70)'], ['Polarized Oval Sunglasses (Free Size)'], ['Toughened Glass Lens, UV Protection Rectangular Sunglas'], ['UV Protection, Gradient Wayfarer Sunglasses (57)'], ['UV Protection, Gradient Wayfarer, Cat-eye Sunglasses (6'], ['UV Protection, Riding Glasses, Others Retro Square Sung'], ['UV Protection, Gradient, Mirrored Wayfarer Sunglasses ('], ['UV Protection, Night Vision, Riding Glasses, Polarized '], ['Gradient Retro Square Sunglasses (88)'], ['Mirrored, UV Protection Aviator Sunglasses (56)'], ['UV Protection, Mirrored, Others Aviator Sunglasses (33)'], ['UV Protection, Gradient Butterfly, Retro Square Sunglas'], ['UV Protection, Mirrored, Riding Glasses Retro Square Su'], ['UV Protection Retro Square Sunglasses (Free Size)'], ['UV Protection Wrap-around Sunglasses (Free Size)'], ['UV Protection, Gradient Oval Sunglasses (58)']]\n",
      "[['19% off'], ['11% off'], ['63% off'], ['69% off'], ['79% off'], ['59% off'], ['12% off'], ['40% off'], ['77% off'], ['78% off'], ['71% off'], ['69% off'], ['66% off'], ['83% off'], ['66% off'], ['69% off'], ['79% off'], ['62% off'], ['80% off'], ['75% off'], ['82% off'], ['77% off'], ['74% off'], ['69% off'], ['74% off'], ['82% off'], ['24% off'], ['65% off'], ['30% off'], ['71% off'], ['66% off'], ['77% off'], ['65% off'], ['65% off'], ['78% off'], ['77% off'], ['71% off'], ['30% off'], ['23% off'], ['65% off'], ['78% off'], ['71% off'], ['62% off'], ['40% off'], ['84% off'], ['69% off'], ['63% off'], ['69% off'], ['66% off'], ['87% off'], ['80% off'], ['69% off'], ['84% off'], ['86% off'], ['79% off'], ['66% off'], ['20% off'], ['65% off'], ['66% off'], ['69% off'], ['75% off'], ['70% off'], ['88% off'], ['65% off'], ['80% off'], ['83% off'], ['67% off'], ['65% off'], ['23% off'], ['71% off'], ['65% off'], ['77% off'], ['71% off'], ['85% off'], ['65% off'], ['69% off'], ['78% off'], ['65% off'], ['7% off'], ['79% off'], ['77% off'], ['13% off'], ['85% off'], ['70% off'], ['66% off'], ['70% off'], ['72% off'], ['40% off'], ['79% off'], ['4% off'], ['80% off'], ['69% off'], ['81% off'], ['72% off'], ['66% off'], ['66% off'], ['65% off'], ['66% off'], ['85% off'], ['69% off'], ['65% off'], ['53% off'], ['74% off'], ['69% off'], ['82% off'], ['85% off'], ['71% off'], ['69% off'], ['73% off'], ['81% off'], ['74% off'], ['75% off'], ['70% off'], ['66% off'], ['75% off'], ['65% off'], ['68% off'], ['77% off'], ['31% off'], ['65% off']]\n",
      "120\n",
      "120\n",
      "120\n",
      "120\n"
     ]
    }
   ],
   "source": [
    "\n",
    "driver=webdriver.Chrome(\"chromedriver\")\n",
    "driver.get(\"https://www.flipkart.com/\")\n",
    "  \n",
    "# for holding the resultant list\n",
    "element_list = []\n",
    "element_list1= []\n",
    "element_list2= []\n",
    "element_list3= []\n",
    "  \n",
    "for page in range(1, 4, 1):\n",
    "    \n",
    "    page_url = \"https://www.flipkart.com/search?q=sunglasses&otracker=search&otracker1=search&marketplace=FLIPKART&as-show=on&as=off&page=1\" + str(page)\n",
    "    driver.get(page_url)\n",
    "    brand = driver.find_elements_by_class_name(\"_2WkVRV\")\n",
    "    price = driver.find_elements_by_class_name(\"_30jeq3\")\n",
    "    lens = driver.find_elements_by_class_name(\"IRpwTa\")\n",
    "    offer = driver.find_elements_by_class_name(\"_3Ay6Sb\")\n",
    "  \n",
    "    for i in range(len(brand)):\n",
    "        element_list.append([brand[i].text])\n",
    "        element_list1.append([price[i].text])\n",
    "        element_list2.append([lens[i].text.replace(\"...\",\"\")])\n",
    "        element_list3.append([offer[i].text])ip\n",
    "print(element_list)\n",
    "print(element_list1)\n",
    "print(element_list2)\n",
    "print(element_list3)\n",
    "print(len(element_list))\n",
    "print(len(element_list1))\n",
    "print(len(element_list2))\n",
    "print(len(element_list3))\n",
    "  \n",
    "#closing the driver\n",
    "driver.close()"
   ]
  },
  {
   "cell_type": "code",
   "execution_count": null,
   "metadata": {},
   "outputs": [],
   "source": []
  },
  {
   "cell_type": "code",
   "execution_count": 212,
   "metadata": {},
   "outputs": [
    {
     "data": {
      "text/html": [
       "<div>\n",
       "<style scoped>\n",
       "    .dataframe tbody tr th:only-of-type {\n",
       "        vertical-align: middle;\n",
       "    }\n",
       "\n",
       "    .dataframe tbody tr th {\n",
       "        vertical-align: top;\n",
       "    }\n",
       "\n",
       "    .dataframe thead th {\n",
       "        text-align: right;\n",
       "    }\n",
       "</style>\n",
       "<table border=\"1\" class=\"dataframe\">\n",
       "  <thead>\n",
       "    <tr style=\"text-align: right;\">\n",
       "      <th></th>\n",
       "      <th>Brand</th>\n",
       "      <th>price</th>\n",
       "      <th>lens</th>\n",
       "      <th>Offer</th>\n",
       "    </tr>\n",
       "  </thead>\n",
       "  <tbody>\n",
       "    <tr>\n",
       "      <th>0</th>\n",
       "      <td>[OAKLEY]</td>\n",
       "      <td>[₹7,360]</td>\n",
       "      <td>[Clubmaster Sunglass]</td>\n",
       "      <td>[19% off]</td>\n",
       "    </tr>\n",
       "    <tr>\n",
       "      <th>1</th>\n",
       "      <td>[Fastrack]</td>\n",
       "      <td>[₹884]</td>\n",
       "      <td>[UV Protection Wayfarer Sunglasses (Free Size)]</td>\n",
       "      <td>[11% off]</td>\n",
       "    </tr>\n",
       "    <tr>\n",
       "      <th>2</th>\n",
       "      <td>[WROGN]</td>\n",
       "      <td>[₹1,175]</td>\n",
       "      <td>[Polarized, UV Protection Aviator Sunglasses (...</td>\n",
       "      <td>[63% off]</td>\n",
       "    </tr>\n",
       "    <tr>\n",
       "      <th>3</th>\n",
       "      <td>[AISLIN]</td>\n",
       "      <td>[₹525]</td>\n",
       "      <td>[UV Protection, Gradient Round, Cat-eye Sungla...</td>\n",
       "      <td>[69% off]</td>\n",
       "    </tr>\n",
       "    <tr>\n",
       "      <th>4</th>\n",
       "      <td>[agera]</td>\n",
       "      <td>[₹230]</td>\n",
       "      <td>[Mirrored Aviator Sunglasses (55)]</td>\n",
       "      <td>[79% off]</td>\n",
       "    </tr>\n",
       "    <tr>\n",
       "      <th>...</th>\n",
       "      <td>...</td>\n",
       "      <td>...</td>\n",
       "      <td>...</td>\n",
       "      <td>...</td>\n",
       "    </tr>\n",
       "    <tr>\n",
       "      <th>95</th>\n",
       "      <td>[AISLIN]</td>\n",
       "      <td>[₹516]</td>\n",
       "      <td>[UV Protection, Gradient Butterfly, Retro Squa...</td>\n",
       "      <td>[66% off]</td>\n",
       "    </tr>\n",
       "    <tr>\n",
       "      <th>96</th>\n",
       "      <td>[ROYAL SON]</td>\n",
       "      <td>[₹699]</td>\n",
       "      <td>[UV Protection Over-sized Sunglasses (60)]</td>\n",
       "      <td>[65% off]</td>\n",
       "    </tr>\n",
       "    <tr>\n",
       "      <th>97</th>\n",
       "      <td>[ROYAL SON]</td>\n",
       "      <td>[₹664]</td>\n",
       "      <td>[UV Protection, Gradient Butterfly Sunglasses ...</td>\n",
       "      <td>[66% off]</td>\n",
       "    </tr>\n",
       "    <tr>\n",
       "      <th>98</th>\n",
       "      <td>[GANSTA]</td>\n",
       "      <td>[₹284]</td>\n",
       "      <td>[UV Protection Aviator Sunglasses (57)]</td>\n",
       "      <td>[85% off]</td>\n",
       "    </tr>\n",
       "    <tr>\n",
       "      <th>99</th>\n",
       "      <td>[AISLIN]</td>\n",
       "      <td>[₹525]</td>\n",
       "      <td>[UV Protection, Gradient Round, Cat-eye Sungla...</td>\n",
       "      <td>[69% off]</td>\n",
       "    </tr>\n",
       "  </tbody>\n",
       "</table>\n",
       "<p>100 rows × 4 columns</p>\n",
       "</div>"
      ],
      "text/plain": [
       "          Brand     price                                               lens  \\\n",
       "0      [OAKLEY]  [₹7,360]                              [Clubmaster Sunglass]   \n",
       "1    [Fastrack]    [₹884]    [UV Protection Wayfarer Sunglasses (Free Size)]   \n",
       "2       [WROGN]  [₹1,175]  [Polarized, UV Protection Aviator Sunglasses (...   \n",
       "3      [AISLIN]    [₹525]  [UV Protection, Gradient Round, Cat-eye Sungla...   \n",
       "4       [agera]    [₹230]                 [Mirrored Aviator Sunglasses (55)]   \n",
       "..          ...       ...                                                ...   \n",
       "95     [AISLIN]    [₹516]  [UV Protection, Gradient Butterfly, Retro Squa...   \n",
       "96  [ROYAL SON]    [₹699]         [UV Protection Over-sized Sunglasses (60)]   \n",
       "97  [ROYAL SON]    [₹664]  [UV Protection, Gradient Butterfly Sunglasses ...   \n",
       "98     [GANSTA]    [₹284]            [UV Protection Aviator Sunglasses (57)]   \n",
       "99     [AISLIN]    [₹525]  [UV Protection, Gradient Round, Cat-eye Sungla...   \n",
       "\n",
       "        Offer  \n",
       "0   [19% off]  \n",
       "1   [11% off]  \n",
       "2   [63% off]  \n",
       "3   [69% off]  \n",
       "4   [79% off]  \n",
       "..        ...  \n",
       "95  [66% off]  \n",
       "96  [65% off]  \n",
       "97  [66% off]  \n",
       "98  [85% off]  \n",
       "99  [69% off]  \n",
       "\n",
       "[100 rows x 4 columns]"
      ]
     },
     "execution_count": 212,
     "metadata": {},
     "output_type": "execute_result"
    }
   ],
   "source": [
    "df=pd.DataFrame()\n",
    "\n",
    "df['Brand']=element_list[:100]\n",
    "df['price']=element_list1[:100]\n",
    "df['lens']=element_list2[:100]\n",
    "df['Offer']=element_list3[:100]\n",
    "df"
   ]
  },
  {
   "cell_type": "code",
   "execution_count": null,
   "metadata": {},
   "outputs": [],
   "source": []
  },
  {
   "cell_type": "markdown",
   "metadata": {},
   "source": [
    "7:: Scrape 100 reviews data from flipkart.com for iphone11 phone. You have to \n",
    "go the link: https://www.flipkart.com/apple-iphone-11-black-64-gb-includes\u0002earpods-power\u0002adapter/p/itm0f37c2240b217?pid=MOBFKCTSVZAXUHGR&lid=LSTMOBFKC\n",
    "TSVZAXUHGREPBFGI&marketplace.\n",
    "When you will open the above link you will reach to the below shown webpage.As shown in the above page you have to scrape the tick marked attributes.\n",
    "These are \n",
    "1. Rating \n",
    "2. Review_summary \n",
    "3. Full review\n",
    "You have to scrape this data for first 100 reviews"
   ]
  },
  {
   "cell_type": "code",
   "execution_count": 230,
   "metadata": {},
   "outputs": [
    {
     "name": "stdout",
     "output_type": "stream",
     "text": [
      "[['5'], ['5'], ['5'], [''], [''], [''], [''], [''], [''], [''], ['5'], ['5'], ['5'], [''], [''], [''], [''], [''], [''], [''], ['5'], ['5'], ['5'], [''], [''], [''], [''], [''], [''], [''], ['5'], ['5'], ['5'], [''], [''], [''], [''], [''], [''], [''], ['5'], ['5'], ['5'], [''], [''], [''], [''], [''], [''], [''], ['5'], ['5'], ['5'], [''], [''], [''], [''], [''], [''], [''], ['5'], ['5'], ['5'], [''], [''], [''], [''], [''], [''], [''], ['5'], ['5'], ['5'], [''], [''], [''], [''], [''], [''], [''], ['5'], ['5'], ['5'], [''], [''], [''], [''], [''], [''], [''], ['5'], ['5'], ['5'], [''], [''], [''], [''], [''], [''], ['']]\n",
      "[['Brilliant'], ['Simply awesome'], ['Best in the market!'], [''], [''], [''], [''], [''], [''], [''], ['Brilliant'], ['Simply awesome'], ['Best in the market!'], [''], [''], [''], [''], [''], [''], [''], ['Brilliant'], ['Simply awesome'], ['Best in the market!'], [''], [''], [''], [''], [''], [''], [''], ['Brilliant'], ['Simply awesome'], ['Best in the market!'], [''], [''], [''], [''], [''], [''], [''], ['Brilliant'], ['Simply awesome'], ['Best in the market!'], [''], [''], [''], [''], [''], [''], [''], ['Brilliant'], ['Simply awesome'], ['Best in the market!'], [''], [''], [''], [''], [''], [''], [''], ['Brilliant'], ['Simply awesome'], ['Best in the market!'], [''], [''], [''], [''], [''], [''], [''], ['Brilliant'], ['Simply awesome'], ['Best in the market!'], [''], [''], [''], [''], [''], [''], [''], ['Brilliant'], ['Simply awesome'], ['Best in the market!'], [''], [''], [''], [''], [''], [''], [''], ['Brilliant'], ['Simply awesome'], ['Best in the market!'], [''], [''], [''], [''], [''], [''], ['']]\n",
      "[['The Best Phone for the MoneyThe iPhone 11 offers superb cameras, a more durable design and excellent battery life for an affordable price.Compelling ultra-wide cameraNew Night mode is excellentLong battery life'], ['Really satisfied with the Product I received... It’s totally genuine and the packaging was also really good so if ur planning to buy just go for it.'], ['Great iPhone very snappy experience as apple kind. Upgraded from iPhone 7.Pros-Camera top class- Battery top performed-Chipset no need to say as apple kind-Security as you expect from apple- Display super bright industry leading colouraccuracy and super responsive-Build quality as expect from apple sturdypremium durable beautiful stylish.-Os most stable os in smartphone industryCons-No 5G-Display is not based on OLED technology-Charger headphones and 1 apple stic...READ MORE'], [''], [''], [''], [''], [''], [''], [''], ['The Best Phone for the MoneyThe iPhone 11 offers superb cameras, a more durable design and excellent battery life for an affordable price.Compelling ultra-wide cameraNew Night mode is excellentLong battery life'], ['Really satisfied with the Product I received... It’s totally genuine and the packaging was also really good so if ur planning to buy just go for it.'], ['Great iPhone very snappy experience as apple kind. Upgraded from iPhone 7.Pros-Camera top class- Battery top performed-Chipset no need to say as apple kind-Security as you expect from apple- Display super bright industry leading colouraccuracy and super responsive-Build quality as expect from apple sturdypremium durable beautiful stylish.-Os most stable os in smartphone industryCons-No 5G-Display is not based on OLED technology-Charger headphones and 1 apple stic...READ MORE'], [''], [''], [''], [''], [''], [''], [''], ['The Best Phone for the MoneyThe iPhone 11 offers superb cameras, a more durable design and excellent battery life for an affordable price.Compelling ultra-wide cameraNew Night mode is excellentLong battery life'], ['Really satisfied with the Product I received... It’s totally genuine and the packaging was also really good so if ur planning to buy just go for it.'], ['Great iPhone very snappy experience as apple kind. Upgraded from iPhone 7.Pros-Camera top class- Battery top performed-Chipset no need to say as apple kind-Security as you expect from apple- Display super bright industry leading colouraccuracy and super responsive-Build quality as expect from apple sturdypremium durable beautiful stylish.-Os most stable os in smartphone industryCons-No 5G-Display is not based on OLED technology-Charger headphones and 1 apple stic...READ MORE'], [''], [''], [''], [''], [''], [''], [''], ['The Best Phone for the MoneyThe iPhone 11 offers superb cameras, a more durable design and excellent battery life for an affordable price.Compelling ultra-wide cameraNew Night mode is excellentLong battery life'], ['Really satisfied with the Product I received... It’s totally genuine and the packaging was also really good so if ur planning to buy just go for it.'], ['Great iPhone very snappy experience as apple kind. Upgraded from iPhone 7.Pros-Camera top class- Battery top performed-Chipset no need to say as apple kind-Security as you expect from apple- Display super bright industry leading colouraccuracy and super responsive-Build quality as expect from apple sturdypremium durable beautiful stylish.-Os most stable os in smartphone industryCons-No 5G-Display is not based on OLED technology-Charger headphones and 1 apple stic...READ MORE'], [''], [''], [''], [''], [''], [''], [''], ['The Best Phone for the MoneyThe iPhone 11 offers superb cameras, a more durable design and excellent battery life for an affordable price.Compelling ultra-wide cameraNew Night mode is excellentLong battery life'], ['Really satisfied with the Product I received... It’s totally genuine and the packaging was also really good so if ur planning to buy just go for it.'], ['Great iPhone very snappy experience as apple kind. Upgraded from iPhone 7.Pros-Camera top class- Battery top performed-Chipset no need to say as apple kind-Security as you expect from apple- Display super bright industry leading colouraccuracy and super responsive-Build quality as expect from apple sturdypremium durable beautiful stylish.-Os most stable os in smartphone industryCons-No 5G-Display is not based on OLED technology-Charger headphones and 1 apple stic...READ MORE'], [''], [''], [''], [''], [''], [''], [''], ['The Best Phone for the MoneyThe iPhone 11 offers superb cameras, a more durable design and excellent battery life for an affordable price.Compelling ultra-wide cameraNew Night mode is excellentLong battery life'], ['Really satisfied with the Product I received... It’s totally genuine and the packaging was also really good so if ur planning to buy just go for it.'], ['Great iPhone very snappy experience as apple kind. Upgraded from iPhone 7.Pros-Camera top class- Battery top performed-Chipset no need to say as apple kind-Security as you expect from apple- Display super bright industry leading colouraccuracy and super responsive-Build quality as expect from apple sturdypremium durable beautiful stylish.-Os most stable os in smartphone industryCons-No 5G-Display is not based on OLED technology-Charger headphones and 1 apple stic...READ MORE'], [''], [''], [''], [''], [''], [''], [''], ['The Best Phone for the MoneyThe iPhone 11 offers superb cameras, a more durable design and excellent battery life for an affordable price.Compelling ultra-wide cameraNew Night mode is excellentLong battery life'], ['Really satisfied with the Product I received... It’s totally genuine and the packaging was also really good so if ur planning to buy just go for it.'], ['Great iPhone very snappy experience as apple kind. Upgraded from iPhone 7.Pros-Camera top class- Battery top performed-Chipset no need to say as apple kind-Security as you expect from apple- Display super bright industry leading colouraccuracy and super responsive-Build quality as expect from apple sturdypremium durable beautiful stylish.-Os most stable os in smartphone industryCons-No 5G-Display is not based on OLED technology-Charger headphones and 1 apple stic...READ MORE'], [''], [''], [''], [''], [''], [''], [''], ['The Best Phone for the MoneyThe iPhone 11 offers superb cameras, a more durable design and excellent battery life for an affordable price.Compelling ultra-wide cameraNew Night mode is excellentLong battery life'], ['Really satisfied with the Product I received... It’s totally genuine and the packaging was also really good so if ur planning to buy just go for it.'], ['Great iPhone very snappy experience as apple kind. Upgraded from iPhone 7.Pros-Camera top class- Battery top performed-Chipset no need to say as apple kind-Security as you expect from apple- Display super bright industry leading colouraccuracy and super responsive-Build quality as expect from apple sturdypremium durable beautiful stylish.-Os most stable os in smartphone industryCons-No 5G-Display is not based on OLED technology-Charger headphones and 1 apple stic...READ MORE'], [''], [''], [''], [''], [''], [''], [''], ['The Best Phone for the MoneyThe iPhone 11 offers superb cameras, a more durable design and excellent battery life for an affordable price.Compelling ultra-wide cameraNew Night mode is excellentLong battery life'], ['Really satisfied with the Product I received... It’s totally genuine and the packaging was also really good so if ur planning to buy just go for it.'], ['Great iPhone very snappy experience as apple kind. Upgraded from iPhone 7.Pros-Camera top class- Battery top performed-Chipset no need to say as apple kind-Security as you expect from apple- Display super bright industry leading colouraccuracy and super responsive-Build quality as expect from apple sturdypremium durable beautiful stylish.-Os most stable os in smartphone industryCons-No 5G-Display is not based on OLED technology-Charger headphones and 1 apple stic...READ MORE'], [''], [''], [''], [''], [''], [''], [''], ['The Best Phone for the MoneyThe iPhone 11 offers superb cameras, a more durable design and excellent battery life for an affordable price.Compelling ultra-wide cameraNew Night mode is excellentLong battery life'], ['Really satisfied with the Product I received... It’s totally genuine and the packaging was also really good so if ur planning to buy just go for it.'], ['Great iPhone very snappy experience as apple kind. Upgraded from iPhone 7.Pros-Camera top class- Battery top performed-Chipset no need to say as apple kind-Security as you expect from apple- Display super bright industry leading colouraccuracy and super responsive-Build quality as expect from apple sturdypremium durable beautiful stylish.-Os most stable os in smartphone industryCons-No 5G-Display is not based on OLED technology-Charger headphones and 1 apple stic...READ MORE'], [''], [''], [''], [''], [''], [''], ['']]\n",
      "100\n",
      "100\n",
      "100\n"
     ]
    }
   ],
   "source": [
    "\n",
    "driver=webdriver.Chrome(\"chromedriver\")\n",
    "driver.get(\"https://www.flipkart.com/\")\n",
    "\n",
    "# for holding the resultant list\n",
    "iphone_list = []\n",
    "iphone_list1= []\n",
    "iphone_list2= []\n",
    "  \n",
    "for page in range(1, 11, 1):\n",
    "    \n",
    "    page_url = (\"https://www.flipkart.com/apple-iphone-11-black-64-gb-includes-earpods-power-adapter/p/itm0f37c2240b217?pid=MOBFKCTSVZAXUHGR&lid=LSTMOBFKCTSVZAXUHGREPBFGI&marketplace\")+ str(page)\n",
    "    driver.get(page_url)\n",
    "    ratings = driver.find_elements_by_xpath('//div[@class=\"_3LWZlK _1BLPMq\"]')\n",
    "    review_summary = driver.find_elements_by_class_name(\"_2-N8zT\")\n",
    "    full_review = driver.find_elements_by_class_name(\"t-ZTKy\")\n",
    "  \n",
    "    for i in range(len(ratings)):\n",
    "        iphone_list.append([ratings[i].text])\n",
    "        iphone_list1.append([review_summary[i].text])\n",
    "        iphone_list2.append([full_review[i].text.replace(\"\\n\",\"\")])\n",
    "    \n",
    "print(iphone_list)\n",
    "print(iphone_list1)\n",
    "print(iphone_list2)\n",
    "\n",
    "print(len(iphone_list))\n",
    "print(len(iphone_list1))\n",
    "print(len(iphone_list2))\n",
    "  \n",
    "#closing the driver\n",
    "driver.close()"
   ]
  },
  {
   "cell_type": "code",
   "execution_count": 231,
   "metadata": {},
   "outputs": [],
   "source": [
    "import pandas as pd"
   ]
  },
  {
   "cell_type": "code",
   "execution_count": 233,
   "metadata": {},
   "outputs": [
    {
     "data": {
      "text/html": [
       "<div>\n",
       "<style scoped>\n",
       "    .dataframe tbody tr th:only-of-type {\n",
       "        vertical-align: middle;\n",
       "    }\n",
       "\n",
       "    .dataframe tbody tr th {\n",
       "        vertical-align: top;\n",
       "    }\n",
       "\n",
       "    .dataframe thead th {\n",
       "        text-align: right;\n",
       "    }\n",
       "</style>\n",
       "<table border=\"1\" class=\"dataframe\">\n",
       "  <thead>\n",
       "    <tr style=\"text-align: right;\">\n",
       "      <th></th>\n",
       "      <th>RATINGS</th>\n",
       "      <th>REVIEW_SUMMARY</th>\n",
       "      <th>FULL_REVIEW</th>\n",
       "    </tr>\n",
       "  </thead>\n",
       "  <tbody>\n",
       "    <tr>\n",
       "      <th>0</th>\n",
       "      <td>[5]</td>\n",
       "      <td>[Brilliant]</td>\n",
       "      <td>[The Best Phone for the MoneyThe iPhone 11 off...</td>\n",
       "    </tr>\n",
       "    <tr>\n",
       "      <th>1</th>\n",
       "      <td>[5]</td>\n",
       "      <td>[Simply awesome]</td>\n",
       "      <td>[Really satisfied with the Product I received....</td>\n",
       "    </tr>\n",
       "    <tr>\n",
       "      <th>2</th>\n",
       "      <td>[5]</td>\n",
       "      <td>[Best in the market!]</td>\n",
       "      <td>[Great iPhone very snappy experience as apple ...</td>\n",
       "    </tr>\n",
       "    <tr>\n",
       "      <th>3</th>\n",
       "      <td>[]</td>\n",
       "      <td>[]</td>\n",
       "      <td>[]</td>\n",
       "    </tr>\n",
       "    <tr>\n",
       "      <th>4</th>\n",
       "      <td>[]</td>\n",
       "      <td>[]</td>\n",
       "      <td>[]</td>\n",
       "    </tr>\n",
       "    <tr>\n",
       "      <th>...</th>\n",
       "      <td>...</td>\n",
       "      <td>...</td>\n",
       "      <td>...</td>\n",
       "    </tr>\n",
       "    <tr>\n",
       "      <th>95</th>\n",
       "      <td>[]</td>\n",
       "      <td>[]</td>\n",
       "      <td>[]</td>\n",
       "    </tr>\n",
       "    <tr>\n",
       "      <th>96</th>\n",
       "      <td>[]</td>\n",
       "      <td>[]</td>\n",
       "      <td>[]</td>\n",
       "    </tr>\n",
       "    <tr>\n",
       "      <th>97</th>\n",
       "      <td>[]</td>\n",
       "      <td>[]</td>\n",
       "      <td>[]</td>\n",
       "    </tr>\n",
       "    <tr>\n",
       "      <th>98</th>\n",
       "      <td>[]</td>\n",
       "      <td>[]</td>\n",
       "      <td>[]</td>\n",
       "    </tr>\n",
       "    <tr>\n",
       "      <th>99</th>\n",
       "      <td>[]</td>\n",
       "      <td>[]</td>\n",
       "      <td>[]</td>\n",
       "    </tr>\n",
       "  </tbody>\n",
       "</table>\n",
       "<p>100 rows × 3 columns</p>\n",
       "</div>"
      ],
      "text/plain": [
       "   RATINGS         REVIEW_SUMMARY  \\\n",
       "0      [5]            [Brilliant]   \n",
       "1      [5]       [Simply awesome]   \n",
       "2      [5]  [Best in the market!]   \n",
       "3       []                     []   \n",
       "4       []                     []   \n",
       "..     ...                    ...   \n",
       "95      []                     []   \n",
       "96      []                     []   \n",
       "97      []                     []   \n",
       "98      []                     []   \n",
       "99      []                     []   \n",
       "\n",
       "                                          FULL_REVIEW  \n",
       "0   [The Best Phone for the MoneyThe iPhone 11 off...  \n",
       "1   [Really satisfied with the Product I received....  \n",
       "2   [Great iPhone very snappy experience as apple ...  \n",
       "3                                                  []  \n",
       "4                                                  []  \n",
       "..                                                ...  \n",
       "95                                                 []  \n",
       "96                                                 []  \n",
       "97                                                 []  \n",
       "98                                                 []  \n",
       "99                                                 []  \n",
       "\n",
       "[100 rows x 3 columns]"
      ]
     },
     "execution_count": 233,
     "metadata": {},
     "output_type": "execute_result"
    }
   ],
   "source": [
    "Df=pd.DataFrame({})\n",
    "\n",
    "Df['RATINGS']=iphone_list[:100]\n",
    "Df['REVIEW_SUMMARY']=iphone_list1[:100]\n",
    "Df['FULL_REVIEW']=iphone_list2[:100]\n",
    "Df\n"
   ]
  },
  {
   "cell_type": "markdown",
   "metadata": {},
   "source": [
    "8: Scrape data for first 100 sneakers you find when you visit flipkart.com and \n",
    "search for “sneakers” in the search field.\n",
    "You have to scrape 4 attributes of each sneaker :\n",
    "1. Brand\n",
    "2. Product Description\n",
    "3. Price\n",
    "4. discount %\n"
   ]
  },
  {
   "cell_type": "code",
   "execution_count": 238,
   "metadata": {},
   "outputs": [
    {
     "data": {
      "text/plain": [
       "<selenium.webdriver.remote.webelement.WebElement (session=\"7a9d2adc067d3ca27d1f57c71bdf2649\", element=\"f2bd2a78-f7b3-45fa-8243-0d6a9301f614\")>"
      ]
     },
     "execution_count": 238,
     "metadata": {},
     "output_type": "execute_result"
    }
   ],
   "source": [
    "driver=webdriver.Chrome(\"chromedriver\")\n",
    "driver.get(\"https://www.flipkart.com/\")\n",
    "search_tag=driver.find_element_by_xpath('//input[@class=\"_3704LK\"]')\n",
    "search_tag"
   ]
  },
  {
   "cell_type": "code",
   "execution_count": 239,
   "metadata": {},
   "outputs": [],
   "source": [
    "search_tag.send_keys(\"sneakers\")"
   ]
  },
  {
   "cell_type": "code",
   "execution_count": 240,
   "metadata": {},
   "outputs": [
    {
     "data": {
      "text/plain": [
       "<selenium.webdriver.remote.webelement.WebElement (session=\"7a9d2adc067d3ca27d1f57c71bdf2649\", element=\"40101021-449a-4ef2-9d22-80ec63598373\")>"
      ]
     },
     "execution_count": 240,
     "metadata": {},
     "output_type": "execute_result"
    }
   ],
   "source": [
    "btn_click=driver.find_element_by_xpath('//button[@class=\"L0Z3Pu\"]')\n",
    "btn_click"
   ]
  },
  {
   "cell_type": "code",
   "execution_count": 241,
   "metadata": {},
   "outputs": [],
   "source": [
    "btn_click.click()"
   ]
  },
  {
   "cell_type": "code",
   "execution_count": 243,
   "metadata": {},
   "outputs": [
    {
     "name": "stdout",
     "output_type": "stream",
     "text": [
      "[['Robbie jones'], ['VIPSJAZZY'], ['Longwalk'], ['luxury fashion'], ['ASTEROID'], ['BRUTON'], ['Creer'], ['TR'], ['Chevit'], ['PEHANOSA'], ['BIRDE'], ['luxury fashion'], ['Numenzo'], ['Shoes Bank'], ['Numenzo'], ['pollachief'], ['ASTEROID'], ['VIPSJAZZY'], ['World Wear Footwear'], ['Bonexy'], ['Numenzo'], ['Magnolia'], ['RODDICK SHOES'], ['Nilatin'], ['Arohi'], ['Airland'], ['Kreverse'], ['luxury fashion'], ['D-SNEAKERZ'], ['Numenzo'], ['Jack Diamond'], ['KWIK FIT'], ['SPARX'], ['restinfoot'], ['Robbie jones'], ['Kreverse'], ['HOC'], ['Kraasa'], ['India hub'], ['Echor'], ['Robbie jones'], ['VIPSJAZZY'], ['Longwalk'], ['luxury fashion'], ['ASTEROID'], ['BRUTON'], ['Creer'], ['India hub'], ['Chevit'], ['PEHANOSA'], ['BIRDE'], ['TR'], ['Numenzo'], ['Shoes Bank'], ['Numenzo'], ['pollachief'], ['ASTEROID'], ['VIPSJAZZY'], ['World Wear Footwear'], ['Bonexy'], ['Numenzo'], ['Magnolia'], ['RODDICK SHOES'], ['Nilatin'], ['Arohi'], ['Airland'], ['Kreverse'], ['luxury fashion'], ['D-SNEAKERZ'], ['Numenzo'], ['Jack Diamond'], ['KWIK FIT'], ['SPARX'], ['restinfoot'], ['Robbie jones'], ['Kreverse'], ['HOC'], ['Kraasa'], ['India hub'], ['Echor'], ['Robbie jones'], ['VIPSJAZZY'], ['Longwalk'], ['luxury fashion'], ['ASTEROID'], ['BRUTON'], ['Creer'], ['pollachief'], ['Chevit'], ['PEHANOSA'], ['BIRDE'], ['Bonexy'], ['Numenzo'], ['Shoes Bank'], ['Numenzo'], ['Nilatin'], ['ASTEROID'], ['VIPSJAZZY'], ['World Wear Footwear'], ['KWIK FIT'], ['Numenzo'], ['Magnolia'], ['RODDICK SHOES'], ['luxury fashion'], ['Arohi'], ['Airland'], ['Kreverse'], ['Kreverse'], ['D-SNEAKERZ'], ['Numenzo'], ['Jack Diamond'], ['Echor'], ['SPARX'], ['restinfoot'], ['Robbie jones'], ['Echor'], ['HOC'], ['Kraasa'], ['India hub'], ['Echor']]\n",
      "[['₹499'], ['₹429'], ['₹236'], ['₹379'], ['₹499'], ['₹474'], ['₹398'], ['₹499'], ['₹447'], ['₹371'], ['₹359'], ['₹379'], ['₹429'], ['₹378'], ['₹449'], ['₹421'], ['₹499'], ['₹399'], ['₹240'], ['₹474'], ['₹398'], ['₹356'], ['₹474'], ['₹449'], ['₹460'], ['₹250'], ['₹266'], ['₹369'], ['₹348'], ['₹449'], ['₹627'], ['₹399'], ['₹649'], ['₹349'], ['₹399'], ['₹266'], ['₹378'], ['₹444'], ['₹399'], ['₹429'], ['₹499'], ['₹429'], ['₹236'], ['₹379'], ['₹499'], ['₹474'], ['₹398'], ['₹379'], ['₹447'], ['₹371'], ['₹359'], ['₹499'], ['₹429'], ['₹378'], ['₹449'], ['₹421'], ['₹499'], ['₹399'], ['₹240'], ['₹474'], ['₹398'], ['₹356'], ['₹474'], ['₹449'], ['₹460'], ['₹250'], ['₹266'], ['₹369'], ['₹348'], ['₹449'], ['₹627'], ['₹399'], ['₹649'], ['₹349'], ['₹399'], ['₹266'], ['₹378'], ['₹444'], ['₹399'], ['₹429'], ['₹499'], ['₹429'], ['₹236'], ['₹379'], ['₹499'], ['₹474'], ['₹398'], ['₹421'], ['₹447'], ['₹371'], ['₹359'], ['₹474'], ['₹429'], ['₹378'], ['₹449'], ['₹449'], ['₹499'], ['₹399'], ['₹240'], ['₹399'], ['₹398'], ['₹356'], ['₹474'], ['₹369'], ['₹460'], ['₹250'], ['₹266'], ['₹266'], ['₹348'], ['₹449'], ['₹627'], ['₹429'], ['₹649'], ['₹349'], ['₹399'], ['₹454'], ['₹378'], ['₹444'], ['₹399'], ['₹399']]\n",
      "[['UV Protection Round Sunglasses (53)'], ['Mirrored, UV Protection Aviator Sunglasses (56)'], ['UV Protection, Gradient Cat-eye, Oval Sunglasses (61)'], ['UV Protection Clubmaster Sunglasses (53)'], ['UV Protection, Gradient Wayfarer, Aviator Sunglasses (5.'], ['Gradient, UV Protection Aviator, Retro Square Sunglasse.'], ['UV Protection Aviator Sunglasses (50)'], ['UV Protection Aviator Sunglasses (57)'], ['UV Protection Rectangular Sunglasses (60)'], ['UV Protection Aviator Sunglasses (Free Size)'], ['UV Protection Wayfarer Sunglasses (55)'], ['UV Protection Aviator Sunglasses (62)'], ['Mirrored Rectangular Sunglasses (53)'], ['UV Protection Retro Square Sunglasses (Free Size)'], ['Others Rectangular Sunglasses (51)'], ['UV Protection Wayfarer Sunglasses (Free Size)'], ['UV Protection Over-sized Sunglasses (60)'], ['Toughened Glass Lens, UV Protection Rectangular, Wrap-a.'], ['UV Protection, Mirrored Wayfarer Sunglasses (61)'], ['Polarized, UV Protection Round Sunglasses (49)'], ['UV Protection, Gradient Butterfly, Retro Square Sunglas.'], ['Polarized Wayfarer Sunglasses (51)'], ['UV Protection, Gradient Round Sunglasses (Free Size)'], ['Mirrored Aviator Sunglasses (58)'], ['UV Protection Rectangular Sunglasses (Free Size)'], ['UV Protection, Riding Glasses Shield Sunglasses (70)'], ['Gradient Retro Square Sunglasses (88)'], ['UV Protection Wayfarer, Aviator Sunglasses (88)'], ['UV Protection, Gradient, Mirrored Wayfarer Sunglasses (.'], ['UV Protection, Gradient Retro Square Sunglasses (Free S.'], ['Gradient, UV Protection Round Sunglasses (Free Size)'], ['Polarized Retro Square Sunglasses (58)'], ['Toughened Glass Lens, UV Protection Rectangular Sunglas.'], ['UV Protection, Gradient Wayfarer, Cat-eye Sunglasses (6.'], ['UV Protection Aviator Sunglasses (57)'], ['UV Protection Oval Sunglasses (56)'], ['UV Protection, Night Vision, Riding Glasses Over-sized,.'], ['Mirrored Aviator Sunglasses (Free Size)'], ['Mirrored, UV Protection Round Sunglasses (50)'], ['UV Protection Wayfarer Sunglasses (55)'], ['UV Protection Round Sunglasses (53)'], ['Mirrored, UV Protection Aviator Sunglasses (56)'], ['UV Protection, Gradient Cat-eye, Oval Sunglasses (61)'], ['UV Protection Clubmaster Sunglasses (53)'], ['UV Protection, Gradient Wayfarer, Aviator Sunglasses (5.'], ['Gradient, UV Protection Aviator, Retro Square Sunglasse.'], ['UV Protection Aviator Sunglasses (50)'], ['UV Protection Aviator Sunglasses (57)'], ['UV Protection Rectangular Sunglasses (60)'], ['UV Protection Aviator Sunglasses (Free Size)'], ['UV Protection Wayfarer Sunglasses (55)'], ['UV Protection Aviator Sunglasses (62)'], ['Mirrored Rectangular Sunglasses (53)'], ['UV Protection Retro Square Sunglasses (Free Size)'], ['Others Rectangular Sunglasses (51)'], ['UV Protection Wayfarer Sunglasses (Free Size)'], ['UV Protection Over-sized Sunglasses (60)'], ['Toughened Glass Lens, UV Protection Rectangular, Wrap-a.'], ['UV Protection, Mirrored Wayfarer Sunglasses (61)'], ['Polarized, UV Protection Round Sunglasses (49)'], ['UV Protection, Gradient Butterfly, Retro Square Sunglas.'], ['Polarized Wayfarer Sunglasses (51)'], ['UV Protection, Gradient Round Sunglasses (Free Size)'], ['Mirrored Aviator Sunglasses (58)'], ['UV Protection Rectangular Sunglasses (Free Size)'], ['UV Protection, Riding Glasses Shield Sunglasses (70)'], ['Gradient Retro Square Sunglasses (88)'], ['UV Protection Wayfarer, Aviator Sunglasses (88)'], ['UV Protection, Gradient, Mirrored Wayfarer Sunglasses (.'], ['UV Protection, Gradient Retro Square Sunglasses (Free S.'], ['Gradient, UV Protection Round Sunglasses (Free Size)'], ['Polarized Retro Square Sunglasses (58)'], ['Toughened Glass Lens, UV Protection Rectangular Sunglas.'], ['UV Protection, Gradient Wayfarer, Cat-eye Sunglasses (6.'], ['UV Protection Aviator Sunglasses (57)'], ['UV Protection Oval Sunglasses (56)'], ['UV Protection, Night Vision, Riding Glasses Over-sized,.'], ['Mirrored Aviator Sunglasses (Free Size)'], ['Mirrored, UV Protection Round Sunglasses (50)'], ['UV Protection Wayfarer Sunglasses (55)'], ['UV Protection Round Sunglasses (53)'], ['Mirrored, UV Protection Aviator Sunglasses (56)'], ['UV Protection, Gradient Cat-eye, Oval Sunglasses (61)'], ['UV Protection Clubmaster Sunglasses (53)'], ['UV Protection, Gradient Wayfarer, Aviator Sunglasses (5.'], ['Gradient, UV Protection Aviator, Retro Square Sunglasse.'], ['UV Protection Aviator Sunglasses (50)'], ['UV Protection Aviator Sunglasses (57)'], ['UV Protection Rectangular Sunglasses (60)'], ['UV Protection Aviator Sunglasses (Free Size)'], ['UV Protection Wayfarer Sunglasses (55)'], ['UV Protection Aviator Sunglasses (62)'], ['Mirrored Rectangular Sunglasses (53)'], ['UV Protection Retro Square Sunglasses (Free Size)'], ['Others Rectangular Sunglasses (51)'], ['UV Protection Wayfarer Sunglasses (Free Size)'], ['UV Protection Over-sized Sunglasses (60)'], ['Toughened Glass Lens, UV Protection Rectangular, Wrap-a.'], ['UV Protection, Mirrored Wayfarer Sunglasses (61)'], ['Polarized, UV Protection Round Sunglasses (49)'], ['UV Protection, Gradient Butterfly, Retro Square Sunglas.'], ['Polarized Wayfarer Sunglasses (51)'], ['UV Protection, Gradient Round Sunglasses (Free Size)'], ['Mirrored Aviator Sunglasses (58)'], ['UV Protection Rectangular Sunglasses (Free Size)'], ['UV Protection, Riding Glasses Shield Sunglasses (70)'], ['Gradient Retro Square Sunglasses (88)'], ['UV Protection Wayfarer, Aviator Sunglasses (88)'], ['UV Protection, Gradient, Mirrored Wayfarer Sunglasses (.'], ['UV Protection, Gradient Retro Square Sunglasses (Free S.'], ['Gradient, UV Protection Round Sunglasses (Free Size)'], ['Polarized Retro Square Sunglasses (58)'], ['Toughened Glass Lens, UV Protection Rectangular Sunglas.'], ['UV Protection, Gradient Wayfarer, Cat-eye Sunglasses (6.'], ['UV Protection Aviator Sunglasses (57)'], ['UV Protection Oval Sunglasses (56)'], ['UV Protection, Night Vision, Riding Glasses Over-sized,.'], ['Mirrored Aviator Sunglasses (Free Size)'], ['Mirrored, UV Protection Round Sunglasses (50)'], ['UV Protection Wayfarer Sunglasses (55)']]\n",
      "[['78% off'], ['66% off'], ['70% off'], ['75% off'], ['85% off'], ['66% off'], ['79% off'], ['85% off'], ['78% off'], ['13% off'], ['72% off'], ['78% off'], ['66% off'], ['77% off'], ['64% off'], ['83% off'], ['65% off'], ['68% off'], ['7% off'], ['66% off'], ['73% off'], ['50% off'], ['77% off'], ['74% off'], ['86% off'], ['82% off'], ['70% off'], ['77% off'], ['74% off'], ['79% off'], ['75% off'], ['57% off'], ['71% off'], ['75% off'], ['85% off'], ['76% off'], ['80% off'], ['73% off'], ['65% off'], ['80% off'], ['78% off'], ['66% off'], ['70% off'], ['75% off'], ['85% off'], ['66% off'], ['79% off'], ['85% off'], ['78% off'], ['13% off'], ['72% off'], ['78% off'], ['66% off'], ['77% off'], ['64% off'], ['83% off'], ['65% off'], ['68% off'], ['7% off'], ['66% off'], ['73% off'], ['50% off'], ['77% off'], ['74% off'], ['86% off'], ['82% off'], ['70% off'], ['77% off'], ['74% off'], ['79% off'], ['75% off'], ['57% off'], ['71% off'], ['75% off'], ['85% off'], ['76% off'], ['80% off'], ['73% off'], ['65% off'], ['80% off'], ['78% off'], ['66% off'], ['70% off'], ['75% off'], ['85% off'], ['66% off'], ['79% off'], ['85% off'], ['78% off'], ['13% off'], ['72% off'], ['78% off'], ['66% off'], ['77% off'], ['64% off'], ['83% off'], ['65% off'], ['68% off'], ['7% off'], ['66% off'], ['73% off'], ['50% off'], ['77% off'], ['74% off'], ['86% off'], ['82% off'], ['70% off'], ['77% off'], ['74% off'], ['79% off'], ['75% off'], ['57% off'], ['71% off'], ['75% off'], ['85% off'], ['76% off'], ['80% off'], ['73% off'], ['65% off'], ['80% off']]\n",
      "120\n",
      "120\n",
      "120\n",
      "120\n"
     ]
    }
   ],
   "source": [
    "driver=webdriver.Chrome(\"chromedriver\")\n",
    "driver.get(\"https://www.flipkart.com/\")\n",
    "  \n",
    "# for holding the resultant list\n",
    "sneakers_list = []\n",
    "sneakers_list1= []\n",
    "sneakers_list2= []\n",
    "sneakers_list3= []\n",
    "  \n",
    "for page in range(1, 4, 1):\n",
    "    \n",
    "    page_url = \"https://www.flipkart.com/search?q=sneakers&otracker=search&otracker1=search&marketplace=FLIPKART&as-show=on&as=off\" + str(page)\n",
    "    driver.get(page_url)\n",
    "    brand = driver.find_elements_by_class_name(\"_2WkVRV\")\n",
    "    product_desc = driver.find_elements_by_class_name(\"IRpwTa\")\n",
    "    price = driver.find_elements_by_class_name(\"_30jeq3\")\n",
    "    discount = driver.find_elements_by_class_name(\"_3Ay6Sb\")\n",
    "  \n",
    "    for i in range(len(brand)):\n",
    "        sneakers_list.append([brand[i].text])\n",
    "        sneakers_list1.append([price[i].text])\n",
    "        sneakers_list2.append([lens[i].text.replace(\"..\",\"\")])\n",
    "        sneakers_list3.append([offer[i].text])\n",
    "print(sneakers_list)\n",
    "print(sneakers_list1)\n",
    "print(sneakers_list2)\n",
    "print(sneakers_list3)\n",
    "\n",
    "print(len(sneakers_list))\n",
    "print(len(sneakers_list1))\n",
    "print(len(sneakers_list2))\n",
    "print(len(sneakers_list3))\n",
    "  \n",
    "#closing the driver"
   ]
  },
  {
   "cell_type": "code",
   "execution_count": 244,
   "metadata": {},
   "outputs": [
    {
     "data": {
      "text/html": [
       "<div>\n",
       "<style scoped>\n",
       "    .dataframe tbody tr th:only-of-type {\n",
       "        vertical-align: middle;\n",
       "    }\n",
       "\n",
       "    .dataframe tbody tr th {\n",
       "        vertical-align: top;\n",
       "    }\n",
       "\n",
       "    .dataframe thead th {\n",
       "        text-align: right;\n",
       "    }\n",
       "</style>\n",
       "<table border=\"1\" class=\"dataframe\">\n",
       "  <thead>\n",
       "    <tr style=\"text-align: right;\">\n",
       "      <th></th>\n",
       "      <th>Brand</th>\n",
       "      <th>Product_Review</th>\n",
       "      <th>Price</th>\n",
       "      <th>Discount%</th>\n",
       "    </tr>\n",
       "  </thead>\n",
       "  <tbody>\n",
       "    <tr>\n",
       "      <th>0</th>\n",
       "      <td>[Robbie jones]</td>\n",
       "      <td>[₹499]</td>\n",
       "      <td>[UV Protection Round Sunglasses (53)]</td>\n",
       "      <td>[78% off]</td>\n",
       "    </tr>\n",
       "    <tr>\n",
       "      <th>1</th>\n",
       "      <td>[VIPSJAZZY]</td>\n",
       "      <td>[₹429]</td>\n",
       "      <td>[Mirrored, UV Protection Aviator Sunglasses (56)]</td>\n",
       "      <td>[66% off]</td>\n",
       "    </tr>\n",
       "    <tr>\n",
       "      <th>2</th>\n",
       "      <td>[Longwalk]</td>\n",
       "      <td>[₹236]</td>\n",
       "      <td>[UV Protection, Gradient Cat-eye, Oval Sunglas...</td>\n",
       "      <td>[70% off]</td>\n",
       "    </tr>\n",
       "    <tr>\n",
       "      <th>3</th>\n",
       "      <td>[luxury fashion]</td>\n",
       "      <td>[₹379]</td>\n",
       "      <td>[UV Protection Clubmaster Sunglasses (53)]</td>\n",
       "      <td>[75% off]</td>\n",
       "    </tr>\n",
       "    <tr>\n",
       "      <th>4</th>\n",
       "      <td>[ASTEROID]</td>\n",
       "      <td>[₹499]</td>\n",
       "      <td>[UV Protection, Gradient Wayfarer, Aviator Sun...</td>\n",
       "      <td>[85% off]</td>\n",
       "    </tr>\n",
       "    <tr>\n",
       "      <th>...</th>\n",
       "      <td>...</td>\n",
       "      <td>...</td>\n",
       "      <td>...</td>\n",
       "      <td>...</td>\n",
       "    </tr>\n",
       "    <tr>\n",
       "      <th>95</th>\n",
       "      <td>[Nilatin]</td>\n",
       "      <td>[₹449]</td>\n",
       "      <td>[UV Protection Wayfarer Sunglasses (Free Size)]</td>\n",
       "      <td>[83% off]</td>\n",
       "    </tr>\n",
       "    <tr>\n",
       "      <th>96</th>\n",
       "      <td>[ASTEROID]</td>\n",
       "      <td>[₹499]</td>\n",
       "      <td>[UV Protection Over-sized Sunglasses (60)]</td>\n",
       "      <td>[65% off]</td>\n",
       "    </tr>\n",
       "    <tr>\n",
       "      <th>97</th>\n",
       "      <td>[VIPSJAZZY]</td>\n",
       "      <td>[₹399]</td>\n",
       "      <td>[Toughened Glass Lens, UV Protection Rectangul...</td>\n",
       "      <td>[68% off]</td>\n",
       "    </tr>\n",
       "    <tr>\n",
       "      <th>98</th>\n",
       "      <td>[World Wear Footwear]</td>\n",
       "      <td>[₹240]</td>\n",
       "      <td>[UV Protection, Mirrored Wayfarer Sunglasses (...</td>\n",
       "      <td>[7% off]</td>\n",
       "    </tr>\n",
       "    <tr>\n",
       "      <th>99</th>\n",
       "      <td>[KWIK FIT]</td>\n",
       "      <td>[₹399]</td>\n",
       "      <td>[Polarized, UV Protection Round Sunglasses (49)]</td>\n",
       "      <td>[66% off]</td>\n",
       "    </tr>\n",
       "  </tbody>\n",
       "</table>\n",
       "<p>100 rows × 4 columns</p>\n",
       "</div>"
      ],
      "text/plain": [
       "                    Brand Product_Review  \\\n",
       "0          [Robbie jones]         [₹499]   \n",
       "1             [VIPSJAZZY]         [₹429]   \n",
       "2              [Longwalk]         [₹236]   \n",
       "3        [luxury fashion]         [₹379]   \n",
       "4              [ASTEROID]         [₹499]   \n",
       "..                    ...            ...   \n",
       "95              [Nilatin]         [₹449]   \n",
       "96             [ASTEROID]         [₹499]   \n",
       "97            [VIPSJAZZY]         [₹399]   \n",
       "98  [World Wear Footwear]         [₹240]   \n",
       "99             [KWIK FIT]         [₹399]   \n",
       "\n",
       "                                                Price  Discount%  \n",
       "0               [UV Protection Round Sunglasses (53)]  [78% off]  \n",
       "1   [Mirrored, UV Protection Aviator Sunglasses (56)]  [66% off]  \n",
       "2   [UV Protection, Gradient Cat-eye, Oval Sunglas...  [70% off]  \n",
       "3          [UV Protection Clubmaster Sunglasses (53)]  [75% off]  \n",
       "4   [UV Protection, Gradient Wayfarer, Aviator Sun...  [85% off]  \n",
       "..                                                ...        ...  \n",
       "95    [UV Protection Wayfarer Sunglasses (Free Size)]  [83% off]  \n",
       "96         [UV Protection Over-sized Sunglasses (60)]  [65% off]  \n",
       "97  [Toughened Glass Lens, UV Protection Rectangul...  [68% off]  \n",
       "98  [UV Protection, Mirrored Wayfarer Sunglasses (...   [7% off]  \n",
       "99   [Polarized, UV Protection Round Sunglasses (49)]  [66% off]  \n",
       "\n",
       "[100 rows x 4 columns]"
      ]
     },
     "execution_count": 244,
     "metadata": {},
     "output_type": "execute_result"
    }
   ],
   "source": [
    "Df_shoes=pd.DataFrame({})\n",
    "Df_shoes['Brand']=sneakers_list[:100]\n",
    "Df_shoes['Product_Review']=sneakers_list1[:100]\n",
    "Df_shoes['Price']=sneakers_list2[:100]\n",
    "Df_shoes['Discount%']=sneakers_list3[:100]\n",
    "Df_shoes"
   ]
  },
  {
   "cell_type": "markdown",
   "metadata": {},
   "source": [
    "9: Go to the link - https://www.myntra.com/shoes\n",
    "Set Price filter to “Rs. 6649 to Rs. 13099” , Color filter to “Black”,And then scrape First 100 shoes data you get. The data should include “Brand” of \n",
    "the shoes , Short Shoe description, price of the shoe as shown in the below image"
   ]
  },
  {
   "cell_type": "code",
   "execution_count": 318,
   "metadata": {},
   "outputs": [],
   "source": [
    "from selenium.webdriver.common.by import By"
   ]
  },
  {
   "cell_type": "code",
   "execution_count": null,
   "metadata": {},
   "outputs": [],
   "source": []
  },
  {
   "cell_type": "code",
   "execution_count": 307,
   "metadata": {},
   "outputs": [],
   "source": [
    "driver=webdriver.Chrome(\"chromedriver\")\n",
    "driver.get(\"https://www.myntra.com/shoes\")"
   ]
  },
  {
   "cell_type": "code",
   "execution_count": 308,
   "metadata": {},
   "outputs": [
    {
     "data": {
      "text/plain": [
       "<selenium.webdriver.remote.webelement.WebElement (session=\"e00439a3ea73f6bc52b2c2253cd74300\", element=\"7985ff5c-1569-41b5-85e4-056a7a507c4f\")>"
      ]
     },
     "execution_count": 308,
     "metadata": {},
     "output_type": "execute_result"
    }
   ],
   "source": [
    "search_tags=driver.find_element_by_xpath('//input[@class=\"desktop-searchBar\"]')\n",
    "search_tags"
   ]
  },
  {
   "cell_type": "code",
   "execution_count": 309,
   "metadata": {},
   "outputs": [],
   "source": [
    "search_tags.send_keys(\"shoes\")"
   ]
  },
  {
   "cell_type": "code",
   "execution_count": 319,
   "metadata": {},
   "outputs": [],
   "source": [
    "driver.find_elements(By.XPATH,\"//input[@type='checkbox' and @class='price-input']/..\")[1].click()\n",
    "time.sleep(3)\n",
    "\n"
   ]
  },
  {
   "cell_type": "code",
   "execution_count": 320,
   "metadata": {},
   "outputs": [],
   "source": [
    "driver.find_element(By.XPATH,\"//label[@class='common-customCheckbox']/span[@data-colorhex='black']\").click()\n",
    "time.sleep(2)"
   ]
  },
  {
   "cell_type": "code",
   "execution_count": 322,
   "metadata": {},
   "outputs": [
    {
     "name": "stdout",
     "output_type": "stream",
     "text": [
      "[['ALDO'], ['Puma'], ['Puma'], ['Puma'], ['Puma'], ['Hush Puppies'], ['Puma'], ['Nike'], ['UNDER ARMOUR'], ['UNDER ARMOUR'], ['ASICS'], ['Puma'], ['Puma'], ['Puma'], ['Hush Puppies'], ['UNDER ARMOUR'], ['FORCLAZ By Decathlon'], ['Calvin Klein'], ['Hush Puppies'], ['UNDER ARMOUR'], ['UNDER ARMOUR'], ['UNDER ARMOUR'], ['Hush Puppies'], ['Puma'], ['UNDER ARMOUR'], ['PUMA Motorsport'], ['ASICS'], ['ASICS'], ['Geox'], ['J.FONTINI'], ['Puma'], ['Geox'], ['ROSSO BRUNELLO'], ['Hush Puppies'], ['DAVINCHI'], ['UNDER ARMOUR'], ['Geox'], ['PUMA Motorsport'], ['J.FONTINI'], ['ROSSO BRUNELLO'], ['PUMA Motorsport'], ['ALDO'], ['Geox'], ['Puma'], ['ROSSO BRUNELLO'], ['Heel & Buckle London'], ['Clarks'], ['PUMA Motorsport'], ['J.FONTINI'], ['ALDO'], ['ALDO'], ['Puma'], ['Puma'], ['Puma'], ['Puma'], ['Hush Puppies'], ['Puma'], ['Nike'], ['UNDER ARMOUR'], ['UNDER ARMOUR'], ['ASICS'], ['Puma'], ['ROSSO BRUNELLO'], ['Geox'], ['J.FONTINI'], ['Puma'], ['Puma'], ['Geox'], ['Hush Puppies'], ['ROSSO BRUNELLO'], ['UNDER ARMOUR'], ['FORCLAZ By Decathlon'], ['Calvin Klein'], ['Hush Puppies'], ['UNDER ARMOUR'], ['UNDER ARMOUR'], ['UNDER ARMOUR'], ['Hush Puppies'], ['Puma'], ['UNDER ARMOUR'], ['ASICS'], ['PUMA Motorsport'], ['ASICS'], ['Clarks'], ['Puma'], ['Geox'], ['Hush Puppies'], ['DAVINCHI'], ['UNDER ARMOUR'], ['RARE RABBIT'], ['PUMA Motorsport'], ['J.FONTINI'], ['PUMA Motorsport'], ['ALDO'], ['Puma'], ['Geox'], ['ROSSO BRUNELLO'], ['Heel & Buckle London'], ['ROSSO BRUNELLO'], ['PUMA Motorsport']]\n",
      "[['Men Driving Shoes'], ['Men Cell Fraction Fade Running'], ['Men Velocity Nitro Running'], ['Mesh Hybrid Fuego Running'], ['Men BlackTraining or Gym Shoes'], ['Men Solid Leather Formal Slip-Ons'], ['Men FUSE Training Shoes'], [\"Men BlazerLow '77 Sneakers\"], ['Men HOVR Infinite Running'], ['Women HOVR Sonic 4 FnRn'], ['Men Tennis Shoes'], ['Men Liberate NITRO Running'], ['Men Jamming 2.0 Running Shoes'], ['Men Black Shoes'], ['Men Solid Leather Formal Slip-Ons'], ['Women Charged Impulse Shft'], ['TREKKING 100 Boots'], ['Men Loafers'], ['Men Leather Slip-On Sneakers'], ['Men HOVR Sonic STRT Tech Shoes'], ['Women Charged Vantage ClrShft'], ['Women HOVR Sonic 4 Running'], ['Men Formal Derbys'], ['Men Football Shoes'], ['Women Charged Assert 8 Running'], ['Unisex Mercedes F1 Sneakers'], ['Women GlideRide Running Shoes'], ['Women Running Shoes'], ['Men Printed Slip-On Sneakers'], ['Men Black Leather Loafers'], ['Women Eternity Nitro Running'], ['Men Leather Flat Boots'], ['Men Solid Leather Formal Monk Shoes'], ['Men Solid Leather Formal Derbys'], ['Men Textured Formal Leather Loafers'], ['Women Charged Bandit 6 Running'], ['Men Sneakers'], ['Unisex FerrariRS-Fast Sneakers'], ['Men Solid Loafers'], ['Men Leather Formal Loafers'], ['Unisex Ferrari Drift8 Sneakers'], ['Women Woven Design Sneakers'], ['Men Solid Sneakers'], ['Unisex Colourblocked Sneakers'], ['Men Solid Formal Monks Shoes'], ['Women Solid Leather Gladiators'], ['Men Solid Formal Leather Derbys'], ['Women BMW M Motorsport Shoes'], ['Men Textured Leather Formal Loafers'], ['Women Sneakers'], ['Men Driving Shoes'], ['Men Cell Fraction Fade Running'], ['Men Velocity Nitro Running'], ['Mesh Hybrid Fuego Running'], ['Men BlackTraining or Gym Shoes'], ['Men Solid Leather Formal Slip-Ons'], ['Men FUSE Training Shoes'], [\"Men BlazerLow '77 Sneakers\"], ['Men HOVR Infinite Running'], ['Women HOVR Sonic 4 FnRn'], ['Men Tennis Shoes'], ['Men Liberate NITRO Running'], ['Men Solid Leather Formal Monk Shoes'], ['Men Printed Slip-On Sneakers'], ['Men Black Leather Loafers'], ['Men Jamming 2.0 Running Shoes'], ['Men Black Shoes'], ['Men Sneakers'], ['Men Solid Leather Formal Slip-Ons'], ['Men Leather Formal Loafers'], ['Women Charged Impulse Shft'], ['TREKKING 100 Boots'], ['Men Loafers'], ['Men Leather Slip-On Sneakers'], ['Men HOVR Sonic STRT Tech Shoes'], ['Women Charged Vantage ClrShft'], ['Women HOVR Sonic 4 Running'], ['Men Formal Derbys'], ['Men Football Shoes'], ['Women Charged Assert 8 Running'], ['Women GlideRide Running Shoes'], ['Unisex Mercedes F1 Sneakers'], ['Women Running Shoes'], ['Men Solid Formal Leather Derbys'], ['Women Eternity Nitro Running'], ['Men Leather Flat Boots'], ['Men Solid Leather Formal Derbys'], ['Men Textured Formal Leather Loafers'], ['Women Charged Bandit 6 Running'], ['Men Leather Flat Boots'], ['Unisex FerrariRS-Fast Sneakers'], ['Men Solid Loafers'], ['Unisex Ferrari Drift8 Sneakers'], ['Women Woven Design Sneakers'], ['Unisex Colourblocked Sneakers'], ['Men Solid Sneakers'], ['Men Solid Formal Monks Shoes'], ['Women Solid Leather Gladiators'], ['Men Leather Formal Loafers'], ['Women BMW M Motorsport Shoes']]\n",
      "[['Rs. 11999'], ['Rs. 6999'], ['Rs. 10999'], ['Rs. 6999'], ['Rs. 6999'], ['Rs. 8099Rs. 8999(10% OFF)'], ['Rs. 7999'], ['Rs. 7195'], ['Rs. 11999'], ['Rs. 10999'], ['Rs. 9999'], ['Rs. 9999'], ['Rs. 12999'], ['Rs. 6999'], ['Rs. 8999Rs. 9999(10% OFF)'], ['Rs. 7499'], ['Rs. 6999'], ['Rs. 7649Rs. 8999(15% OFF)'], ['Rs. 6999Rs. 9999(30% OFF)'], ['Rs. 9999'], ['Rs. 7999'], ['Rs. 10999'], ['Rs. 8999Rs. 9999(10% OFF)'], ['Rs. 12749Rs. 16999(25% OFF)'], ['Rs. 6999'], ['Rs. 7999'], ['Rs. 11199Rs. 13999(20% OFF)'], ['Rs. 8999'], ['Rs. 10999'], ['Rs. 8490'], ['Rs. 7149Rs. 12999(45% OFF)'], ['Rs. 11999'], ['Rs. 12999'], ['Rs. 8999Rs. 9999(10% OFF)'], ['Rs. 8990'], ['Rs. 8999'], ['Rs. 9999'], ['Rs. 9999'], ['Rs. 8990'], ['Rs. 11999'], ['Rs. 7999'], ['Rs. 7799Rs. 12999(40% OFF)'], ['Rs. 9999'], ['Rs. 6999'], ['Rs. 12999'], ['Rs. 6993Rs. 9990(30% OFF)'], ['Rs. 9999'], ['Rs. 6999'], ['Rs. 8990'], ['Rs. 11999'], ['Rs. 11999'], ['Rs. 6999'], ['Rs. 10999'], ['Rs. 6999'], ['Rs. 6999'], ['Rs. 8099Rs. 8999(10% OFF)'], ['Rs. 7999'], ['Rs. 7195'], ['Rs. 11999'], ['Rs. 10999'], ['Rs. 9999'], ['Rs. 9999'], ['Rs. 12999'], ['Rs. 10999'], ['Rs. 8490'], ['Rs. 12999'], ['Rs. 6999'], ['Rs. 9999'], ['Rs. 8999Rs. 9999(10% OFF)'], ['Rs. 11999'], ['Rs. 7499'], ['Rs. 6999'], ['Rs. 7649Rs. 8999(15% OFF)'], ['Rs. 6999Rs. 9999(30% OFF)'], ['Rs. 9999'], ['Rs. 7999'], ['Rs. 10999'], ['Rs. 8999Rs. 9999(10% OFF)'], ['Rs. 12749Rs. 16999(25% OFF)'], ['Rs. 6999'], ['Rs. 11199Rs. 13999(20% OFF)'], ['Rs. 7999'], ['Rs. 8999'], ['Rs. 9999'], ['Rs. 7149Rs. 12999(45% OFF)'], ['Rs. 11999'], ['Rs. 8999Rs. 9999(10% OFF)'], ['Rs. 8990'], ['Rs. 8999'], ['Rs. 10999'], ['Rs. 9999'], ['Rs. 8990'], ['Rs. 7999'], ['Rs. 7799Rs. 12999(40% OFF)'], ['Rs. 6999'], ['Rs. 9999'], ['Rs. 12999'], ['Rs. 6993Rs. 9990(30% OFF)'], ['Rs. 12999'], ['Rs. 6999']]\n",
      "100\n",
      "100\n",
      "100\n"
     ]
    }
   ],
   "source": [
    "# for holding the resultant list\n",
    "shoe_list = []\n",
    "shoe_list1= []\n",
    "shoe_list2= []\n",
    "  \n",
    "for page in range(1, 3, 1):\n",
    "    \n",
    "    page_url = (\"https://www.myntra.com/shoes?f=Color%3ABlack_36454f&plaEnabled=false&rf=Price%3A6871.0_13578.0_6871.0%20TO%2013578.0\")+ str(page)\n",
    "    driver.get(page_url)\n",
    "    brand = driver.find_elements_by_xpath('//h3[@class=\"product-brand\"]')\n",
    "    short_desc = driver.find_elements_by_class_name(\"product-product\")\n",
    "    price = driver.find_elements_by_class_name(\"product-price\")\n",
    "  \n",
    "    for i in range(len(brand)):\n",
    "        shoe_list.append([brand[i].text])\n",
    "        shoe_list1.append([short_desc[i].text])\n",
    "        shoe_list2.append([price[i].text])\n",
    "    \n",
    "print(shoe_list)\n",
    "print(shoe_list1)\n",
    "print(shoe_list2)\n",
    "\n",
    "print(len(shoe_list))\n",
    "print(len(shoe_list1))\n",
    "print(len(shoe_list2))\n",
    "  "
   ]
  },
  {
   "cell_type": "code",
   "execution_count": 323,
   "metadata": {},
   "outputs": [],
   "source": [
    "import pandas as pd"
   ]
  },
  {
   "cell_type": "code",
   "execution_count": 324,
   "metadata": {},
   "outputs": [
    {
     "data": {
      "text/html": [
       "<div>\n",
       "<style scoped>\n",
       "    .dataframe tbody tr th:only-of-type {\n",
       "        vertical-align: middle;\n",
       "    }\n",
       "\n",
       "    .dataframe tbody tr th {\n",
       "        vertical-align: top;\n",
       "    }\n",
       "\n",
       "    .dataframe thead th {\n",
       "        text-align: right;\n",
       "    }\n",
       "</style>\n",
       "<table border=\"1\" class=\"dataframe\">\n",
       "  <thead>\n",
       "    <tr style=\"text-align: right;\">\n",
       "      <th></th>\n",
       "      <th>Brand</th>\n",
       "      <th>Short_Desc</th>\n",
       "      <th>Price</th>\n",
       "    </tr>\n",
       "  </thead>\n",
       "  <tbody>\n",
       "    <tr>\n",
       "      <th>0</th>\n",
       "      <td>[ALDO]</td>\n",
       "      <td>[Men Driving Shoes]</td>\n",
       "      <td>[Rs. 11999]</td>\n",
       "    </tr>\n",
       "    <tr>\n",
       "      <th>1</th>\n",
       "      <td>[Puma]</td>\n",
       "      <td>[Men Cell Fraction Fade Running]</td>\n",
       "      <td>[Rs. 6999]</td>\n",
       "    </tr>\n",
       "    <tr>\n",
       "      <th>2</th>\n",
       "      <td>[Puma]</td>\n",
       "      <td>[Men Velocity Nitro Running]</td>\n",
       "      <td>[Rs. 10999]</td>\n",
       "    </tr>\n",
       "    <tr>\n",
       "      <th>3</th>\n",
       "      <td>[Puma]</td>\n",
       "      <td>[Mesh Hybrid Fuego Running]</td>\n",
       "      <td>[Rs. 6999]</td>\n",
       "    </tr>\n",
       "    <tr>\n",
       "      <th>4</th>\n",
       "      <td>[Puma]</td>\n",
       "      <td>[Men BlackTraining or Gym Shoes]</td>\n",
       "      <td>[Rs. 6999]</td>\n",
       "    </tr>\n",
       "    <tr>\n",
       "      <th>...</th>\n",
       "      <td>...</td>\n",
       "      <td>...</td>\n",
       "      <td>...</td>\n",
       "    </tr>\n",
       "    <tr>\n",
       "      <th>95</th>\n",
       "      <td>[Geox]</td>\n",
       "      <td>[Men Solid Sneakers]</td>\n",
       "      <td>[Rs. 9999]</td>\n",
       "    </tr>\n",
       "    <tr>\n",
       "      <th>96</th>\n",
       "      <td>[ROSSO BRUNELLO]</td>\n",
       "      <td>[Men Solid Formal Monks Shoes]</td>\n",
       "      <td>[Rs. 12999]</td>\n",
       "    </tr>\n",
       "    <tr>\n",
       "      <th>97</th>\n",
       "      <td>[Heel &amp; Buckle London]</td>\n",
       "      <td>[Women Solid Leather Gladiators]</td>\n",
       "      <td>[Rs. 6993Rs. 9990(30% OFF)]</td>\n",
       "    </tr>\n",
       "    <tr>\n",
       "      <th>98</th>\n",
       "      <td>[ROSSO BRUNELLO]</td>\n",
       "      <td>[Men Leather Formal Loafers]</td>\n",
       "      <td>[Rs. 12999]</td>\n",
       "    </tr>\n",
       "    <tr>\n",
       "      <th>99</th>\n",
       "      <td>[PUMA Motorsport]</td>\n",
       "      <td>[Women BMW M Motorsport Shoes]</td>\n",
       "      <td>[Rs. 6999]</td>\n",
       "    </tr>\n",
       "  </tbody>\n",
       "</table>\n",
       "<p>100 rows × 3 columns</p>\n",
       "</div>"
      ],
      "text/plain": [
       "                     Brand                        Short_Desc  \\\n",
       "0                   [ALDO]               [Men Driving Shoes]   \n",
       "1                   [Puma]  [Men Cell Fraction Fade Running]   \n",
       "2                   [Puma]      [Men Velocity Nitro Running]   \n",
       "3                   [Puma]       [Mesh Hybrid Fuego Running]   \n",
       "4                   [Puma]  [Men BlackTraining or Gym Shoes]   \n",
       "..                     ...                               ...   \n",
       "95                  [Geox]              [Men Solid Sneakers]   \n",
       "96        [ROSSO BRUNELLO]    [Men Solid Formal Monks Shoes]   \n",
       "97  [Heel & Buckle London]  [Women Solid Leather Gladiators]   \n",
       "98        [ROSSO BRUNELLO]      [Men Leather Formal Loafers]   \n",
       "99       [PUMA Motorsport]    [Women BMW M Motorsport Shoes]   \n",
       "\n",
       "                          Price  \n",
       "0                   [Rs. 11999]  \n",
       "1                    [Rs. 6999]  \n",
       "2                   [Rs. 10999]  \n",
       "3                    [Rs. 6999]  \n",
       "4                    [Rs. 6999]  \n",
       "..                          ...  \n",
       "95                   [Rs. 9999]  \n",
       "96                  [Rs. 12999]  \n",
       "97  [Rs. 6993Rs. 9990(30% OFF)]  \n",
       "98                  [Rs. 12999]  \n",
       "99                   [Rs. 6999]  \n",
       "\n",
       "[100 rows x 3 columns]"
      ]
     },
     "execution_count": 324,
     "metadata": {},
     "output_type": "execute_result"
    }
   ],
   "source": [
    "Black_shoes=pd.DataFrame({})\n",
    "Black_shoes['Brand']=shoe_list\n",
    "Black_shoes['Short_Desc']=shoe_list1\n",
    "Black_shoes['Price']=shoe_list2\n",
    "Black_shoes"
   ]
  },
  {
   "cell_type": "code",
   "execution_count": null,
   "metadata": {},
   "outputs": [],
   "source": [
    "10: Go to webpage https://www.amazon.in/\n",
    " Enter “Laptop” in the search field and then click the search icon.\n",
    " Then set CPU Type filter to “Intel Core i7” and “Intel Core i9” as shown in the \n",
    "below image:After setting the filters scrape first 10 laptops data. You have to scrape 3 attributes \n",
    "for each laptop:\n",
    "1. title\n",
    "2. Ratings\n",
    "3. Price\n",
    "As shown in the below image as the tick marked attributes."
   ]
  },
  {
   "cell_type": "code",
   "execution_count": 433,
   "metadata": {},
   "outputs": [],
   "source": [
    "driver=webdriver.Chrome(\"chromedriver\")\n",
    "driver.get(\"https://www.amazon.in/\")"
   ]
  },
  {
   "cell_type": "code",
   "execution_count": null,
   "metadata": {},
   "outputs": [],
   "source": []
  },
  {
   "cell_type": "code",
   "execution_count": 434,
   "metadata": {},
   "outputs": [
    {
     "data": {
      "text/plain": [
       "<selenium.webdriver.remote.webelement.WebElement (session=\"ec7028a77ef81614b86d76aa316c6ceb\", element=\"fa4f0f95-ea1f-443c-b6b4-b95f398d4447\")>"
      ]
     },
     "execution_count": 434,
     "metadata": {},
     "output_type": "execute_result"
    }
   ],
   "source": [
    "search_tag=driver.find_element_by_xpath('//input[@id=\"twotabsearchtextbox\"]')\n",
    "search_tag"
   ]
  },
  {
   "cell_type": "code",
   "execution_count": null,
   "metadata": {},
   "outputs": [],
   "source": []
  },
  {
   "cell_type": "code",
   "execution_count": 435,
   "metadata": {},
   "outputs": [],
   "source": [
    "search_tag.send_keys(\"laptops\")"
   ]
  },
  {
   "cell_type": "code",
   "execution_count": 436,
   "metadata": {},
   "outputs": [
    {
     "data": {
      "text/plain": [
       "<selenium.webdriver.remote.webelement.WebElement (session=\"ec7028a77ef81614b86d76aa316c6ceb\", element=\"d272e301-8956-4137-a59e-059bbcd1b795\")>"
      ]
     },
     "execution_count": 436,
     "metadata": {},
     "output_type": "execute_result"
    }
   ],
   "source": [
    "search_btn=driver.find_element_by_xpath('//input[@id=\"nav-search-submit-button\"]')\n",
    "search_btn"
   ]
  },
  {
   "cell_type": "code",
   "execution_count": 437,
   "metadata": {},
   "outputs": [],
   "source": [
    "search_btn.click()"
   ]
  },
  {
   "cell_type": "code",
   "execution_count": 438,
   "metadata": {},
   "outputs": [],
   "source": [
    "driver.get(\"https://www.amazon.in/s?k=laptops&ref=nb_sb_noss_2\")"
   ]
  },
  {
   "cell_type": "code",
   "execution_count": null,
   "metadata": {},
   "outputs": [],
   "source": []
  },
  {
   "cell_type": "code",
   "execution_count": 439,
   "metadata": {},
   "outputs": [],
   "source": [
    "filter_button=driver.find_elements_by_xpath(\"//a[@class='a-link-normal s-navigation-item']\")\n",
    "for i in filter_button:\n",
    "    if i.text=='Intel Core i7':\n",
    "        i.click()\n",
    "        break"
   ]
  },
  {
   "cell_type": "code",
   "execution_count": 440,
   "metadata": {},
   "outputs": [],
   "source": [
    "filter_button=driver.find_elements_by_xpath(\"//a[@class='a-link-normal s-navigation-item']\")\n",
    "for i in filter_button:\n",
    "    if i.text=='Intel Core i9':\n",
    "        i.click()\n",
    "        break"
   ]
  },
  {
   "cell_type": "code",
   "execution_count": 441,
   "metadata": {},
   "outputs": [],
   "source": [
    "urls=[]\n",
    "for i in driver.find_elements_by_xpath('//a[@class=\"a-link-normal a-text-normal\"]'):\n",
    "    urls.append(i.get_attribute(\"href\"))\n",
    "\n"
   ]
  },
  {
   "cell_type": "code",
   "execution_count": null,
   "metadata": {},
   "outputs": [],
   "source": []
  },
  {
   "cell_type": "code",
   "execution_count": 442,
   "metadata": {},
   "outputs": [
    {
     "data": {
      "text/plain": [
       "['https://www.amazon.in/gp/slredirect/picassoRedirect.html/ref=pa_sp_atf_computers_sr_pg1_1?ie=UTF8&adId=A10081262K6KZOZ37JXYV&url=%2FHP-Processor-13-3-inch-Touchscreen-13-ba1018TX%2Fdp%2FB091FJ13Q5%2Fref%3Dsr_1_1_sspa%3Fdchild%3D1%26keywords%3Dlaptops%26qid%3D1631287576%26refinements%3Dp_n_feature_thirteen_browse-bin%253A12598163031%257C16757432031%26rnid%3D12598141031%26s%3Dcomputers%26sr%3D1-1-spons%26psc%3D1&qualifier=1631287576&id=3310174837873399&widgetName=sp_atf',\n",
       " 'https://www.amazon.in/gp/slredirect/picassoRedirect.html/ref=pa_sp_atf_computers_sr_pg1_1?ie=UTF8&adId=A00766773MSMG2AO2CGIQ&url=%2FAcer-Swift-Display-Touchscreen-Notebook%2Fdp%2FB08M41DHTV%2Fref%3Dsr_1_2_sspa%3Fdchild%3D1%26keywords%3Dlaptops%26qid%3D1631287576%26refinements%3Dp_n_feature_thirteen_browse-bin%253A12598163031%257C16757432031%26rnid%3D12598141031%26s%3Dcomputers%26sr%3D1-2-spons%26psc%3D1&qualifier=1631287576&id=3310174837873399&widgetName=sp_atf',\n",
       " 'https://www.amazon.in/Lenovo-IdeaPad-Windows-Graphics-82H1002CIN/dp/B094XJPQ6N/ref=sr_1_3?dchild=1&keywords=laptops&qid=1631287576&refinements=p_n_feature_thirteen_browse-bin%3A12598163031%7C16757432031&rnid=12598141031&s=computers&sr=1-3',\n",
       " 'https://www.amazon.in/Notebook-Horizon-i7-10510U-Graphics-XMA1904-AF/dp/B089DFJHZ8/ref=sr_1_4?dchild=1&keywords=laptops&qid=1631287576&refinements=p_n_feature_thirteen_browse-bin%3A12598163031%7C16757432031&rnid=12598141031&s=computers&sr=1-4',\n",
       " 'https://www.amazon.in/Lenovo-IdeaPad-250Nits-Graphics-81Y4019EIN/dp/B097TZMG7R/ref=sr_1_5?dchild=1&keywords=laptops&qid=1631287576&refinements=p_n_feature_thirteen_browse-bin%3A12598163031%7C16757432031&rnid=12598141031&s=computers&sr=1-5',\n",
       " 'https://www.amazon.in/MSI-i7-10750H-IPS-Level-Windows-10SCXR-654IN/dp/B093L8QGL7/ref=sr_1_6?dchild=1&keywords=laptops&qid=1631287576&refinements=p_n_feature_thirteen_browse-bin%3A12598163031%7C16757432031&rnid=12598141031&s=computers&sr=1-6',\n",
       " 'https://www.amazon.in/ASUS-Dash-F15-15-6-inch-i7-11370H-FX516PC-HN063T/dp/B096KVJ5PC/ref=sr_1_7?dchild=1&keywords=laptops&qid=1631287576&refinements=p_n_feature_thirteen_browse-bin%3A12598163031%7C16757432031&rnid=12598141031&s=computers&sr=1-7',\n",
       " 'https://www.amazon.in/HP-Pavilion-Gaming-Laptop-15-DK1511TX/dp/B0972H63VL/ref=sr_1_8?dchild=1&keywords=laptops&qid=1631287576&refinements=p_n_feature_thirteen_browse-bin%3A12598163031%7C16757432031&rnid=12598141031&s=computers&sr=1-8',\n",
       " 'https://www.amazon.in/ASUS-17-3-inch-i7-11800H-GeForce-RTX-3050-Ti-FX766HE-HX022T/dp/B0987S6PG1/ref=sr_1_9?dchild=1&keywords=laptops&qid=1631287576&refinements=p_n_feature_thirteen_browse-bin%3A12598163031%7C16757432031&rnid=12598141031&s=computers&sr=1-9',\n",
       " 'https://www.amazon.in/Fujitsu-33-78cm-Convertible-Graphics-4ZR1D71993/dp/B098P4M233/ref=sr_1_10?dchild=1&keywords=laptops&qid=1631287576&refinements=p_n_feature_thirteen_browse-bin%3A12598163031%7C16757432031&rnid=12598141031&s=computers&sr=1-10',\n",
       " 'https://www.amazon.in/HP-Pavilion-13-3-inch-Ceramic-13-bb0078TU/dp/B09839P9XB/ref=sr_1_11?dchild=1&keywords=laptops&qid=1631287576&refinements=p_n_feature_thirteen_browse-bin%3A12598163031%7C16757432031&rnid=12598141031&s=computers&sr=1-11',\n",
       " 'https://www.amazon.in/Acer-39-62cms-Graphics-GeForce-AN515-57/dp/B09C8HZMW2/ref=sr_1_12?dchild=1&keywords=laptops&qid=1631287576&refinements=p_n_feature_thirteen_browse-bin%3A12598163031%7C16757432031&rnid=12598141031&s=computers&sr=1-12',\n",
       " 'https://www.amazon.in/HP-Pavilion-Touchscreen-Convertible-14-dw1040TU/dp/B08R843NHL/ref=sr_1_13?dchild=1&keywords=laptops&qid=1631287576&refinements=p_n_feature_thirteen_browse-bin%3A12598163031%7C16757432031&rnid=12598141031&s=computers&sr=1-13',\n",
       " 'https://www.amazon.in/Asus-G703GI-E5148T-17-3-inch-i9-8950HK-Processor/dp/B07GRCW51K/ref=sr_1_14?dchild=1&keywords=laptops&qid=1631287576&refinements=p_n_feature_thirteen_browse-bin%3A12598163031%7C16757432031&rnid=12598141031&s=computers&sr=1-14',\n",
       " 'https://www.amazon.in/HP-Pavilion-Graphics-35-56cms-14-dv0058TU/dp/B08WB857GB/ref=sr_1_15?dchild=1&keywords=laptops&qid=1631287576&refinements=p_n_feature_thirteen_browse-bin%3A12598163031%7C16757432031&rnid=12598141031&s=computers&sr=1-15',\n",
       " 'https://www.amazon.in/Fujitsu-33-78cm-Graphics-Fingerprint-4ZR1D67596/dp/B098P34QRL/ref=sr_1_16?dchild=1&keywords=laptops&qid=1631287576&refinements=p_n_feature_thirteen_browse-bin%3A12598163031%7C16757432031&rnid=12598141031&s=computers&sr=1-16',\n",
       " 'https://www.amazon.in/13-3-inch-TOUCHSCREEN-Integrated-Graphics-EliteBook/dp/B09CMZLGYG/ref=sr_1_17?dchild=1&keywords=laptops&qid=1631287576&refinements=p_n_feature_thirteen_browse-bin%3A12598163031%7C16757432031&rnid=12598141031&s=computers&sr=1-17',\n",
       " 'https://www.amazon.in/Acer-Swift-Display-Ultra-Notebook/dp/B08M3YFPRC/ref=sr_1_18?dchild=1&keywords=laptops&qid=1631287576&refinements=p_n_feature_thirteen_browse-bin%3A12598163031%7C16757432031&rnid=12598141031&s=computers&sr=1-18',\n",
       " 'https://www.amazon.in/15-6-inch-HP-ZBook-15-Workstation/dp/B09DQ4DZ5N/ref=sr_1_19?dchild=1&keywords=laptops&qid=1631287576&refinements=p_n_feature_thirteen_browse-bin%3A12598163031%7C16757432031&rnid=12598141031&s=computers&sr=1-19',\n",
       " 'https://www.amazon.in/ASUS-VivoBook-i7-1165G7-Graphics-S433EA-AM701TS/dp/B08PQTZB3Z/ref=sr_1_20?dchild=1&keywords=laptops&qid=1631287576&refinements=p_n_feature_thirteen_browse-bin%3A12598163031%7C16757432031&rnid=12598141031&s=computers&sr=1-20',\n",
       " 'https://www.amazon.in/15-6-inch-HP-ZBook-15-Workstation/dp/B09DQ33KWV/ref=sr_1_21?dchild=1&keywords=laptops&qid=1631287576&refinements=p_n_feature_thirteen_browse-bin%3A12598163031%7C16757432031&rnid=12598141031&s=computers&sr=1-21',\n",
       " 'https://www.amazon.in/ASUS-ZenBook-i7-1165G7-Graphics-UX425EA-KI701TS/dp/B0983W8HR4/ref=sr_1_22?dchild=1&keywords=laptops&qid=1631287576&refinements=p_n_feature_thirteen_browse-bin%3A12598163031%7C16757432031&rnid=12598141031&s=computers&sr=1-22',\n",
       " 'https://www.amazon.in/ASUS-ZenBook-i7-1165G7-Graphics-UX425EA-BM701TS/dp/B08M4SWRR5/ref=sr_1_23?dchild=1&keywords=laptops&qid=1631287576&refinements=p_n_feature_thirteen_browse-bin%3A12598163031%7C16757432031&rnid=12598141031&s=computers&sr=1-23',\n",
       " 'https://www.amazon.in/15-6-inch-HP-ZBook-15-Workstation/dp/B09DQ2ZKRS/ref=sr_1_24?dchild=1&keywords=laptops&qid=1631287576&refinements=p_n_feature_thirteen_browse-bin%3A12598163031%7C16757432031&rnid=12598141031&s=computers&sr=1-24',\n",
       " 'https://www.amazon.in/Acer-Predator-Helios-Gaming-Laptop/dp/B098LKKRCR/ref=sr_1_25?dchild=1&keywords=laptops&qid=1631287576&refinements=p_n_feature_thirteen_browse-bin%3A12598163031%7C16757432031&rnid=12598141031&s=computers&sr=1-25',\n",
       " 'https://www.amazon.in/ASUS-15-6-inch-i7-11800H-GeForce-RTX-3050-FX566HC-HN093T/dp/B0987SKPZ3/ref=sr_1_26?dchild=1&keywords=laptops&qid=1631287576&refinements=p_n_feature_thirteen_browse-bin%3A12598163031%7C16757432031&rnid=12598141031&s=computers&sr=1-26']"
      ]
     },
     "execution_count": 442,
     "metadata": {},
     "output_type": "execute_result"
    }
   ],
   "source": [
    "urls"
   ]
  },
  {
   "cell_type": "code",
   "execution_count": 443,
   "metadata": {},
   "outputs": [
    {
     "data": {
      "text/plain": [
       "26"
      ]
     },
     "execution_count": 443,
     "metadata": {},
     "output_type": "execute_result"
    }
   ],
   "source": [
    "len(urls)"
   ]
  },
  {
   "cell_type": "code",
   "execution_count": 444,
   "metadata": {},
   "outputs": [],
   "source": [
    "title=[]\n",
    "Ratings=[]\n",
    "Price=[]"
   ]
  },
  {
   "cell_type": "code",
   "execution_count": 445,
   "metadata": {},
   "outputs": [
    {
     "data": {
      "text/plain": [
       "[<selenium.webdriver.remote.webelement.WebElement (session=\"ec7028a77ef81614b86d76aa316c6ceb\", element=\"1a18b96c-2df6-4563-af20-f8002bac15b4\")>,\n",
       " <selenium.webdriver.remote.webelement.WebElement (session=\"ec7028a77ef81614b86d76aa316c6ceb\", element=\"3f15bf0b-cc5a-4b0e-8153-e9490fc73982\")>,\n",
       " <selenium.webdriver.remote.webelement.WebElement (session=\"ec7028a77ef81614b86d76aa316c6ceb\", element=\"acd75bb2-192e-4f39-8097-aaccb755385e\")>,\n",
       " <selenium.webdriver.remote.webelement.WebElement (session=\"ec7028a77ef81614b86d76aa316c6ceb\", element=\"4ea435c2-151e-4201-b720-0766e3a86540\")>,\n",
       " <selenium.webdriver.remote.webelement.WebElement (session=\"ec7028a77ef81614b86d76aa316c6ceb\", element=\"e51a99e4-ca23-464e-b4e5-78d2e9dbb56c\")>,\n",
       " <selenium.webdriver.remote.webelement.WebElement (session=\"ec7028a77ef81614b86d76aa316c6ceb\", element=\"dfe6105f-5e01-4abc-bf03-b21ddf1cc980\")>,\n",
       " <selenium.webdriver.remote.webelement.WebElement (session=\"ec7028a77ef81614b86d76aa316c6ceb\", element=\"6baba1bb-f9a3-49d6-b6d3-8362bde576dd\")>,\n",
       " <selenium.webdriver.remote.webelement.WebElement (session=\"ec7028a77ef81614b86d76aa316c6ceb\", element=\"decf47e2-5213-4185-a288-6e9e6308d27f\")>,\n",
       " <selenium.webdriver.remote.webelement.WebElement (session=\"ec7028a77ef81614b86d76aa316c6ceb\", element=\"3629b480-aa5f-4054-ad4e-77500baaacbe\")>,\n",
       " <selenium.webdriver.remote.webelement.WebElement (session=\"ec7028a77ef81614b86d76aa316c6ceb\", element=\"1ae1cfc0-8428-4565-8bd1-80308ac61124\")>,\n",
       " <selenium.webdriver.remote.webelement.WebElement (session=\"ec7028a77ef81614b86d76aa316c6ceb\", element=\"f63ce2dd-6edf-4315-9f44-ebd0ab5fdb2e\")>,\n",
       " <selenium.webdriver.remote.webelement.WebElement (session=\"ec7028a77ef81614b86d76aa316c6ceb\", element=\"af4520ea-0efc-4ea0-ba15-c896ba4fedc8\")>,\n",
       " <selenium.webdriver.remote.webelement.WebElement (session=\"ec7028a77ef81614b86d76aa316c6ceb\", element=\"c9939183-a32b-49ee-9dfe-22dab8b6644c\")>,\n",
       " <selenium.webdriver.remote.webelement.WebElement (session=\"ec7028a77ef81614b86d76aa316c6ceb\", element=\"2c0bdbf7-61cd-44ec-9a22-2a45c36f2d5b\")>,\n",
       " <selenium.webdriver.remote.webelement.WebElement (session=\"ec7028a77ef81614b86d76aa316c6ceb\", element=\"eeff7841-f7fe-4714-a514-d03599ef3458\")>,\n",
       " <selenium.webdriver.remote.webelement.WebElement (session=\"ec7028a77ef81614b86d76aa316c6ceb\", element=\"ff3c8113-12ed-4e53-be9c-19428f32a130\")>,\n",
       " <selenium.webdriver.remote.webelement.WebElement (session=\"ec7028a77ef81614b86d76aa316c6ceb\", element=\"888bfbad-7a80-4c19-97c7-30ecac49a7c4\")>,\n",
       " <selenium.webdriver.remote.webelement.WebElement (session=\"ec7028a77ef81614b86d76aa316c6ceb\", element=\"6e242f70-d25d-4b1f-8eb4-2d4f537d6463\")>,\n",
       " <selenium.webdriver.remote.webelement.WebElement (session=\"ec7028a77ef81614b86d76aa316c6ceb\", element=\"be44cc5c-ad65-4be0-9348-bfeaef8643eb\")>,\n",
       " <selenium.webdriver.remote.webelement.WebElement (session=\"ec7028a77ef81614b86d76aa316c6ceb\", element=\"f68a6745-9ae4-464c-9412-cc5bfe704a3a\")>,\n",
       " <selenium.webdriver.remote.webelement.WebElement (session=\"ec7028a77ef81614b86d76aa316c6ceb\", element=\"df374d10-b660-4475-b409-a22e70c0ceed\")>,\n",
       " <selenium.webdriver.remote.webelement.WebElement (session=\"ec7028a77ef81614b86d76aa316c6ceb\", element=\"b89345cc-c21f-4fcf-a9a2-c006ac1507f7\")>,\n",
       " <selenium.webdriver.remote.webelement.WebElement (session=\"ec7028a77ef81614b86d76aa316c6ceb\", element=\"bec11cf8-6776-4244-90fb-a0996439c36c\")>,\n",
       " <selenium.webdriver.remote.webelement.WebElement (session=\"ec7028a77ef81614b86d76aa316c6ceb\", element=\"d476b2ab-acb2-4d7c-819f-73c13b87902e\")>,\n",
       " <selenium.webdriver.remote.webelement.WebElement (session=\"ec7028a77ef81614b86d76aa316c6ceb\", element=\"e1af2dd8-4ff3-4b47-8982-096f2e058736\")>,\n",
       " <selenium.webdriver.remote.webelement.WebElement (session=\"ec7028a77ef81614b86d76aa316c6ceb\", element=\"831d1347-d006-4a7f-8891-28e1837c45d6\")>]"
      ]
     },
     "execution_count": 445,
     "metadata": {},
     "output_type": "execute_result"
    }
   ],
   "source": [
    "title_tag=driver.find_elements_by_xpath('//h2[@class=\"a-size-mini a-spacing-none a-color-base s-line-clamp-2\"]')\n",
    "title_tag"
   ]
  },
  {
   "cell_type": "code",
   "execution_count": 448,
   "metadata": {},
   "outputs": [
    {
     "data": {
      "text/plain": [
       "['HP Envy 11th Gen Core i7 Processor 13.3-inch (33.78 cms) FHD Touchscreen Laptop (16GB/1TB SSD/Win 10/NVIDIA MX450 2GB/Natural Silver/1.3 kg), 13-ba1018TX',\n",
       " 'Acer Swift 5 14\" (35.56cms) Full HD IPS Display with Touchscreen Ultra Thin and Light Notebook (Intel i7 - 11th Gen/16GB RAM/1TB SSD/Win10/Intel Iris Xe Graphics/1.05 Kg/Mist Green), SF514-55TA',\n",
       " 'Lenovo IdeaPad S540 11th Gen Intel Core i7 13.3\" QHD IPS Thin & Light Laptop (16GB/512GB SSD/Windows 10/MS Office 2019/Intel Iris Xe Graphics/Iron Grey/1.28Kg), 82H1002CIN',\n",
       " 'Mi Notebook Horizon Edition 14 Intel Core i7-10510U 10th Gen Thin and Light Laptop(8GB/512GB SSD/Windows 10/Nvidia MX350 2GB Graphics/Grey/1.35Kg)(Without Webcam) XMA1904-AF',\n",
       " 'Lenovo IdeaPad Gaming 3 Intel Core i7 10th Gen 15.6\" FHD IPS 250Nits Gaming Laptop (8GB/512GB SSD/Win10/NVIDIA GTX 1650 4GB GDDR6 Graphics/120Hz/Onyx Black/2.2Kg), 81Y4019EIN',\n",
       " 'MSI GF75 Thin, Intel i7-10750H, 17.3\" (43.9 cm) FHD IPS-Level 144Hz Panel Laptop (8GB/512GB NVMe SSD/Windows 10 Home/Nvidia GTX1650 4GB GDDR6/Black/2.2Kg), 10SCXR-654IN',\n",
       " 'ASUS TUF Dash F15 (2021), 15.6-inch (39.62 cms) FHD 144Hz, Intel Core i7-11370H 11th Gen, RTX 3050 4GB Graphics Gaming Laptop (16GB RAM/512GB SSD/Windows 10/Gray/2 kg), FX516PC-HN063T',\n",
       " 'HP Pavilion Gaming(2021) 10th Gen Intel Core i7 15.6-inch(39.6 cm) FHD IPS 144Hz Gaming Laptop (16GB/512GB SSD + 32GB Intel Optane/NVIDIA GTX 1650Ti 4GB/Win 10/MS Office/Shadow Black), 15-DK1511TX',\n",
       " 'ASUS TUF Gaming F17 (2021), 17.3-inch (43.94 cms) FHD 144Hz, Intel Core i7-11800H 11th Gen, GeForce RTX 3050 Ti 4GB Graphics, Gaming Laptop (16GB/1TB SSD/Windows 10/Eclipse Gray/2.6 Kg) FX766HE-HX022T',\n",
       " 'Fujitsu UH-X 11th Gen Intel Core i7 13.3” (33.78cm) FHD IPS 400Nits 2-in1 Touch Convertible Laptop (16GB/1TB SSD/Win10/Office/Iris Xe Graphics/Backlit Kb/Black/997gms), 4ZR1D71993',\n",
       " 'HP Pavilion 13(2021) 11th Gen Intel Core i7 Laptop, 16GB RAM, 1TB SSD, 13.3-inch(33.8 cm) FHD Screen, Win 10, MS Office, Ceramic White, 1.24 Kg (13-bb0078TU)',\n",
       " 'Acer Nitro 5 Core i7 11th Gen 15.6\" (39.62cms) Full HD IPS Gaming Laptop (16 GB/256GB SSD/1 TB HDD/Win 10/4 GB Graphics/NVIDIA GeForce RTX 3050 Ti/144 Hz, Black, 2.4 kg) AN515-57',\n",
       " 'HP Pavilion x360 (2021) 14\" (35.56cms) FHD Touchscreen Laptop, 11th Gen Core i7, 8 GB RAM, 512GB SSD, 2-in-1 Convertible, Windows 10, MS Office, Finger Print Reader (14-dw1040TU)',\n",
       " 'ASUS ROG G703GI-E5148T 17.3\" (43.94 cms) FHD 144Hz/3ms Gaming Laptop (8th Gen Intel Core i9-8950HK/64GB/2TB SSHD + 1.5TB NVMe SSD/Windows 10/GTX 1080 8GB Graphics/4.70 Kg), Aluminum',\n",
       " 'HP Pavilion (2021) Thin & Light 11th Gen Core i7 Laptop, 16 GB RAM, 1TB SSD, Iris Xe Graphics, 14\" (35.56cms) FHD Screen, Windows 10, MS Office, Backlit Keyboard (14-dv0058TU)',\n",
       " 'Fujitsu UH-X 11th Gen Intel i7 Core 13.3” (33.78cm) FHD IPS 400Nits Thin and Light Laptop (16GB/512GB SSD/Win10/Office/Iris Xe Graphics/Backlit Kb/ Fingerprint Reader/Black/878gms), 4ZR1D67596',\n",
       " '(Renewed) Hp Intel 7th Gen Core i7 13.3-inch (33.78 Cms) 1920 x 1080 TOUCHSCREEN Laptop (16GB RAM/1TB SSD/Windows 10 Pro/MS Office/Intel HD Integrated Graphics/ Silver/1.2Kg) EliteBook x360 G2',\n",
       " 'Acer Swift 3X 14\" FHD IPS Display Ultra Thin and Light Notebook (Intel i7 - 11th Gen/16 GB RAM+ 32GB Optane/512GB SSD/Win10/Microsoft Office 2019/Intel Iris Xe Max/Steam Blue/1.37 Kg), SF314-510G',\n",
       " '(Renewed) Hp Intel 4th Gen Core i7 15.6-inch (39.56 Cms) 1920 x 1080 Laptop (32GB RAM /1TB SSD/Windows 10 Pro/MS Office/NVIDIA Graphics/ Gray/2.5kg) HP ZBook 15 Mobile Workstation',\n",
       " 'ASUS VivoBook S S14 Intel Core i7-1165G7 11th Gen, 14-inch FHD Thin and Light Laptop (8GB RAM/512GB SSD + 32GB Optane Memory/Windows 10/Office 2019/Iris X Graphics- Indie Black/1.4 Kg), S433EA-AM701TS',\n",
       " '(Renewed) Hp Intel 4th Gen Core i7 15.6-inch (39.56 Cms) 1920 x 1080 Laptop (32GB RAM/512GB SSD/Windows 10 Pro/MS Office/NVIDIA Graphics/ Gray/2.5kg) HP ZBook 15 Mobile Workstation',\n",
       " 'ASUS ZenBook 14 (2020) Intel Core i7-1165G7 11th Gen 14-inch (35.56 cms) FHD Thin & Light Laptop (16GB/512GB SSD/Office 2019/Windows 10/Intel Iris Xᵉ Graphics/Pine Grey/1.17 kg), UX425EA-KI701TS',\n",
       " 'ASUS ZenBook 14 (2020) Intel Core i7-1165G7 11th Gen 14\" (35.56cms) FHD T&L Laptop (16GB RAM/512GB NVMe SSD/Windows 10/MS Office 2019/Intel Iris Xáµ‰ Graphics/Pine Grey/1.17 kg), UX425EA-BM701TS',\n",
       " '(Renewed) Hp Intel 4th Gen Core i7 15.6-inch (39.56 Cms) 1920 x 1080 Laptop (16GB RAM /1TB SSD/Windows 10 Pro/MS Office/NVIDIA Graphics/ Gray/2.5kg) HP ZBook 15 Mobile Workstation',\n",
       " 'Acer Predator Helios 300 Gaming Laptop Intel Core I7 10th Gen - (16 GB/1TB HDD+256 GB SSD/ Nvidia RTX 3060/Windows 10 Home/144hz) 15.6 Inches) FHD IPS Display',\n",
       " 'ASUS TUF Gaming F15 (2021), 15.6-inch (39.62 cms) FHD 144Hz, Intel Core i7-11800H 11th Gen, GeForce RTX 3050 4GB Graphics, Gaming Laptop (8GB/512GB SSD/Windows 10/Eclipse Gray/2.3 Kg), FX566HC-HN093T',\n",
       " 'HP Envy 11th Gen Core i7 Processor 13.3-inch (33.78 cms) FHD Touchscreen Laptop (16GB/1TB SSD/Win 10/NVIDIA MX450 2GB/Natural Silver/1.3 kg), 13-ba1018TX',\n",
       " 'Acer Swift 5 14\" (35.56cms) Full HD IPS Display with Touchscreen Ultra Thin and Light Notebook (Intel i7 - 11th Gen/16GB RAM/1TB SSD/Win10/Intel Iris Xe Graphics/1.05 Kg/Mist Green), SF514-55TA',\n",
       " 'Lenovo IdeaPad S540 11th Gen Intel Core i7 13.3\" QHD IPS Thin & Light Laptop (16GB/512GB SSD/Windows 10/MS Office 2019/Intel Iris Xe Graphics/Iron Grey/1.28Kg), 82H1002CIN',\n",
       " 'Mi Notebook Horizon Edition 14 Intel Core i7-10510U 10th Gen Thin and Light Laptop(8GB/512GB SSD/Windows 10/Nvidia MX350 2GB Graphics/Grey/1.35Kg)(Without Webcam) XMA1904-AF',\n",
       " 'Lenovo IdeaPad Gaming 3 Intel Core i7 10th Gen 15.6\" FHD IPS 250Nits Gaming Laptop (8GB/512GB SSD/Win10/NVIDIA GTX 1650 4GB GDDR6 Graphics/120Hz/Onyx Black/2.2Kg), 81Y4019EIN',\n",
       " 'MSI GF75 Thin, Intel i7-10750H, 17.3\" (43.9 cm) FHD IPS-Level 144Hz Panel Laptop (8GB/512GB NVMe SSD/Windows 10 Home/Nvidia GTX1650 4GB GDDR6/Black/2.2Kg), 10SCXR-654IN',\n",
       " 'ASUS TUF Dash F15 (2021), 15.6-inch (39.62 cms) FHD 144Hz, Intel Core i7-11370H 11th Gen, RTX 3050 4GB Graphics Gaming Laptop (16GB RAM/512GB SSD/Windows 10/Gray/2 kg), FX516PC-HN063T',\n",
       " 'HP Pavilion Gaming(2021) 10th Gen Intel Core i7 15.6-inch(39.6 cm) FHD IPS 144Hz Gaming Laptop (16GB/512GB SSD + 32GB Intel Optane/NVIDIA GTX 1650Ti 4GB/Win 10/MS Office/Shadow Black), 15-DK1511TX',\n",
       " 'ASUS TUF Gaming F17 (2021), 17.3-inch (43.94 cms) FHD 144Hz, Intel Core i7-11800H 11th Gen, GeForce RTX 3050 Ti 4GB Graphics, Gaming Laptop (16GB/1TB SSD/Windows 10/Eclipse Gray/2.6 Kg) FX766HE-HX022T',\n",
       " 'Fujitsu UH-X 11th Gen Intel Core i7 13.3” (33.78cm) FHD IPS 400Nits 2-in1 Touch Convertible Laptop (16GB/1TB SSD/Win10/Office/Iris Xe Graphics/Backlit Kb/Black/997gms), 4ZR1D71993',\n",
       " 'HP Pavilion 13(2021) 11th Gen Intel Core i7 Laptop, 16GB RAM, 1TB SSD, 13.3-inch(33.8 cm) FHD Screen, Win 10, MS Office, Ceramic White, 1.24 Kg (13-bb0078TU)',\n",
       " 'Acer Nitro 5 Core i7 11th Gen 15.6\" (39.62cms) Full HD IPS Gaming Laptop (16 GB/256GB SSD/1 TB HDD/Win 10/4 GB Graphics/NVIDIA GeForce RTX 3050 Ti/144 Hz, Black, 2.4 kg) AN515-57',\n",
       " 'HP Pavilion x360 (2021) 14\" (35.56cms) FHD Touchscreen Laptop, 11th Gen Core i7, 8 GB RAM, 512GB SSD, 2-in-1 Convertible, Windows 10, MS Office, Finger Print Reader (14-dw1040TU)',\n",
       " 'ASUS ROG G703GI-E5148T 17.3\" (43.94 cms) FHD 144Hz/3ms Gaming Laptop (8th Gen Intel Core i9-8950HK/64GB/2TB SSHD + 1.5TB NVMe SSD/Windows 10/GTX 1080 8GB Graphics/4.70 Kg), Aluminum',\n",
       " 'HP Pavilion (2021) Thin & Light 11th Gen Core i7 Laptop, 16 GB RAM, 1TB SSD, Iris Xe Graphics, 14\" (35.56cms) FHD Screen, Windows 10, MS Office, Backlit Keyboard (14-dv0058TU)',\n",
       " 'Fujitsu UH-X 11th Gen Intel i7 Core 13.3” (33.78cm) FHD IPS 400Nits Thin and Light Laptop (16GB/512GB SSD/Win10/Office/Iris Xe Graphics/Backlit Kb/ Fingerprint Reader/Black/878gms), 4ZR1D67596',\n",
       " '(Renewed) Hp Intel 7th Gen Core i7 13.3-inch (33.78 Cms) 1920 x 1080 TOUCHSCREEN Laptop (16GB RAM/1TB SSD/Windows 10 Pro/MS Office/Intel HD Integrated Graphics/ Silver/1.2Kg) EliteBook x360 G2',\n",
       " 'Acer Swift 3X 14\" FHD IPS Display Ultra Thin and Light Notebook (Intel i7 - 11th Gen/16 GB RAM+ 32GB Optane/512GB SSD/Win10/Microsoft Office 2019/Intel Iris Xe Max/Steam Blue/1.37 Kg), SF314-510G',\n",
       " '(Renewed) Hp Intel 4th Gen Core i7 15.6-inch (39.56 Cms) 1920 x 1080 Laptop (32GB RAM /1TB SSD/Windows 10 Pro/MS Office/NVIDIA Graphics/ Gray/2.5kg) HP ZBook 15 Mobile Workstation',\n",
       " 'ASUS VivoBook S S14 Intel Core i7-1165G7 11th Gen, 14-inch FHD Thin and Light Laptop (8GB RAM/512GB SSD + 32GB Optane Memory/Windows 10/Office 2019/Iris X Graphics- Indie Black/1.4 Kg), S433EA-AM701TS',\n",
       " '(Renewed) Hp Intel 4th Gen Core i7 15.6-inch (39.56 Cms) 1920 x 1080 Laptop (32GB RAM/512GB SSD/Windows 10 Pro/MS Office/NVIDIA Graphics/ Gray/2.5kg) HP ZBook 15 Mobile Workstation',\n",
       " 'ASUS ZenBook 14 (2020) Intel Core i7-1165G7 11th Gen 14-inch (35.56 cms) FHD Thin & Light Laptop (16GB/512GB SSD/Office 2019/Windows 10/Intel Iris Xᵉ Graphics/Pine Grey/1.17 kg), UX425EA-KI701TS',\n",
       " 'ASUS ZenBook 14 (2020) Intel Core i7-1165G7 11th Gen 14\" (35.56cms) FHD T&L Laptop (16GB RAM/512GB NVMe SSD/Windows 10/MS Office 2019/Intel Iris Xáµ‰ Graphics/Pine Grey/1.17 kg), UX425EA-BM701TS',\n",
       " '(Renewed) Hp Intel 4th Gen Core i7 15.6-inch (39.56 Cms) 1920 x 1080 Laptop (16GB RAM /1TB SSD/Windows 10 Pro/MS Office/NVIDIA Graphics/ Gray/2.5kg) HP ZBook 15 Mobile Workstation',\n",
       " 'Acer Predator Helios 300 Gaming Laptop Intel Core I7 10th Gen - (16 GB/1TB HDD+256 GB SSD/ Nvidia RTX 3060/Windows 10 Home/144hz) 15.6 Inches) FHD IPS Display',\n",
       " 'ASUS TUF Gaming F15 (2021), 15.6-inch (39.62 cms) FHD 144Hz, Intel Core i7-11800H 11th Gen, GeForce RTX 3050 4GB Graphics, Gaming Laptop (8GB/512GB SSD/Windows 10/Eclipse Gray/2.3 Kg), FX566HC-HN093T']"
      ]
     },
     "execution_count": 448,
     "metadata": {},
     "output_type": "execute_result"
    }
   ],
   "source": [
    "for i in title_tag:\n",
    "    title.append(i.text.replace(\"/n\",\"\"))\n",
    "title"
   ]
  },
  {
   "cell_type": "code",
   "execution_count": 453,
   "metadata": {},
   "outputs": [],
   "source": [
    "ratings=[]"
   ]
  },
  {
   "cell_type": "code",
   "execution_count": null,
   "metadata": {},
   "outputs": [],
   "source": []
  },
  {
   "cell_type": "code",
   "execution_count": 454,
   "metadata": {},
   "outputs": [],
   "source": [
    "for i in urls[:10]:\n",
    "    driver.get(i)\n",
    "    time.sleep(2)\n",
    "    \n",
    "    try:\n",
    "        ratings_tags=driver.find_element_by_xpath('//span[@class=\"a-size-base a-nowrap\"]')\n",
    "        ratings.append(ratings_tags.text)\n",
    "    except:\n",
    "        ratings.append('-')\n",
    "        "
   ]
  },
  {
   "cell_type": "code",
   "execution_count": 455,
   "metadata": {},
   "outputs": [
    {
     "data": {
      "text/plain": [
       "10"
      ]
     },
     "execution_count": 455,
     "metadata": {},
     "output_type": "execute_result"
    }
   ],
   "source": [
    "len(ratings)"
   ]
  },
  {
   "cell_type": "code",
   "execution_count": 456,
   "metadata": {},
   "outputs": [
    {
     "data": {
      "text/plain": [
       "['4.1 out of 5',\n",
       " '3.7 out of 5',\n",
       " '4.3 out of 5',\n",
       " '4.2 out of 5',\n",
       " '4.4 out of 5',\n",
       " '4 out of 5',\n",
       " '3.8 out of 5',\n",
       " '3.7 out of 5',\n",
       " '-',\n",
       " '4.2 out of 5']"
      ]
     },
     "execution_count": 456,
     "metadata": {},
     "output_type": "execute_result"
    }
   ],
   "source": [
    "ratings"
   ]
  },
  {
   "cell_type": "code",
   "execution_count": 457,
   "metadata": {},
   "outputs": [
    {
     "data": {
      "text/plain": [
       "[<selenium.webdriver.remote.webelement.WebElement (session=\"ec7028a77ef81614b86d76aa316c6ceb\", element=\"65f3ac47-42a8-4ed5-97d1-0f2d016fc2e3\")>,\n",
       " <selenium.webdriver.remote.webelement.WebElement (session=\"ec7028a77ef81614b86d76aa316c6ceb\", element=\"43710c88-19fa-413c-874e-56380a0d03c0\")>,\n",
       " <selenium.webdriver.remote.webelement.WebElement (session=\"ec7028a77ef81614b86d76aa316c6ceb\", element=\"f898ec47-75a8-40c1-a3fd-3dd2ba635cf7\")>,\n",
       " <selenium.webdriver.remote.webelement.WebElement (session=\"ec7028a77ef81614b86d76aa316c6ceb\", element=\"19e642a6-b374-4cad-b9f0-f58cc6181697\")>,\n",
       " <selenium.webdriver.remote.webelement.WebElement (session=\"ec7028a77ef81614b86d76aa316c6ceb\", element=\"785d18c4-ddc2-48bc-92a8-34ac0eeaeb4c\")>,\n",
       " <selenium.webdriver.remote.webelement.WebElement (session=\"ec7028a77ef81614b86d76aa316c6ceb\", element=\"4e8c7d99-fe40-4175-9f17-9b04c4ed81c7\")>,\n",
       " <selenium.webdriver.remote.webelement.WebElement (session=\"ec7028a77ef81614b86d76aa316c6ceb\", element=\"86773b33-630d-447e-84fe-223b6648afa8\")>,\n",
       " <selenium.webdriver.remote.webelement.WebElement (session=\"ec7028a77ef81614b86d76aa316c6ceb\", element=\"087f3ec6-99c4-4f41-b707-fc3647d1db15\")>,\n",
       " <selenium.webdriver.remote.webelement.WebElement (session=\"ec7028a77ef81614b86d76aa316c6ceb\", element=\"48313fda-fea5-4fe6-98c6-ce1a52d9aa46\")>,\n",
       " <selenium.webdriver.remote.webelement.WebElement (session=\"ec7028a77ef81614b86d76aa316c6ceb\", element=\"fb1288c7-0516-4d62-b6b9-07a59a445eae\")>,\n",
       " <selenium.webdriver.remote.webelement.WebElement (session=\"ec7028a77ef81614b86d76aa316c6ceb\", element=\"ff96ae33-6c37-454a-8172-5cad2e7ec802\")>,\n",
       " <selenium.webdriver.remote.webelement.WebElement (session=\"ec7028a77ef81614b86d76aa316c6ceb\", element=\"80cab09a-a4dc-46da-9187-0869b9722556\")>,\n",
       " <selenium.webdriver.remote.webelement.WebElement (session=\"ec7028a77ef81614b86d76aa316c6ceb\", element=\"a4546a8c-3fd7-44eb-b744-448a376da00b\")>,\n",
       " <selenium.webdriver.remote.webelement.WebElement (session=\"ec7028a77ef81614b86d76aa316c6ceb\", element=\"0a2d0c57-b416-415e-ad65-8481757a5880\")>,\n",
       " <selenium.webdriver.remote.webelement.WebElement (session=\"ec7028a77ef81614b86d76aa316c6ceb\", element=\"a52279f3-d535-4a91-90ee-d8dc0b0a3dfa\")>,\n",
       " <selenium.webdriver.remote.webelement.WebElement (session=\"ec7028a77ef81614b86d76aa316c6ceb\", element=\"f401b37c-0127-4ab1-87f6-4963a1ac0fd9\")>,\n",
       " <selenium.webdriver.remote.webelement.WebElement (session=\"ec7028a77ef81614b86d76aa316c6ceb\", element=\"b261f55e-bf54-4a4d-bc3e-325d7c06f56b\")>,\n",
       " <selenium.webdriver.remote.webelement.WebElement (session=\"ec7028a77ef81614b86d76aa316c6ceb\", element=\"a6db9a3c-bee5-4ac9-a0a2-66bb97f2d723\")>,\n",
       " <selenium.webdriver.remote.webelement.WebElement (session=\"ec7028a77ef81614b86d76aa316c6ceb\", element=\"654aee4c-5419-4d23-b7bf-6088ad414d96\")>,\n",
       " <selenium.webdriver.remote.webelement.WebElement (session=\"ec7028a77ef81614b86d76aa316c6ceb\", element=\"98cf5870-6e90-49b3-8988-07fc0cc2f48c\")>,\n",
       " <selenium.webdriver.remote.webelement.WebElement (session=\"ec7028a77ef81614b86d76aa316c6ceb\", element=\"963ae705-2601-4601-a5f7-2023f010f78c\")>,\n",
       " <selenium.webdriver.remote.webelement.WebElement (session=\"ec7028a77ef81614b86d76aa316c6ceb\", element=\"161cb979-691f-4f95-bf6a-1d09ebdb3513\")>,\n",
       " <selenium.webdriver.remote.webelement.WebElement (session=\"ec7028a77ef81614b86d76aa316c6ceb\", element=\"c16db81f-63ba-4b60-80a8-3ed24565b7e8\")>,\n",
       " <selenium.webdriver.remote.webelement.WebElement (session=\"ec7028a77ef81614b86d76aa316c6ceb\", element=\"bfcc4ed2-c2ef-4914-a5a2-df6ac0ad7c59\")>]"
      ]
     },
     "execution_count": 457,
     "metadata": {},
     "output_type": "execute_result"
    }
   ],
   "source": [
    "price_tag=driver.find_elements_by_xpath('//span[@class=\"a-price-whole\"]')\n",
    "price_tag"
   ]
  },
  {
   "cell_type": "code",
   "execution_count": 458,
   "metadata": {},
   "outputs": [
    {
     "data": {
      "text/plain": [
       "['1,23,550',\n",
       " '77,990',\n",
       " '57,990',\n",
       " '73,990',\n",
       " '74,990',\n",
       " '87,990',\n",
       " '89,990',\n",
       " '1,13,990',\n",
       " '1,07,990',\n",
       " '91,990',\n",
       " '96,990',\n",
       " '5,56,524',\n",
       " '94,955',\n",
       " '92,990',\n",
       " '63,999',\n",
       " '89,000',\n",
       " '52,999',\n",
       " '81,290',\n",
       " '50,999',\n",
       " '96,900',\n",
       " '99,990',\n",
       " '47,999',\n",
       " '1,16,550',\n",
       " '96,990']"
      ]
     },
     "execution_count": 458,
     "metadata": {},
     "output_type": "execute_result"
    }
   ],
   "source": [
    "price=[]\n",
    "for i in price_tag:\n",
    "    price.append(i.text)\n",
    "price"
   ]
  },
  {
   "cell_type": "code",
   "execution_count": 459,
   "metadata": {},
   "outputs": [
    {
     "data": {
      "text/html": [
       "<div>\n",
       "<style scoped>\n",
       "    .dataframe tbody tr th:only-of-type {\n",
       "        vertical-align: middle;\n",
       "    }\n",
       "\n",
       "    .dataframe tbody tr th {\n",
       "        vertical-align: top;\n",
       "    }\n",
       "\n",
       "    .dataframe thead th {\n",
       "        text-align: right;\n",
       "    }\n",
       "</style>\n",
       "<table border=\"1\" class=\"dataframe\">\n",
       "  <thead>\n",
       "    <tr style=\"text-align: right;\">\n",
       "      <th></th>\n",
       "      <th>Title</th>\n",
       "      <th>Ratings</th>\n",
       "      <th>Price</th>\n",
       "    </tr>\n",
       "  </thead>\n",
       "  <tbody>\n",
       "    <tr>\n",
       "      <th>0</th>\n",
       "      <td>HP Envy 11th Gen Core i7 Processor 13.3-inch (...</td>\n",
       "      <td>4.1 out of 5</td>\n",
       "      <td>1,23,550</td>\n",
       "    </tr>\n",
       "    <tr>\n",
       "      <th>1</th>\n",
       "      <td>Acer Swift 5 14\" (35.56cms) Full HD IPS Displa...</td>\n",
       "      <td>3.7 out of 5</td>\n",
       "      <td>77,990</td>\n",
       "    </tr>\n",
       "    <tr>\n",
       "      <th>2</th>\n",
       "      <td>Lenovo IdeaPad S540 11th Gen Intel Core i7 13....</td>\n",
       "      <td>4.3 out of 5</td>\n",
       "      <td>57,990</td>\n",
       "    </tr>\n",
       "    <tr>\n",
       "      <th>3</th>\n",
       "      <td>Mi Notebook Horizon Edition 14 Intel Core i7-1...</td>\n",
       "      <td>4.2 out of 5</td>\n",
       "      <td>73,990</td>\n",
       "    </tr>\n",
       "    <tr>\n",
       "      <th>4</th>\n",
       "      <td>Lenovo IdeaPad Gaming 3 Intel Core i7 10th Gen...</td>\n",
       "      <td>4.4 out of 5</td>\n",
       "      <td>74,990</td>\n",
       "    </tr>\n",
       "    <tr>\n",
       "      <th>5</th>\n",
       "      <td>MSI GF75 Thin, Intel i7-10750H, 17.3\" (43.9 cm...</td>\n",
       "      <td>4 out of 5</td>\n",
       "      <td>87,990</td>\n",
       "    </tr>\n",
       "    <tr>\n",
       "      <th>6</th>\n",
       "      <td>ASUS TUF Dash F15 (2021), 15.6-inch (39.62 cms...</td>\n",
       "      <td>3.8 out of 5</td>\n",
       "      <td>89,990</td>\n",
       "    </tr>\n",
       "    <tr>\n",
       "      <th>7</th>\n",
       "      <td>HP Pavilion Gaming(2021) 10th Gen Intel Core i...</td>\n",
       "      <td>3.7 out of 5</td>\n",
       "      <td>1,13,990</td>\n",
       "    </tr>\n",
       "    <tr>\n",
       "      <th>8</th>\n",
       "      <td>ASUS TUF Gaming F17 (2021), 17.3-inch (43.94 c...</td>\n",
       "      <td>-</td>\n",
       "      <td>1,07,990</td>\n",
       "    </tr>\n",
       "    <tr>\n",
       "      <th>9</th>\n",
       "      <td>Fujitsu UH-X 11th Gen Intel Core i7 13.3” (33....</td>\n",
       "      <td>4.2 out of 5</td>\n",
       "      <td>91,990</td>\n",
       "    </tr>\n",
       "  </tbody>\n",
       "</table>\n",
       "</div>"
      ],
      "text/plain": [
       "                                               Title       Ratings     Price\n",
       "0  HP Envy 11th Gen Core i7 Processor 13.3-inch (...  4.1 out of 5  1,23,550\n",
       "1  Acer Swift 5 14\" (35.56cms) Full HD IPS Displa...  3.7 out of 5    77,990\n",
       "2  Lenovo IdeaPad S540 11th Gen Intel Core i7 13....  4.3 out of 5    57,990\n",
       "3  Mi Notebook Horizon Edition 14 Intel Core i7-1...  4.2 out of 5    73,990\n",
       "4  Lenovo IdeaPad Gaming 3 Intel Core i7 10th Gen...  4.4 out of 5    74,990\n",
       "5  MSI GF75 Thin, Intel i7-10750H, 17.3\" (43.9 cm...    4 out of 5    87,990\n",
       "6  ASUS TUF Dash F15 (2021), 15.6-inch (39.62 cms...  3.8 out of 5    89,990\n",
       "7  HP Pavilion Gaming(2021) 10th Gen Intel Core i...  3.7 out of 5  1,13,990\n",
       "8  ASUS TUF Gaming F17 (2021), 17.3-inch (43.94 c...             -  1,07,990\n",
       "9  Fujitsu UH-X 11th Gen Intel Core i7 13.3” (33....  4.2 out of 5    91,990"
      ]
     },
     "execution_count": 459,
     "metadata": {},
     "output_type": "execute_result"
    }
   ],
   "source": [
    "df_laptop=pd.DataFrame({})\n",
    "df_laptop['Title']=title[:10]\n",
    "df_laptop['Ratings']=ratings[:10]\n",
    "df_laptop['Price']=price[:10]\n",
    "df_laptop"
   ]
  },
  {
   "cell_type": "code",
   "execution_count": null,
   "metadata": {},
   "outputs": [],
   "source": []
  },
  {
   "cell_type": "code",
   "execution_count": null,
   "metadata": {},
   "outputs": [],
   "source": []
  },
  {
   "cell_type": "code",
   "execution_count": null,
   "metadata": {},
   "outputs": [],
   "source": []
  },
  {
   "cell_type": "code",
   "execution_count": null,
   "metadata": {},
   "outputs": [],
   "source": []
  },
  {
   "cell_type": "code",
   "execution_count": null,
   "metadata": {},
   "outputs": [],
   "source": []
  },
  {
   "cell_type": "code",
   "execution_count": null,
   "metadata": {},
   "outputs": [],
   "source": []
  },
  {
   "cell_type": "code",
   "execution_count": null,
   "metadata": {},
   "outputs": [],
   "source": []
  },
  {
   "cell_type": "code",
   "execution_count": null,
   "metadata": {},
   "outputs": [],
   "source": []
  },
  {
   "cell_type": "code",
   "execution_count": null,
   "metadata": {},
   "outputs": [],
   "source": []
  },
  {
   "cell_type": "code",
   "execution_count": null,
   "metadata": {},
   "outputs": [],
   "source": []
  },
  {
   "cell_type": "code",
   "execution_count": null,
   "metadata": {},
   "outputs": [],
   "source": []
  },
  {
   "cell_type": "code",
   "execution_count": null,
   "metadata": {},
   "outputs": [],
   "source": []
  },
  {
   "cell_type": "code",
   "execution_count": null,
   "metadata": {},
   "outputs": [],
   "source": []
  },
  {
   "cell_type": "code",
   "execution_count": null,
   "metadata": {},
   "outputs": [],
   "source": []
  },
  {
   "cell_type": "code",
   "execution_count": null,
   "metadata": {},
   "outputs": [],
   "source": []
  },
  {
   "cell_type": "code",
   "execution_count": null,
   "metadata": {},
   "outputs": [],
   "source": []
  },
  {
   "cell_type": "code",
   "execution_count": null,
   "metadata": {},
   "outputs": [],
   "source": []
  },
  {
   "cell_type": "code",
   "execution_count": null,
   "metadata": {},
   "outputs": [],
   "source": []
  },
  {
   "cell_type": "code",
   "execution_count": null,
   "metadata": {},
   "outputs": [],
   "source": []
  },
  {
   "cell_type": "code",
   "execution_count": null,
   "metadata": {},
   "outputs": [],
   "source": []
  },
  {
   "cell_type": "code",
   "execution_count": null,
   "metadata": {},
   "outputs": [],
   "source": []
  },
  {
   "cell_type": "code",
   "execution_count": null,
   "metadata": {},
   "outputs": [],
   "source": []
  },
  {
   "cell_type": "code",
   "execution_count": null,
   "metadata": {},
   "outputs": [],
   "source": []
  },
  {
   "cell_type": "code",
   "execution_count": null,
   "metadata": {},
   "outputs": [],
   "source": []
  },
  {
   "cell_type": "code",
   "execution_count": null,
   "metadata": {},
   "outputs": [],
   "source": []
  },
  {
   "cell_type": "code",
   "execution_count": null,
   "metadata": {},
   "outputs": [],
   "source": []
  },
  {
   "cell_type": "code",
   "execution_count": null,
   "metadata": {},
   "outputs": [],
   "source": []
  },
  {
   "cell_type": "code",
   "execution_count": null,
   "metadata": {},
   "outputs": [],
   "source": []
  },
  {
   "cell_type": "code",
   "execution_count": null,
   "metadata": {},
   "outputs": [],
   "source": []
  },
  {
   "cell_type": "code",
   "execution_count": null,
   "metadata": {},
   "outputs": [],
   "source": []
  },
  {
   "cell_type": "code",
   "execution_count": null,
   "metadata": {},
   "outputs": [],
   "source": []
  },
  {
   "cell_type": "code",
   "execution_count": null,
   "metadata": {},
   "outputs": [],
   "source": []
  },
  {
   "cell_type": "code",
   "execution_count": null,
   "metadata": {},
   "outputs": [],
   "source": []
  },
  {
   "cell_type": "code",
   "execution_count": null,
   "metadata": {},
   "outputs": [],
   "source": []
  },
  {
   "cell_type": "code",
   "execution_count": null,
   "metadata": {},
   "outputs": [],
   "source": []
  },
  {
   "cell_type": "code",
   "execution_count": null,
   "metadata": {},
   "outputs": [],
   "source": []
  },
  {
   "cell_type": "code",
   "execution_count": null,
   "metadata": {},
   "outputs": [],
   "source": []
  },
  {
   "cell_type": "code",
   "execution_count": null,
   "metadata": {},
   "outputs": [],
   "source": []
  },
  {
   "cell_type": "code",
   "execution_count": 394,
   "metadata": {},
   "outputs": [
    {
     "data": {
      "text/plain": [
       "[]"
      ]
     },
     "execution_count": 394,
     "metadata": {},
     "output_type": "execute_result"
    }
   ],
   "source": []
  },
  {
   "cell_type": "code",
   "execution_count": null,
   "metadata": {},
   "outputs": [],
   "source": []
  },
  {
   "cell_type": "code",
   "execution_count": null,
   "metadata": {},
   "outputs": [],
   "source": []
  },
  {
   "cell_type": "code",
   "execution_count": null,
   "metadata": {},
   "outputs": [],
   "source": []
  },
  {
   "cell_type": "code",
   "execution_count": null,
   "metadata": {},
   "outputs": [],
   "source": []
  },
  {
   "cell_type": "code",
   "execution_count": null,
   "metadata": {},
   "outputs": [],
   "source": []
  },
  {
   "cell_type": "code",
   "execution_count": null,
   "metadata": {},
   "outputs": [],
   "source": []
  },
  {
   "cell_type": "code",
   "execution_count": null,
   "metadata": {},
   "outputs": [],
   "source": []
  },
  {
   "cell_type": "code",
   "execution_count": null,
   "metadata": {},
   "outputs": [],
   "source": []
  },
  {
   "cell_type": "code",
   "execution_count": null,
   "metadata": {},
   "outputs": [],
   "source": []
  },
  {
   "cell_type": "code",
   "execution_count": null,
   "metadata": {},
   "outputs": [],
   "source": []
  },
  {
   "cell_type": "code",
   "execution_count": null,
   "metadata": {},
   "outputs": [],
   "source": []
  },
  {
   "cell_type": "code",
   "execution_count": null,
   "metadata": {},
   "outputs": [],
   "source": []
  },
  {
   "cell_type": "code",
   "execution_count": null,
   "metadata": {},
   "outputs": [],
   "source": []
  },
  {
   "cell_type": "code",
   "execution_count": null,
   "metadata": {},
   "outputs": [],
   "source": []
  },
  {
   "cell_type": "code",
   "execution_count": null,
   "metadata": {},
   "outputs": [],
   "source": []
  },
  {
   "cell_type": "code",
   "execution_count": null,
   "metadata": {},
   "outputs": [],
   "source": []
  },
  {
   "cell_type": "code",
   "execution_count": null,
   "metadata": {},
   "outputs": [],
   "source": []
  },
  {
   "cell_type": "code",
   "execution_count": null,
   "metadata": {},
   "outputs": [],
   "source": []
  },
  {
   "cell_type": "code",
   "execution_count": null,
   "metadata": {},
   "outputs": [],
   "source": []
  },
  {
   "cell_type": "code",
   "execution_count": null,
   "metadata": {},
   "outputs": [],
   "source": []
  },
  {
   "cell_type": "code",
   "execution_count": null,
   "metadata": {},
   "outputs": [],
   "source": []
  },
  {
   "cell_type": "code",
   "execution_count": null,
   "metadata": {},
   "outputs": [],
   "source": []
  },
  {
   "cell_type": "code",
   "execution_count": null,
   "metadata": {},
   "outputs": [],
   "source": []
  },
  {
   "cell_type": "code",
   "execution_count": null,
   "metadata": {},
   "outputs": [],
   "source": []
  },
  {
   "cell_type": "code",
   "execution_count": null,
   "metadata": {},
   "outputs": [],
   "source": []
  },
  {
   "cell_type": "code",
   "execution_count": null,
   "metadata": {},
   "outputs": [],
   "source": []
  },
  {
   "cell_type": "code",
   "execution_count": null,
   "metadata": {},
   "outputs": [],
   "source": []
  },
  {
   "cell_type": "code",
   "execution_count": null,
   "metadata": {},
   "outputs": [],
   "source": []
  },
  {
   "cell_type": "code",
   "execution_count": null,
   "metadata": {},
   "outputs": [],
   "source": []
  },
  {
   "cell_type": "code",
   "execution_count": null,
   "metadata": {},
   "outputs": [],
   "source": [
    "\n"
   ]
  },
  {
   "cell_type": "code",
   "execution_count": null,
   "metadata": {},
   "outputs": [],
   "source": []
  },
  {
   "cell_type": "code",
   "execution_count": null,
   "metadata": {},
   "outputs": [],
   "source": []
  },
  {
   "cell_type": "code",
   "execution_count": null,
   "metadata": {},
   "outputs": [],
   "source": []
  },
  {
   "cell_type": "code",
   "execution_count": null,
   "metadata": {},
   "outputs": [],
   "source": []
  },
  {
   "cell_type": "code",
   "execution_count": null,
   "metadata": {},
   "outputs": [],
   "source": []
  },
  {
   "cell_type": "code",
   "execution_count": null,
   "metadata": {},
   "outputs": [],
   "source": []
  },
  {
   "cell_type": "code",
   "execution_count": null,
   "metadata": {},
   "outputs": [],
   "source": []
  },
  {
   "cell_type": "code",
   "execution_count": null,
   "metadata": {},
   "outputs": [],
   "source": []
  },
  {
   "cell_type": "code",
   "execution_count": null,
   "metadata": {},
   "outputs": [],
   "source": []
  },
  {
   "cell_type": "code",
   "execution_count": null,
   "metadata": {},
   "outputs": [],
   "source": []
  },
  {
   "cell_type": "code",
   "execution_count": null,
   "metadata": {},
   "outputs": [],
   "source": []
  },
  {
   "cell_type": "code",
   "execution_count": null,
   "metadata": {},
   "outputs": [],
   "source": []
  },
  {
   "cell_type": "code",
   "execution_count": null,
   "metadata": {},
   "outputs": [],
   "source": []
  },
  {
   "cell_type": "code",
   "execution_count": null,
   "metadata": {},
   "outputs": [],
   "source": []
  },
  {
   "cell_type": "code",
   "execution_count": null,
   "metadata": {},
   "outputs": [],
   "source": []
  },
  {
   "cell_type": "code",
   "execution_count": null,
   "metadata": {},
   "outputs": [],
   "source": []
  },
  {
   "cell_type": "code",
   "execution_count": null,
   "metadata": {},
   "outputs": [],
   "source": []
  },
  {
   "cell_type": "code",
   "execution_count": null,
   "metadata": {},
   "outputs": [],
   "source": []
  },
  {
   "cell_type": "code",
   "execution_count": null,
   "metadata": {},
   "outputs": [],
   "source": []
  },
  {
   "cell_type": "code",
   "execution_count": null,
   "metadata": {},
   "outputs": [],
   "source": []
  },
  {
   "cell_type": "code",
   "execution_count": null,
   "metadata": {},
   "outputs": [],
   "source": []
  },
  {
   "cell_type": "code",
   "execution_count": null,
   "metadata": {},
   "outputs": [],
   "source": []
  },
  {
   "cell_type": "code",
   "execution_count": null,
   "metadata": {},
   "outputs": [],
   "source": []
  },
  {
   "cell_type": "code",
   "execution_count": null,
   "metadata": {},
   "outputs": [],
   "source": []
  },
  {
   "cell_type": "code",
   "execution_count": null,
   "metadata": {},
   "outputs": [],
   "source": []
  },
  {
   "cell_type": "code",
   "execution_count": null,
   "metadata": {},
   "outputs": [],
   "source": []
  },
  {
   "cell_type": "code",
   "execution_count": null,
   "metadata": {},
   "outputs": [],
   "source": []
  },
  {
   "cell_type": "code",
   "execution_count": null,
   "metadata": {},
   "outputs": [],
   "source": []
  },
  {
   "cell_type": "code",
   "execution_count": null,
   "metadata": {},
   "outputs": [],
   "source": []
  },
  {
   "cell_type": "code",
   "execution_count": null,
   "metadata": {},
   "outputs": [],
   "source": []
  },
  {
   "cell_type": "code",
   "execution_count": null,
   "metadata": {},
   "outputs": [],
   "source": []
  },
  {
   "cell_type": "code",
   "execution_count": null,
   "metadata": {},
   "outputs": [],
   "source": []
  },
  {
   "cell_type": "code",
   "execution_count": null,
   "metadata": {},
   "outputs": [],
   "source": []
  },
  {
   "cell_type": "code",
   "execution_count": null,
   "metadata": {},
   "outputs": [],
   "source": []
  },
  {
   "cell_type": "code",
   "execution_count": null,
   "metadata": {},
   "outputs": [],
   "source": []
  },
  {
   "cell_type": "code",
   "execution_count": null,
   "metadata": {},
   "outputs": [],
   "source": []
  },
  {
   "cell_type": "code",
   "execution_count": null,
   "metadata": {},
   "outputs": [],
   "source": []
  },
  {
   "cell_type": "code",
   "execution_count": null,
   "metadata": {},
   "outputs": [],
   "source": []
  },
  {
   "cell_type": "code",
   "execution_count": null,
   "metadata": {},
   "outputs": [],
   "source": []
  },
  {
   "cell_type": "code",
   "execution_count": null,
   "metadata": {},
   "outputs": [],
   "source": []
  },
  {
   "cell_type": "code",
   "execution_count": null,
   "metadata": {},
   "outputs": [],
   "source": []
  },
  {
   "cell_type": "code",
   "execution_count": null,
   "metadata": {},
   "outputs": [],
   "source": []
  },
  {
   "cell_type": "code",
   "execution_count": null,
   "metadata": {},
   "outputs": [],
   "source": []
  },
  {
   "cell_type": "code",
   "execution_count": null,
   "metadata": {},
   "outputs": [],
   "source": []
  },
  {
   "cell_type": "code",
   "execution_count": null,
   "metadata": {},
   "outputs": [],
   "source": []
  },
  {
   "cell_type": "code",
   "execution_count": null,
   "metadata": {},
   "outputs": [],
   "source": []
  },
  {
   "cell_type": "code",
   "execution_count": null,
   "metadata": {},
   "outputs": [],
   "source": []
  },
  {
   "cell_type": "code",
   "execution_count": null,
   "metadata": {},
   "outputs": [],
   "source": []
  },
  {
   "cell_type": "code",
   "execution_count": null,
   "metadata": {},
   "outputs": [],
   "source": []
  },
  {
   "cell_type": "code",
   "execution_count": null,
   "metadata": {},
   "outputs": [],
   "source": []
  },
  {
   "cell_type": "code",
   "execution_count": null,
   "metadata": {},
   "outputs": [],
   "source": []
  },
  {
   "cell_type": "code",
   "execution_count": null,
   "metadata": {},
   "outputs": [],
   "source": []
  },
  {
   "cell_type": "code",
   "execution_count": null,
   "metadata": {},
   "outputs": [],
   "source": []
  },
  {
   "cell_type": "code",
   "execution_count": null,
   "metadata": {},
   "outputs": [],
   "source": []
  },
  {
   "cell_type": "code",
   "execution_count": null,
   "metadata": {},
   "outputs": [],
   "source": []
  },
  {
   "cell_type": "code",
   "execution_count": null,
   "metadata": {},
   "outputs": [],
   "source": []
  },
  {
   "cell_type": "code",
   "execution_count": null,
   "metadata": {},
   "outputs": [],
   "source": []
  },
  {
   "cell_type": "code",
   "execution_count": null,
   "metadata": {},
   "outputs": [],
   "source": []
  },
  {
   "cell_type": "code",
   "execution_count": null,
   "metadata": {},
   "outputs": [],
   "source": []
  },
  {
   "cell_type": "code",
   "execution_count": null,
   "metadata": {},
   "outputs": [],
   "source": []
  },
  {
   "cell_type": "code",
   "execution_count": null,
   "metadata": {},
   "outputs": [],
   "source": []
  },
  {
   "cell_type": "code",
   "execution_count": null,
   "metadata": {},
   "outputs": [],
   "source": []
  },
  {
   "cell_type": "code",
   "execution_count": null,
   "metadata": {},
   "outputs": [],
   "source": []
  },
  {
   "cell_type": "code",
   "execution_count": null,
   "metadata": {},
   "outputs": [],
   "source": []
  },
  {
   "cell_type": "code",
   "execution_count": null,
   "metadata": {},
   "outputs": [],
   "source": []
  },
  {
   "cell_type": "code",
   "execution_count": null,
   "metadata": {},
   "outputs": [],
   "source": []
  },
  {
   "cell_type": "code",
   "execution_count": null,
   "metadata": {},
   "outputs": [],
   "source": []
  },
  {
   "cell_type": "code",
   "execution_count": null,
   "metadata": {},
   "outputs": [],
   "source": []
  },
  {
   "cell_type": "code",
   "execution_count": null,
   "metadata": {},
   "outputs": [],
   "source": []
  },
  {
   "cell_type": "code",
   "execution_count": null,
   "metadata": {},
   "outputs": [],
   "source": []
  },
  {
   "cell_type": "code",
   "execution_count": null,
   "metadata": {},
   "outputs": [],
   "source": []
  },
  {
   "cell_type": "code",
   "execution_count": null,
   "metadata": {},
   "outputs": [],
   "source": []
  },
  {
   "cell_type": "code",
   "execution_count": null,
   "metadata": {},
   "outputs": [],
   "source": []
  },
  {
   "cell_type": "code",
   "execution_count": null,
   "metadata": {},
   "outputs": [],
   "source": []
  },
  {
   "cell_type": "code",
   "execution_count": null,
   "metadata": {},
   "outputs": [],
   "source": []
  },
  {
   "cell_type": "code",
   "execution_count": null,
   "metadata": {},
   "outputs": [],
   "source": []
  },
  {
   "cell_type": "code",
   "execution_count": null,
   "metadata": {},
   "outputs": [],
   "source": []
  },
  {
   "cell_type": "code",
   "execution_count": null,
   "metadata": {},
   "outputs": [],
   "source": []
  },
  {
   "cell_type": "code",
   "execution_count": null,
   "metadata": {},
   "outputs": [],
   "source": []
  },
  {
   "cell_type": "code",
   "execution_count": null,
   "metadata": {},
   "outputs": [],
   "source": []
  },
  {
   "cell_type": "code",
   "execution_count": null,
   "metadata": {},
   "outputs": [],
   "source": []
  },
  {
   "cell_type": "code",
   "execution_count": null,
   "metadata": {},
   "outputs": [],
   "source": []
  },
  {
   "cell_type": "code",
   "execution_count": null,
   "metadata": {},
   "outputs": [],
   "source": []
  },
  {
   "cell_type": "code",
   "execution_count": null,
   "metadata": {},
   "outputs": [],
   "source": []
  },
  {
   "cell_type": "code",
   "execution_count": null,
   "metadata": {},
   "outputs": [],
   "source": []
  },
  {
   "cell_type": "code",
   "execution_count": null,
   "metadata": {},
   "outputs": [],
   "source": []
  },
  {
   "cell_type": "code",
   "execution_count": null,
   "metadata": {},
   "outputs": [],
   "source": []
  },
  {
   "cell_type": "code",
   "execution_count": null,
   "metadata": {},
   "outputs": [],
   "source": []
  },
  {
   "cell_type": "code",
   "execution_count": null,
   "metadata": {},
   "outputs": [],
   "source": []
  },
  {
   "cell_type": "code",
   "execution_count": null,
   "metadata": {},
   "outputs": [],
   "source": []
  },
  {
   "cell_type": "code",
   "execution_count": null,
   "metadata": {},
   "outputs": [],
   "source": []
  },
  {
   "cell_type": "code",
   "execution_count": null,
   "metadata": {},
   "outputs": [],
   "source": []
  },
  {
   "cell_type": "code",
   "execution_count": null,
   "metadata": {},
   "outputs": [],
   "source": []
  },
  {
   "cell_type": "code",
   "execution_count": null,
   "metadata": {},
   "outputs": [],
   "source": [
    "driver=webdriver.Chrome(\"chromedriver\")\n",
    "driver.get(\"https://www.myntra.com\")\n",
    "  \n",
    "# for holding the resultant list\n",
    "shoes_list = []\n",
    "shoes_list1= []\n",
    "shoes_list2= []\n",
    "shoes_list3= []\n",
    "  \n",
    "for page in range(1, 4, 1):\n",
    "    \n",
    "    page_url = \"https://www.myntra.com/shoes\" + str(page)\n",
    "    driver.get(page_url)\n",
    "    brand = driver.find_elements_by_class_name(\"_2WkVRV\")\n",
    "    product_desc = driver.find_elements_by_class_name(\"IRpwTa\")\n",
    "    price = driver.find_elements_by_class_name(\"_30jeq3\")\n",
    "    discount = driver.find_elements_by_class_name(\"_3Ay6Sb\")\n",
    "  \n",
    "    for i in range(len(brand)):\n",
    "        sneakers_list.append([brand[i].text])\n",
    "        sneakers_list1.append([price[i].text])\n",
    "        sneakers_list2.append([lens[i].text.replace(\"..\",\"\")])\n",
    "        sneakers_list3.append([offer[i].text])\n",
    "print(sneakers_list)\n",
    "print(sneakers_list1)\n",
    "print(sneakers_list2)\n",
    "print(sneakers_list3)\n",
    "\n",
    "print(len(sneakers_list))\n",
    "print(len(sneakers_list1))\n",
    "print(len(sneakers_list2))\n",
    "print(len(sneakers_list3))\n",
    "  "
   ]
  },
  {
   "cell_type": "code",
   "execution_count": null,
   "metadata": {},
   "outputs": [],
   "source": []
  },
  {
   "cell_type": "code",
   "execution_count": null,
   "metadata": {},
   "outputs": [],
   "source": []
  },
  {
   "cell_type": "code",
   "execution_count": null,
   "metadata": {},
   "outputs": [],
   "source": []
  },
  {
   "cell_type": "code",
   "execution_count": null,
   "metadata": {},
   "outputs": [],
   "source": []
  },
  {
   "cell_type": "code",
   "execution_count": null,
   "metadata": {},
   "outputs": [],
   "source": []
  },
  {
   "cell_type": "code",
   "execution_count": null,
   "metadata": {},
   "outputs": [],
   "source": []
  },
  {
   "cell_type": "code",
   "execution_count": null,
   "metadata": {},
   "outputs": [],
   "source": []
  },
  {
   "cell_type": "code",
   "execution_count": null,
   "metadata": {},
   "outputs": [],
   "source": []
  },
  {
   "cell_type": "code",
   "execution_count": null,
   "metadata": {},
   "outputs": [],
   "source": []
  },
  {
   "cell_type": "code",
   "execution_count": null,
   "metadata": {},
   "outputs": [],
   "source": []
  },
  {
   "cell_type": "code",
   "execution_count": null,
   "metadata": {},
   "outputs": [],
   "source": []
  },
  {
   "cell_type": "code",
   "execution_count": null,
   "metadata": {},
   "outputs": [],
   "source": []
  },
  {
   "cell_type": "code",
   "execution_count": null,
   "metadata": {},
   "outputs": [],
   "source": []
  },
  {
   "cell_type": "code",
   "execution_count": null,
   "metadata": {},
   "outputs": [],
   "source": []
  },
  {
   "cell_type": "code",
   "execution_count": null,
   "metadata": {},
   "outputs": [],
   "source": []
  },
  {
   "cell_type": "code",
   "execution_count": null,
   "metadata": {},
   "outputs": [],
   "source": []
  },
  {
   "cell_type": "code",
   "execution_count": null,
   "metadata": {},
   "outputs": [],
   "source": []
  },
  {
   "cell_type": "code",
   "execution_count": null,
   "metadata": {},
   "outputs": [],
   "source": []
  },
  {
   "cell_type": "code",
   "execution_count": null,
   "metadata": {},
   "outputs": [],
   "source": []
  },
  {
   "cell_type": "code",
   "execution_count": null,
   "metadata": {},
   "outputs": [],
   "source": []
  },
  {
   "cell_type": "code",
   "execution_count": null,
   "metadata": {},
   "outputs": [],
   "source": []
  },
  {
   "cell_type": "code",
   "execution_count": null,
   "metadata": {},
   "outputs": [],
   "source": []
  },
  {
   "cell_type": "code",
   "execution_count": null,
   "metadata": {},
   "outputs": [],
   "source": []
  },
  {
   "cell_type": "code",
   "execution_count": null,
   "metadata": {},
   "outputs": [],
   "source": []
  },
  {
   "cell_type": "code",
   "execution_count": null,
   "metadata": {},
   "outputs": [],
   "source": []
  },
  {
   "cell_type": "code",
   "execution_count": null,
   "metadata": {},
   "outputs": [],
   "source": []
  },
  {
   "cell_type": "code",
   "execution_count": null,
   "metadata": {},
   "outputs": [],
   "source": []
  },
  {
   "cell_type": "code",
   "execution_count": null,
   "metadata": {},
   "outputs": [],
   "source": []
  },
  {
   "cell_type": "code",
   "execution_count": null,
   "metadata": {},
   "outputs": [],
   "source": []
  },
  {
   "cell_type": "code",
   "execution_count": null,
   "metadata": {},
   "outputs": [],
   "source": []
  },
  {
   "cell_type": "code",
   "execution_count": null,
   "metadata": {},
   "outputs": [],
   "source": []
  },
  {
   "cell_type": "code",
   "execution_count": null,
   "metadata": {},
   "outputs": [],
   "source": []
  },
  {
   "cell_type": "code",
   "execution_count": null,
   "metadata": {},
   "outputs": [],
   "source": []
  },
  {
   "cell_type": "code",
   "execution_count": null,
   "metadata": {},
   "outputs": [],
   "source": []
  },
  {
   "cell_type": "code",
   "execution_count": null,
   "metadata": {},
   "outputs": [],
   "source": []
  },
  {
   "cell_type": "code",
   "execution_count": null,
   "metadata": {},
   "outputs": [],
   "source": []
  },
  {
   "cell_type": "code",
   "execution_count": null,
   "metadata": {},
   "outputs": [],
   "source": []
  },
  {
   "cell_type": "code",
   "execution_count": null,
   "metadata": {},
   "outputs": [],
   "source": []
  },
  {
   "cell_type": "code",
   "execution_count": null,
   "metadata": {},
   "outputs": [],
   "source": []
  },
  {
   "cell_type": "code",
   "execution_count": null,
   "metadata": {},
   "outputs": [],
   "source": []
  },
  {
   "cell_type": "code",
   "execution_count": null,
   "metadata": {},
   "outputs": [],
   "source": []
  },
  {
   "cell_type": "code",
   "execution_count": null,
   "metadata": {},
   "outputs": [],
   "source": []
  },
  {
   "cell_type": "code",
   "execution_count": null,
   "metadata": {},
   "outputs": [],
   "source": []
  },
  {
   "cell_type": "code",
   "execution_count": null,
   "metadata": {},
   "outputs": [],
   "source": []
  },
  {
   "cell_type": "code",
   "execution_count": null,
   "metadata": {},
   "outputs": [],
   "source": []
  },
  {
   "cell_type": "code",
   "execution_count": null,
   "metadata": {},
   "outputs": [],
   "source": []
  },
  {
   "cell_type": "code",
   "execution_count": null,
   "metadata": {},
   "outputs": [],
   "source": []
  },
  {
   "cell_type": "code",
   "execution_count": null,
   "metadata": {},
   "outputs": [],
   "source": []
  },
  {
   "cell_type": "code",
   "execution_count": null,
   "metadata": {},
   "outputs": [],
   "source": []
  },
  {
   "cell_type": "code",
   "execution_count": null,
   "metadata": {},
   "outputs": [],
   "source": []
  },
  {
   "cell_type": "code",
   "execution_count": null,
   "metadata": {},
   "outputs": [],
   "source": []
  },
  {
   "cell_type": "code",
   "execution_count": null,
   "metadata": {},
   "outputs": [],
   "source": []
  },
  {
   "cell_type": "code",
   "execution_count": null,
   "metadata": {},
   "outputs": [],
   "source": []
  },
  {
   "cell_type": "code",
   "execution_count": null,
   "metadata": {},
   "outputs": [],
   "source": []
  },
  {
   "cell_type": "code",
   "execution_count": null,
   "metadata": {},
   "outputs": [],
   "source": []
  },
  {
   "cell_type": "code",
   "execution_count": null,
   "metadata": {},
   "outputs": [],
   "source": []
  },
  {
   "cell_type": "code",
   "execution_count": null,
   "metadata": {},
   "outputs": [],
   "source": []
  },
  {
   "cell_type": "code",
   "execution_count": null,
   "metadata": {},
   "outputs": [],
   "source": []
  },
  {
   "cell_type": "code",
   "execution_count": null,
   "metadata": {},
   "outputs": [],
   "source": []
  },
  {
   "cell_type": "code",
   "execution_count": null,
   "metadata": {},
   "outputs": [],
   "source": []
  },
  {
   "cell_type": "code",
   "execution_count": null,
   "metadata": {},
   "outputs": [],
   "source": []
  },
  {
   "cell_type": "code",
   "execution_count": null,
   "metadata": {},
   "outputs": [],
   "source": []
  },
  {
   "cell_type": "code",
   "execution_count": null,
   "metadata": {},
   "outputs": [],
   "source": []
  },
  {
   "cell_type": "code",
   "execution_count": null,
   "metadata": {},
   "outputs": [],
   "source": []
  },
  {
   "cell_type": "code",
   "execution_count": null,
   "metadata": {},
   "outputs": [],
   "source": []
  },
  {
   "cell_type": "code",
   "execution_count": null,
   "metadata": {},
   "outputs": [],
   "source": []
  },
  {
   "cell_type": "code",
   "execution_count": null,
   "metadata": {},
   "outputs": [],
   "source": []
  },
  {
   "cell_type": "code",
   "execution_count": null,
   "metadata": {},
   "outputs": [],
   "source": []
  },
  {
   "cell_type": "code",
   "execution_count": null,
   "metadata": {},
   "outputs": [],
   "source": []
  },
  {
   "cell_type": "code",
   "execution_count": null,
   "metadata": {},
   "outputs": [],
   "source": []
  },
  {
   "cell_type": "code",
   "execution_count": null,
   "metadata": {},
   "outputs": [],
   "source": []
  },
  {
   "cell_type": "code",
   "execution_count": null,
   "metadata": {},
   "outputs": [],
   "source": []
  },
  {
   "cell_type": "code",
   "execution_count": null,
   "metadata": {},
   "outputs": [],
   "source": []
  },
  {
   "cell_type": "code",
   "execution_count": null,
   "metadata": {},
   "outputs": [],
   "source": []
  },
  {
   "cell_type": "code",
   "execution_count": null,
   "metadata": {},
   "outputs": [],
   "source": []
  },
  {
   "cell_type": "code",
   "execution_count": null,
   "metadata": {},
   "outputs": [],
   "source": []
  },
  {
   "cell_type": "code",
   "execution_count": null,
   "metadata": {},
   "outputs": [],
   "source": []
  },
  {
   "cell_type": "code",
   "execution_count": null,
   "metadata": {},
   "outputs": [],
   "source": []
  },
  {
   "cell_type": "code",
   "execution_count": null,
   "metadata": {},
   "outputs": [],
   "source": []
  },
  {
   "cell_type": "code",
   "execution_count": null,
   "metadata": {},
   "outputs": [],
   "source": []
  },
  {
   "cell_type": "code",
   "execution_count": null,
   "metadata": {},
   "outputs": [],
   "source": []
  },
  {
   "cell_type": "code",
   "execution_count": null,
   "metadata": {},
   "outputs": [],
   "source": []
  },
  {
   "cell_type": "code",
   "execution_count": null,
   "metadata": {},
   "outputs": [],
   "source": []
  },
  {
   "cell_type": "code",
   "execution_count": null,
   "metadata": {},
   "outputs": [],
   "source": []
  },
  {
   "cell_type": "code",
   "execution_count": null,
   "metadata": {},
   "outputs": [],
   "source": []
  },
  {
   "cell_type": "code",
   "execution_count": null,
   "metadata": {},
   "outputs": [],
   "source": []
  },
  {
   "cell_type": "code",
   "execution_count": null,
   "metadata": {},
   "outputs": [],
   "source": []
  },
  {
   "cell_type": "code",
   "execution_count": null,
   "metadata": {},
   "outputs": [],
   "source": []
  },
  {
   "cell_type": "code",
   "execution_count": null,
   "metadata": {},
   "outputs": [],
   "source": []
  },
  {
   "cell_type": "code",
   "execution_count": null,
   "metadata": {},
   "outputs": [],
   "source": []
  },
  {
   "cell_type": "code",
   "execution_count": null,
   "metadata": {},
   "outputs": [],
   "source": []
  },
  {
   "cell_type": "code",
   "execution_count": null,
   "metadata": {},
   "outputs": [],
   "source": []
  },
  {
   "cell_type": "code",
   "execution_count": null,
   "metadata": {},
   "outputs": [],
   "source": []
  },
  {
   "cell_type": "code",
   "execution_count": null,
   "metadata": {},
   "outputs": [],
   "source": []
  },
  {
   "cell_type": "code",
   "execution_count": null,
   "metadata": {},
   "outputs": [],
   "source": []
  },
  {
   "cell_type": "code",
   "execution_count": null,
   "metadata": {},
   "outputs": [],
   "source": []
  },
  {
   "cell_type": "code",
   "execution_count": null,
   "metadata": {},
   "outputs": [],
   "source": []
  },
  {
   "cell_type": "code",
   "execution_count": null,
   "metadata": {},
   "outputs": [],
   "source": []
  },
  {
   "cell_type": "code",
   "execution_count": null,
   "metadata": {},
   "outputs": [],
   "source": []
  },
  {
   "cell_type": "code",
   "execution_count": null,
   "metadata": {},
   "outputs": [],
   "source": []
  },
  {
   "cell_type": "code",
   "execution_count": null,
   "metadata": {},
   "outputs": [],
   "source": []
  },
  {
   "cell_type": "code",
   "execution_count": null,
   "metadata": {},
   "outputs": [],
   "source": [
    "\n"
   ]
  },
  {
   "cell_type": "code",
   "execution_count": null,
   "metadata": {},
   "outputs": [],
   "source": []
  },
  {
   "cell_type": "code",
   "execution_count": null,
   "metadata": {},
   "outputs": [],
   "source": []
  },
  {
   "cell_type": "code",
   "execution_count": null,
   "metadata": {},
   "outputs": [],
   "source": []
  },
  {
   "cell_type": "code",
   "execution_count": null,
   "metadata": {},
   "outputs": [],
   "source": []
  },
  {
   "cell_type": "code",
   "execution_count": null,
   "metadata": {},
   "outputs": [],
   "source": []
  },
  {
   "cell_type": "code",
   "execution_count": null,
   "metadata": {},
   "outputs": [],
   "source": []
  },
  {
   "cell_type": "code",
   "execution_count": null,
   "metadata": {},
   "outputs": [],
   "source": []
  },
  {
   "cell_type": "code",
   "execution_count": null,
   "metadata": {},
   "outputs": [],
   "source": []
  },
  {
   "cell_type": "code",
   "execution_count": null,
   "metadata": {},
   "outputs": [],
   "source": []
  },
  {
   "cell_type": "code",
   "execution_count": null,
   "metadata": {},
   "outputs": [],
   "source": []
  },
  {
   "cell_type": "code",
   "execution_count": null,
   "metadata": {},
   "outputs": [],
   "source": []
  },
  {
   "cell_type": "code",
   "execution_count": null,
   "metadata": {},
   "outputs": [],
   "source": []
  },
  {
   "cell_type": "code",
   "execution_count": null,
   "metadata": {},
   "outputs": [],
   "source": []
  },
  {
   "cell_type": "code",
   "execution_count": null,
   "metadata": {},
   "outputs": [],
   "source": []
  },
  {
   "cell_type": "code",
   "execution_count": null,
   "metadata": {},
   "outputs": [],
   "source": []
  },
  {
   "cell_type": "code",
   "execution_count": null,
   "metadata": {},
   "outputs": [],
   "source": []
  },
  {
   "cell_type": "code",
   "execution_count": null,
   "metadata": {},
   "outputs": [],
   "source": []
  },
  {
   "cell_type": "code",
   "execution_count": null,
   "metadata": {},
   "outputs": [],
   "source": []
  },
  {
   "cell_type": "code",
   "execution_count": null,
   "metadata": {},
   "outputs": [],
   "source": []
  },
  {
   "cell_type": "code",
   "execution_count": null,
   "metadata": {},
   "outputs": [],
   "source": []
  },
  {
   "cell_type": "code",
   "execution_count": null,
   "metadata": {},
   "outputs": [],
   "source": []
  },
  {
   "cell_type": "code",
   "execution_count": null,
   "metadata": {},
   "outputs": [],
   "source": []
  },
  {
   "cell_type": "code",
   "execution_count": null,
   "metadata": {},
   "outputs": [],
   "source": []
  },
  {
   "cell_type": "code",
   "execution_count": null,
   "metadata": {},
   "outputs": [],
   "source": []
  },
  {
   "cell_type": "code",
   "execution_count": null,
   "metadata": {},
   "outputs": [],
   "source": []
  },
  {
   "cell_type": "code",
   "execution_count": null,
   "metadata": {},
   "outputs": [],
   "source": []
  },
  {
   "cell_type": "code",
   "execution_count": null,
   "metadata": {},
   "outputs": [],
   "source": []
  },
  {
   "cell_type": "code",
   "execution_count": null,
   "metadata": {},
   "outputs": [],
   "source": []
  },
  {
   "cell_type": "code",
   "execution_count": null,
   "metadata": {},
   "outputs": [],
   "source": []
  },
  {
   "cell_type": "code",
   "execution_count": null,
   "metadata": {},
   "outputs": [],
   "source": []
  },
  {
   "cell_type": "code",
   "execution_count": null,
   "metadata": {},
   "outputs": [],
   "source": []
  },
  {
   "cell_type": "code",
   "execution_count": null,
   "metadata": {},
   "outputs": [],
   "source": []
  },
  {
   "cell_type": "code",
   "execution_count": null,
   "metadata": {},
   "outputs": [],
   "source": []
  },
  {
   "cell_type": "code",
   "execution_count": null,
   "metadata": {},
   "outputs": [],
   "source": []
  },
  {
   "cell_type": "code",
   "execution_count": null,
   "metadata": {},
   "outputs": [],
   "source": []
  },
  {
   "cell_type": "code",
   "execution_count": null,
   "metadata": {},
   "outputs": [],
   "source": []
  },
  {
   "cell_type": "code",
   "execution_count": null,
   "metadata": {},
   "outputs": [],
   "source": []
  },
  {
   "cell_type": "code",
   "execution_count": null,
   "metadata": {},
   "outputs": [],
   "source": []
  },
  {
   "cell_type": "code",
   "execution_count": null,
   "metadata": {},
   "outputs": [],
   "source": []
  },
  {
   "cell_type": "code",
   "execution_count": null,
   "metadata": {},
   "outputs": [],
   "source": []
  },
  {
   "cell_type": "code",
   "execution_count": null,
   "metadata": {},
   "outputs": [],
   "source": []
  },
  {
   "cell_type": "code",
   "execution_count": null,
   "metadata": {},
   "outputs": [],
   "source": []
  },
  {
   "cell_type": "code",
   "execution_count": null,
   "metadata": {},
   "outputs": [],
   "source": []
  },
  {
   "cell_type": "code",
   "execution_count": null,
   "metadata": {},
   "outputs": [],
   "source": []
  },
  {
   "cell_type": "code",
   "execution_count": null,
   "metadata": {},
   "outputs": [],
   "source": []
  },
  {
   "cell_type": "code",
   "execution_count": null,
   "metadata": {},
   "outputs": [],
   "source": []
  },
  {
   "cell_type": "code",
   "execution_count": null,
   "metadata": {},
   "outputs": [],
   "source": []
  },
  {
   "cell_type": "code",
   "execution_count": null,
   "metadata": {},
   "outputs": [],
   "source": []
  },
  {
   "cell_type": "code",
   "execution_count": null,
   "metadata": {},
   "outputs": [],
   "source": []
  },
  {
   "cell_type": "code",
   "execution_count": null,
   "metadata": {},
   "outputs": [],
   "source": []
  },
  {
   "cell_type": "code",
   "execution_count": null,
   "metadata": {},
   "outputs": [],
   "source": []
  },
  {
   "cell_type": "code",
   "execution_count": null,
   "metadata": {},
   "outputs": [],
   "source": []
  },
  {
   "cell_type": "code",
   "execution_count": null,
   "metadata": {},
   "outputs": [],
   "source": []
  },
  {
   "cell_type": "code",
   "execution_count": null,
   "metadata": {},
   "outputs": [],
   "source": []
  },
  {
   "cell_type": "code",
   "execution_count": null,
   "metadata": {},
   "outputs": [],
   "source": []
  },
  {
   "cell_type": "code",
   "execution_count": null,
   "metadata": {},
   "outputs": [],
   "source": []
  },
  {
   "cell_type": "code",
   "execution_count": null,
   "metadata": {},
   "outputs": [],
   "source": []
  },
  {
   "cell_type": "code",
   "execution_count": null,
   "metadata": {},
   "outputs": [],
   "source": []
  },
  {
   "cell_type": "code",
   "execution_count": null,
   "metadata": {},
   "outputs": [],
   "source": []
  },
  {
   "cell_type": "code",
   "execution_count": null,
   "metadata": {},
   "outputs": [],
   "source": []
  },
  {
   "cell_type": "code",
   "execution_count": null,
   "metadata": {},
   "outputs": [],
   "source": []
  },
  {
   "cell_type": "code",
   "execution_count": null,
   "metadata": {},
   "outputs": [],
   "source": []
  },
  {
   "cell_type": "code",
   "execution_count": null,
   "metadata": {},
   "outputs": [],
   "source": []
  },
  {
   "cell_type": "code",
   "execution_count": null,
   "metadata": {},
   "outputs": [],
   "source": []
  },
  {
   "cell_type": "code",
   "execution_count": null,
   "metadata": {},
   "outputs": [],
   "source": []
  },
  {
   "cell_type": "code",
   "execution_count": null,
   "metadata": {},
   "outputs": [],
   "source": []
  },
  {
   "cell_type": "code",
   "execution_count": null,
   "metadata": {},
   "outputs": [],
   "source": []
  },
  {
   "cell_type": "code",
   "execution_count": null,
   "metadata": {},
   "outputs": [],
   "source": []
  },
  {
   "cell_type": "code",
   "execution_count": null,
   "metadata": {},
   "outputs": [],
   "source": []
  },
  {
   "cell_type": "code",
   "execution_count": null,
   "metadata": {},
   "outputs": [],
   "source": []
  },
  {
   "cell_type": "code",
   "execution_count": null,
   "metadata": {},
   "outputs": [],
   "source": []
  },
  {
   "cell_type": "code",
   "execution_count": null,
   "metadata": {},
   "outputs": [],
   "source": []
  },
  {
   "cell_type": "code",
   "execution_count": null,
   "metadata": {},
   "outputs": [],
   "source": []
  },
  {
   "cell_type": "code",
   "execution_count": null,
   "metadata": {},
   "outputs": [],
   "source": []
  },
  {
   "cell_type": "code",
   "execution_count": null,
   "metadata": {},
   "outputs": [],
   "source": []
  },
  {
   "cell_type": "code",
   "execution_count": null,
   "metadata": {},
   "outputs": [],
   "source": []
  },
  {
   "cell_type": "code",
   "execution_count": null,
   "metadata": {},
   "outputs": [],
   "source": []
  },
  {
   "cell_type": "code",
   "execution_count": null,
   "metadata": {},
   "outputs": [],
   "source": []
  },
  {
   "cell_type": "code",
   "execution_count": null,
   "metadata": {},
   "outputs": [],
   "source": []
  },
  {
   "cell_type": "code",
   "execution_count": null,
   "metadata": {},
   "outputs": [],
   "source": []
  },
  {
   "cell_type": "code",
   "execution_count": null,
   "metadata": {},
   "outputs": [],
   "source": []
  },
  {
   "cell_type": "code",
   "execution_count": null,
   "metadata": {},
   "outputs": [],
   "source": []
  },
  {
   "cell_type": "code",
   "execution_count": null,
   "metadata": {},
   "outputs": [],
   "source": []
  },
  {
   "cell_type": "code",
   "execution_count": null,
   "metadata": {},
   "outputs": [],
   "source": []
  },
  {
   "cell_type": "code",
   "execution_count": null,
   "metadata": {},
   "outputs": [],
   "source": []
  },
  {
   "cell_type": "code",
   "execution_count": null,
   "metadata": {},
   "outputs": [],
   "source": []
  },
  {
   "cell_type": "code",
   "execution_count": null,
   "metadata": {},
   "outputs": [],
   "source": []
  },
  {
   "cell_type": "code",
   "execution_count": null,
   "metadata": {},
   "outputs": [],
   "source": []
  },
  {
   "cell_type": "code",
   "execution_count": null,
   "metadata": {},
   "outputs": [],
   "source": []
  },
  {
   "cell_type": "code",
   "execution_count": null,
   "metadata": {},
   "outputs": [],
   "source": []
  },
  {
   "cell_type": "code",
   "execution_count": null,
   "metadata": {},
   "outputs": [],
   "source": []
  },
  {
   "cell_type": "code",
   "execution_count": null,
   "metadata": {},
   "outputs": [],
   "source": []
  },
  {
   "cell_type": "code",
   "execution_count": null,
   "metadata": {},
   "outputs": [],
   "source": []
  },
  {
   "cell_type": "code",
   "execution_count": null,
   "metadata": {},
   "outputs": [],
   "source": []
  },
  {
   "cell_type": "code",
   "execution_count": null,
   "metadata": {},
   "outputs": [],
   "source": []
  },
  {
   "cell_type": "code",
   "execution_count": null,
   "metadata": {},
   "outputs": [],
   "source": []
  },
  {
   "cell_type": "code",
   "execution_count": null,
   "metadata": {},
   "outputs": [],
   "source": []
  },
  {
   "cell_type": "code",
   "execution_count": null,
   "metadata": {},
   "outputs": [],
   "source": []
  },
  {
   "cell_type": "code",
   "execution_count": null,
   "metadata": {},
   "outputs": [],
   "source": []
  },
  {
   "cell_type": "code",
   "execution_count": null,
   "metadata": {},
   "outputs": [],
   "source": []
  },
  {
   "cell_type": "code",
   "execution_count": null,
   "metadata": {},
   "outputs": [],
   "source": []
  },
  {
   "cell_type": "code",
   "execution_count": null,
   "metadata": {},
   "outputs": [],
   "source": []
  },
  {
   "cell_type": "code",
   "execution_count": null,
   "metadata": {},
   "outputs": [],
   "source": []
  },
  {
   "cell_type": "code",
   "execution_count": null,
   "metadata": {},
   "outputs": [],
   "source": []
  },
  {
   "cell_type": "code",
   "execution_count": null,
   "metadata": {},
   "outputs": [],
   "source": []
  },
  {
   "cell_type": "code",
   "execution_count": null,
   "metadata": {},
   "outputs": [],
   "source": []
  },
  {
   "cell_type": "code",
   "execution_count": null,
   "metadata": {},
   "outputs": [],
   "source": []
  },
  {
   "cell_type": "code",
   "execution_count": null,
   "metadata": {},
   "outputs": [],
   "source": []
  },
  {
   "cell_type": "code",
   "execution_count": null,
   "metadata": {},
   "outputs": [],
   "source": []
  },
  {
   "cell_type": "code",
   "execution_count": null,
   "metadata": {},
   "outputs": [],
   "source": []
  },
  {
   "cell_type": "code",
   "execution_count": null,
   "metadata": {},
   "outputs": [],
   "source": []
  },
  {
   "cell_type": "code",
   "execution_count": null,
   "metadata": {},
   "outputs": [],
   "source": []
  },
  {
   "cell_type": "code",
   "execution_count": null,
   "metadata": {},
   "outputs": [],
   "source": []
  },
  {
   "cell_type": "code",
   "execution_count": null,
   "metadata": {},
   "outputs": [],
   "source": []
  },
  {
   "cell_type": "code",
   "execution_count": null,
   "metadata": {},
   "outputs": [],
   "source": []
  },
  {
   "cell_type": "code",
   "execution_count": null,
   "metadata": {},
   "outputs": [],
   "source": []
  },
  {
   "cell_type": "code",
   "execution_count": null,
   "metadata": {},
   "outputs": [],
   "source": []
  },
  {
   "cell_type": "code",
   "execution_count": null,
   "metadata": {},
   "outputs": [],
   "source": []
  },
  {
   "cell_type": "code",
   "execution_count": null,
   "metadata": {},
   "outputs": [],
   "source": []
  },
  {
   "cell_type": "code",
   "execution_count": null,
   "metadata": {},
   "outputs": [],
   "source": []
  },
  {
   "cell_type": "code",
   "execution_count": null,
   "metadata": {},
   "outputs": [],
   "source": []
  },
  {
   "cell_type": "code",
   "execution_count": null,
   "metadata": {},
   "outputs": [],
   "source": []
  },
  {
   "cell_type": "code",
   "execution_count": null,
   "metadata": {},
   "outputs": [],
   "source": []
  },
  {
   "cell_type": "code",
   "execution_count": null,
   "metadata": {},
   "outputs": [],
   "source": []
  },
  {
   "cell_type": "code",
   "execution_count": null,
   "metadata": {},
   "outputs": [],
   "source": []
  },
  {
   "cell_type": "code",
   "execution_count": null,
   "metadata": {},
   "outputs": [],
   "source": []
  },
  {
   "cell_type": "code",
   "execution_count": null,
   "metadata": {},
   "outputs": [],
   "source": []
  },
  {
   "cell_type": "code",
   "execution_count": null,
   "metadata": {},
   "outputs": [],
   "source": []
  },
  {
   "cell_type": "code",
   "execution_count": null,
   "metadata": {},
   "outputs": [],
   "source": []
  },
  {
   "cell_type": "code",
   "execution_count": null,
   "metadata": {},
   "outputs": [],
   "source": []
  },
  {
   "cell_type": "code",
   "execution_count": null,
   "metadata": {},
   "outputs": [],
   "source": []
  },
  {
   "cell_type": "code",
   "execution_count": null,
   "metadata": {},
   "outputs": [],
   "source": []
  },
  {
   "cell_type": "code",
   "execution_count": null,
   "metadata": {},
   "outputs": [],
   "source": []
  },
  {
   "cell_type": "code",
   "execution_count": null,
   "metadata": {},
   "outputs": [],
   "source": []
  },
  {
   "cell_type": "code",
   "execution_count": null,
   "metadata": {},
   "outputs": [],
   "source": []
  },
  {
   "cell_type": "code",
   "execution_count": null,
   "metadata": {},
   "outputs": [],
   "source": []
  },
  {
   "cell_type": "code",
   "execution_count": null,
   "metadata": {},
   "outputs": [],
   "source": []
  },
  {
   "cell_type": "code",
   "execution_count": null,
   "metadata": {},
   "outputs": [],
   "source": []
  },
  {
   "cell_type": "code",
   "execution_count": null,
   "metadata": {},
   "outputs": [],
   "source": []
  },
  {
   "cell_type": "code",
   "execution_count": null,
   "metadata": {},
   "outputs": [],
   "source": []
  },
  {
   "cell_type": "code",
   "execution_count": null,
   "metadata": {},
   "outputs": [],
   "source": []
  },
  {
   "cell_type": "code",
   "execution_count": null,
   "metadata": {},
   "outputs": [],
   "source": []
  },
  {
   "cell_type": "code",
   "execution_count": null,
   "metadata": {},
   "outputs": [],
   "source": []
  },
  {
   "cell_type": "code",
   "execution_count": null,
   "metadata": {},
   "outputs": [],
   "source": []
  },
  {
   "cell_type": "code",
   "execution_count": null,
   "metadata": {},
   "outputs": [],
   "source": []
  },
  {
   "cell_type": "code",
   "execution_count": null,
   "metadata": {},
   "outputs": [],
   "source": []
  },
  {
   "cell_type": "code",
   "execution_count": null,
   "metadata": {},
   "outputs": [],
   "source": []
  },
  {
   "cell_type": "code",
   "execution_count": null,
   "metadata": {},
   "outputs": [],
   "source": []
  },
  {
   "cell_type": "code",
   "execution_count": null,
   "metadata": {},
   "outputs": [],
   "source": []
  },
  {
   "cell_type": "code",
   "execution_count": null,
   "metadata": {},
   "outputs": [],
   "source": []
  },
  {
   "cell_type": "code",
   "execution_count": null,
   "metadata": {},
   "outputs": [],
   "source": []
  },
  {
   "cell_type": "code",
   "execution_count": null,
   "metadata": {},
   "outputs": [],
   "source": []
  },
  {
   "cell_type": "code",
   "execution_count": null,
   "metadata": {},
   "outputs": [],
   "source": []
  },
  {
   "cell_type": "code",
   "execution_count": null,
   "metadata": {},
   "outputs": [],
   "source": []
  },
  {
   "cell_type": "code",
   "execution_count": null,
   "metadata": {},
   "outputs": [],
   "source": []
  },
  {
   "cell_type": "code",
   "execution_count": null,
   "metadata": {},
   "outputs": [],
   "source": []
  },
  {
   "cell_type": "code",
   "execution_count": null,
   "metadata": {},
   "outputs": [],
   "source": []
  },
  {
   "cell_type": "code",
   "execution_count": null,
   "metadata": {},
   "outputs": [],
   "source": []
  },
  {
   "cell_type": "code",
   "execution_count": null,
   "metadata": {},
   "outputs": [],
   "source": []
  },
  {
   "cell_type": "code",
   "execution_count": null,
   "metadata": {},
   "outputs": [],
   "source": []
  },
  {
   "cell_type": "code",
   "execution_count": null,
   "metadata": {},
   "outputs": [],
   "source": []
  },
  {
   "cell_type": "code",
   "execution_count": null,
   "metadata": {},
   "outputs": [],
   "source": []
  },
  {
   "cell_type": "code",
   "execution_count": null,
   "metadata": {},
   "outputs": [],
   "source": []
  },
  {
   "cell_type": "code",
   "execution_count": null,
   "metadata": {},
   "outputs": [],
   "source": []
  },
  {
   "cell_type": "code",
   "execution_count": null,
   "metadata": {},
   "outputs": [],
   "source": []
  },
  {
   "cell_type": "code",
   "execution_count": null,
   "metadata": {},
   "outputs": [],
   "source": []
  },
  {
   "cell_type": "code",
   "execution_count": null,
   "metadata": {},
   "outputs": [],
   "source": []
  },
  {
   "cell_type": "code",
   "execution_count": null,
   "metadata": {},
   "outputs": [],
   "source": []
  },
  {
   "cell_type": "code",
   "execution_count": null,
   "metadata": {},
   "outputs": [],
   "source": []
  },
  {
   "cell_type": "code",
   "execution_count": null,
   "metadata": {},
   "outputs": [],
   "source": []
  },
  {
   "cell_type": "code",
   "execution_count": null,
   "metadata": {},
   "outputs": [],
   "source": []
  },
  {
   "cell_type": "code",
   "execution_count": null,
   "metadata": {},
   "outputs": [],
   "source": []
  },
  {
   "cell_type": "code",
   "execution_count": null,
   "metadata": {},
   "outputs": [],
   "source": []
  },
  {
   "cell_type": "code",
   "execution_count": null,
   "metadata": {},
   "outputs": [],
   "source": []
  },
  {
   "cell_type": "code",
   "execution_count": null,
   "metadata": {},
   "outputs": [],
   "source": []
  },
  {
   "cell_type": "code",
   "execution_count": null,
   "metadata": {},
   "outputs": [],
   "source": []
  },
  {
   "cell_type": "code",
   "execution_count": null,
   "metadata": {},
   "outputs": [],
   "source": []
  },
  {
   "cell_type": "code",
   "execution_count": null,
   "metadata": {},
   "outputs": [],
   "source": []
  },
  {
   "cell_type": "code",
   "execution_count": null,
   "metadata": {},
   "outputs": [],
   "source": []
  },
  {
   "cell_type": "code",
   "execution_count": null,
   "metadata": {},
   "outputs": [],
   "source": []
  },
  {
   "cell_type": "code",
   "execution_count": null,
   "metadata": {},
   "outputs": [],
   "source": []
  },
  {
   "cell_type": "code",
   "execution_count": null,
   "metadata": {},
   "outputs": [],
   "source": []
  },
  {
   "cell_type": "code",
   "execution_count": null,
   "metadata": {},
   "outputs": [],
   "source": []
  },
  {
   "cell_type": "code",
   "execution_count": null,
   "metadata": {},
   "outputs": [],
   "source": []
  },
  {
   "cell_type": "code",
   "execution_count": null,
   "metadata": {},
   "outputs": [],
   "source": []
  },
  {
   "cell_type": "code",
   "execution_count": null,
   "metadata": {},
   "outputs": [],
   "source": []
  },
  {
   "cell_type": "code",
   "execution_count": null,
   "metadata": {},
   "outputs": [],
   "source": []
  },
  {
   "cell_type": "code",
   "execution_count": null,
   "metadata": {},
   "outputs": [],
   "source": []
  },
  {
   "cell_type": "code",
   "execution_count": null,
   "metadata": {},
   "outputs": [],
   "source": []
  },
  {
   "cell_type": "code",
   "execution_count": null,
   "metadata": {},
   "outputs": [],
   "source": []
  },
  {
   "cell_type": "code",
   "execution_count": null,
   "metadata": {},
   "outputs": [],
   "source": []
  },
  {
   "cell_type": "code",
   "execution_count": null,
   "metadata": {},
   "outputs": [],
   "source": []
  },
  {
   "cell_type": "code",
   "execution_count": null,
   "metadata": {},
   "outputs": [],
   "source": []
  },
  {
   "cell_type": "code",
   "execution_count": null,
   "metadata": {},
   "outputs": [],
   "source": []
  },
  {
   "cell_type": "code",
   "execution_count": null,
   "metadata": {},
   "outputs": [],
   "source": []
  },
  {
   "cell_type": "code",
   "execution_count": null,
   "metadata": {},
   "outputs": [],
   "source": []
  },
  {
   "cell_type": "code",
   "execution_count": null,
   "metadata": {},
   "outputs": [],
   "source": []
  },
  {
   "cell_type": "code",
   "execution_count": null,
   "metadata": {},
   "outputs": [],
   "source": []
  },
  {
   "cell_type": "code",
   "execution_count": null,
   "metadata": {},
   "outputs": [],
   "source": []
  },
  {
   "cell_type": "code",
   "execution_count": null,
   "metadata": {},
   "outputs": [],
   "source": []
  },
  {
   "cell_type": "code",
   "execution_count": null,
   "metadata": {},
   "outputs": [],
   "source": []
  },
  {
   "cell_type": "code",
   "execution_count": null,
   "metadata": {},
   "outputs": [],
   "source": []
  },
  {
   "cell_type": "code",
   "execution_count": null,
   "metadata": {},
   "outputs": [],
   "source": []
  },
  {
   "cell_type": "code",
   "execution_count": null,
   "metadata": {},
   "outputs": [],
   "source": []
  },
  {
   "cell_type": "code",
   "execution_count": null,
   "metadata": {},
   "outputs": [],
   "source": []
  },
  {
   "cell_type": "code",
   "execution_count": null,
   "metadata": {},
   "outputs": [],
   "source": []
  },
  {
   "cell_type": "code",
   "execution_count": null,
   "metadata": {},
   "outputs": [],
   "source": []
  },
  {
   "cell_type": "code",
   "execution_count": null,
   "metadata": {},
   "outputs": [],
   "source": []
  },
  {
   "cell_type": "code",
   "execution_count": null,
   "metadata": {},
   "outputs": [],
   "source": []
  },
  {
   "cell_type": "code",
   "execution_count": null,
   "metadata": {},
   "outputs": [],
   "source": []
  },
  {
   "cell_type": "code",
   "execution_count": null,
   "metadata": {},
   "outputs": [],
   "source": []
  },
  {
   "cell_type": "code",
   "execution_count": null,
   "metadata": {},
   "outputs": [],
   "source": []
  },
  {
   "cell_type": "code",
   "execution_count": null,
   "metadata": {},
   "outputs": [],
   "source": []
  },
  {
   "cell_type": "code",
   "execution_count": null,
   "metadata": {},
   "outputs": [],
   "source": []
  },
  {
   "cell_type": "code",
   "execution_count": null,
   "metadata": {},
   "outputs": [],
   "source": []
  },
  {
   "cell_type": "code",
   "execution_count": null,
   "metadata": {},
   "outputs": [],
   "source": []
  },
  {
   "cell_type": "code",
   "execution_count": null,
   "metadata": {},
   "outputs": [],
   "source": []
  },
  {
   "cell_type": "code",
   "execution_count": null,
   "metadata": {},
   "outputs": [],
   "source": []
  },
  {
   "cell_type": "code",
   "execution_count": null,
   "metadata": {},
   "outputs": [],
   "source": []
  },
  {
   "cell_type": "code",
   "execution_count": null,
   "metadata": {},
   "outputs": [],
   "source": []
  },
  {
   "cell_type": "code",
   "execution_count": null,
   "metadata": {},
   "outputs": [],
   "source": []
  },
  {
   "cell_type": "code",
   "execution_count": null,
   "metadata": {},
   "outputs": [],
   "source": []
  },
  {
   "cell_type": "code",
   "execution_count": null,
   "metadata": {},
   "outputs": [],
   "source": []
  },
  {
   "cell_type": "code",
   "execution_count": null,
   "metadata": {},
   "outputs": [],
   "source": []
  },
  {
   "cell_type": "code",
   "execution_count": null,
   "metadata": {},
   "outputs": [],
   "source": []
  },
  {
   "cell_type": "code",
   "execution_count": null,
   "metadata": {},
   "outputs": [],
   "source": []
  },
  {
   "cell_type": "code",
   "execution_count": null,
   "metadata": {},
   "outputs": [],
   "source": []
  },
  {
   "cell_type": "code",
   "execution_count": null,
   "metadata": {},
   "outputs": [],
   "source": []
  },
  {
   "cell_type": "code",
   "execution_count": null,
   "metadata": {},
   "outputs": [],
   "source": []
  },
  {
   "cell_type": "code",
   "execution_count": null,
   "metadata": {},
   "outputs": [],
   "source": []
  },
  {
   "cell_type": "code",
   "execution_count": null,
   "metadata": {},
   "outputs": [],
   "source": []
  },
  {
   "cell_type": "code",
   "execution_count": null,
   "metadata": {},
   "outputs": [],
   "source": []
  },
  {
   "cell_type": "code",
   "execution_count": null,
   "metadata": {},
   "outputs": [],
   "source": []
  },
  {
   "cell_type": "code",
   "execution_count": null,
   "metadata": {},
   "outputs": [],
   "source": []
  },
  {
   "cell_type": "code",
   "execution_count": null,
   "metadata": {},
   "outputs": [],
   "source": []
  },
  {
   "cell_type": "code",
   "execution_count": null,
   "metadata": {},
   "outputs": [],
   "source": []
  },
  {
   "cell_type": "code",
   "execution_count": null,
   "metadata": {},
   "outputs": [],
   "source": []
  },
  {
   "cell_type": "code",
   "execution_count": null,
   "metadata": {},
   "outputs": [],
   "source": []
  },
  {
   "cell_type": "code",
   "execution_count": null,
   "metadata": {},
   "outputs": [],
   "source": []
  },
  {
   "cell_type": "code",
   "execution_count": null,
   "metadata": {},
   "outputs": [],
   "source": []
  },
  {
   "cell_type": "code",
   "execution_count": null,
   "metadata": {},
   "outputs": [],
   "source": []
  },
  {
   "cell_type": "code",
   "execution_count": null,
   "metadata": {},
   "outputs": [],
   "source": []
  },
  {
   "cell_type": "code",
   "execution_count": null,
   "metadata": {},
   "outputs": [],
   "source": []
  },
  {
   "cell_type": "code",
   "execution_count": null,
   "metadata": {},
   "outputs": [],
   "source": []
  },
  {
   "cell_type": "code",
   "execution_count": null,
   "metadata": {},
   "outputs": [],
   "source": []
  },
  {
   "cell_type": "code",
   "execution_count": null,
   "metadata": {},
   "outputs": [],
   "source": []
  },
  {
   "cell_type": "code",
   "execution_count": null,
   "metadata": {},
   "outputs": [],
   "source": []
  },
  {
   "cell_type": "code",
   "execution_count": null,
   "metadata": {},
   "outputs": [],
   "source": []
  },
  {
   "cell_type": "code",
   "execution_count": null,
   "metadata": {},
   "outputs": [],
   "source": []
  },
  {
   "cell_type": "code",
   "execution_count": null,
   "metadata": {},
   "outputs": [],
   "source": []
  },
  {
   "cell_type": "code",
   "execution_count": null,
   "metadata": {},
   "outputs": [],
   "source": []
  },
  {
   "cell_type": "code",
   "execution_count": null,
   "metadata": {},
   "outputs": [],
   "source": []
  },
  {
   "cell_type": "code",
   "execution_count": null,
   "metadata": {},
   "outputs": [],
   "source": []
  },
  {
   "cell_type": "code",
   "execution_count": null,
   "metadata": {},
   "outputs": [],
   "source": []
  },
  {
   "cell_type": "code",
   "execution_count": null,
   "metadata": {},
   "outputs": [],
   "source": []
  },
  {
   "cell_type": "code",
   "execution_count": null,
   "metadata": {},
   "outputs": [],
   "source": []
  },
  {
   "cell_type": "code",
   "execution_count": null,
   "metadata": {},
   "outputs": [],
   "source": []
  },
  {
   "cell_type": "code",
   "execution_count": null,
   "metadata": {},
   "outputs": [],
   "source": []
  },
  {
   "cell_type": "code",
   "execution_count": null,
   "metadata": {},
   "outputs": [],
   "source": []
  },
  {
   "cell_type": "code",
   "execution_count": null,
   "metadata": {},
   "outputs": [],
   "source": []
  },
  {
   "cell_type": "code",
   "execution_count": null,
   "metadata": {},
   "outputs": [],
   "source": []
  },
  {
   "cell_type": "code",
   "execution_count": null,
   "metadata": {},
   "outputs": [],
   "source": []
  },
  {
   "cell_type": "code",
   "execution_count": null,
   "metadata": {},
   "outputs": [],
   "source": []
  },
  {
   "cell_type": "code",
   "execution_count": null,
   "metadata": {},
   "outputs": [],
   "source": []
  },
  {
   "cell_type": "code",
   "execution_count": null,
   "metadata": {},
   "outputs": [],
   "source": []
  },
  {
   "cell_type": "code",
   "execution_count": null,
   "metadata": {},
   "outputs": [],
   "source": []
  },
  {
   "cell_type": "code",
   "execution_count": null,
   "metadata": {},
   "outputs": [],
   "source": []
  },
  {
   "cell_type": "code",
   "execution_count": null,
   "metadata": {},
   "outputs": [],
   "source": []
  },
  {
   "cell_type": "code",
   "execution_count": null,
   "metadata": {},
   "outputs": [],
   "source": []
  },
  {
   "cell_type": "code",
   "execution_count": null,
   "metadata": {},
   "outputs": [],
   "source": []
  },
  {
   "cell_type": "code",
   "execution_count": null,
   "metadata": {},
   "outputs": [],
   "source": []
  },
  {
   "cell_type": "code",
   "execution_count": null,
   "metadata": {},
   "outputs": [],
   "source": []
  }
 ],
 "metadata": {
  "kernelspec": {
   "display_name": "Python 3",
   "language": "python",
   "name": "python3"
  },
  "language_info": {
   "codemirror_mode": {
    "name": "ipython",
    "version": 3
   },
   "file_extension": ".py",
   "mimetype": "text/x-python",
   "name": "python",
   "nbconvert_exporter": "python",
   "pygments_lexer": "ipython3",
   "version": "3.8.5"
  }
 },
 "nbformat": 4,
 "nbformat_minor": 4
}
